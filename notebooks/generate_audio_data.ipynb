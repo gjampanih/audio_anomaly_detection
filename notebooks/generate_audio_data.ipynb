{
 "cells": [
  {
   "cell_type": "code",
   "execution_count": 1,
   "metadata": {
    "collapsed": true
   },
   "outputs": [],
   "source": [
    "import numpy as np\n",
    "import pandas as pd\n",
    "import scipy.io.wavfile as wavfile\n",
    "import os\n",
    "import numpy.random as rng\n",
    "from scipy import signal\n",
    "import matplotlib.pyplot as plt\n",
    "import pickle\n",
    "\n",
    "def rms(sig):\n",
    "    return np.sqrt(np.mean(sig**2))\n",
    "def db(PSD):\n",
    "    return 10*np.log10(PSD)"
   ]
  },
  {
   "cell_type": "code",
   "execution_count": 3,
   "outputs": [],
   "source": [
    "def butter_lowpass(cutoff, fs, order=10):\n",
    "    nyq = 0.5 * fs\n",
    "    normal_cutoff = cutoff / nyq\n",
    "    b, a = signal.butter(order, normal_cutoff, btype='low', analog=False)\n",
    "    return b, a\n",
    "def butter_lowpass_filter(data, cutoff, fs, order=5):\n",
    "    b, a = butter_lowpass(cutoff, fs, order=order)\n",
    "    y = signal.lfilter(b, a, data)\n",
    "    return y"
   ],
   "metadata": {
    "collapsed": false,
    "pycharm": {
     "name": "#%%\n"
    }
   }
  },
  {
   "cell_type": "code",
   "execution_count": 5,
   "outputs": [
    {
     "name": "stderr",
     "output_type": "stream",
     "text": [
      "/Users/girishhanumantha/Documents/GitHub/audio_anomaly_detection/venv/lib/python3.7/site-packages/librosa/util/decorators.py:88: UserWarning: PySoundFile failed. Trying audioread instead.\n",
      "  return f(*args, **kwargs)\n",
      "/Users/girishhanumantha/Documents/GitHub/audio_anomaly_detection/venv/lib/python3.7/site-packages/librosa/util/decorators.py:88: UserWarning: PySoundFile failed. Trying audioread instead.\n",
      "  return f(*args, **kwargs)\n",
      "/Users/girishhanumantha/Documents/GitHub/audio_anomaly_detection/venv/lib/python3.7/site-packages/librosa/util/decorators.py:88: UserWarning: PySoundFile failed. Trying audioread instead.\n",
      "  return f(*args, **kwargs)\n"
     ]
    }
   ],
   "source": [
    "import colorednoise as cn\n",
    "import librosa\n",
    "\n",
    "target_rms = 0.2\n",
    "base_dir = '/Users/girishhanumantha/Documents/GitHub/audio_anomaly_detection/data/external/unprocessed_audio/'\n",
    "src_list = ['FOXSPORTS_06-09-2022_09-00-00_PM_28518.mp3', 'KDMX-FM_06-09-2022_10-00-00_PM_28508.mp3',\n",
    "            'KEGL-FM_06-09-2022_10-00-00_PM_28507.mp3']\n",
    "src_names = ['FOXSPORTS', 'KDMX-FM', 'KEGL-FM']\n",
    "# src = '/Users/langchenfan/PycharmProjects/AnomalyDetection/unprocessed_audio/Mono/KDMX-FM_06-09-2022_10-00-00_PM_28508.mp3'\n",
    "# src = '/Users/langchenfan/PycharmProjects/AnomalyDetection/unprocessed_audio/Mono/KEGL-FM_06-09-2022_10-00-00_PM_28507.mp3'\n",
    "#src = '/Users/langchenfan/Documents/Radio Anomaly Detection/new_download/KTST-FM_09-01-2022_01-00-00_PM_51477.mp3'\n",
    "#### don't forget to change the output file station!!!\n",
    "for src in range(len(src_list)):\n",
    "    wav0, fs = librosa.load(base_dir + src_list[src], sr=44100)\n",
    "    n = 10 * fs  #audio clip len\n",
    "    for j in range(540):\n",
    "        if j % 10 < 2:\n",
    "            continue\n",
    "        else:\n",
    "            wav = wav0[j * n:(j + 1) * n]\n",
    "            # wav = wav/rms(wav)*target_rms\n",
    "            if j % 10 == 2 or j % 10 == 4:\n",
    "                # generate noise piece at random place\n",
    "                # noise_len = fs*round(rng.default_rng().uniform(low=3,high=8)) #noise length from 10 to 15 sec\n",
    "                # noise_start = rng.default_rng().integers(2*fs)\n",
    "                # noise = rng.default_rng().uniform(size=noise_len)\n",
    "                # noise = cn.powerlaw_psd_gaussian(0,noise_len,15000/fs)\n",
    "                # weight = (np.abs(signal.hilbert(wav[noise_start:noise_start+noise_len]))+0.08)*0.7\n",
    "                # amp = rng.default_rng().uniform(low=0.05,high=0.3)\n",
    "                # addon = np.multiply(noise*amp,weight)\n",
    "                # wav[noise_start:noise_start+noise_len] += addon\n",
    "\n",
    "                # add noise to entire piece\n",
    "                noise = cn.powerlaw_psd_gaussian(0, n, 15000 / fs)\n",
    "                weight = (np.abs(signal.hilbert(wav)) + 0.08) * 0.7\n",
    "                amp = rng.default_rng().uniform(low=0.05, high=0.3)\n",
    "                addon = np.multiply(noise * amp, weight)\n",
    "                wav += addon\n",
    "                wav = butter_lowpass_filter(wav, 18000, fs, order=30)\n",
    "                fname = '/Users/girishhanumantha/Documents/GitHub/audio_anomaly_detection/data/external/SimNoise/' + src_names[\n",
    "                    src] + str(j + 1) + '_whitenoise'\n",
    "                # wavfile.write('/Users/langchenfan/Documents/Radio Anomaly Detection/SimNoise/noise'+str(j+1)+'.wav',rate=fs,data=addon)\n",
    "                wavfile.write(fname + '.wav', rate=fs, data=wav)  #write wav files\n",
    "            elif j % 10 == 6 or j % 10 == 8:\n",
    "                fname = '/Users/girishhanumantha/Documents/GitHub/audio_anomaly_detection/data/external/CleanSim/' + src_names[\n",
    "                    src] + str(j + 1) + '_inf'\n",
    "                wavfile.write(fname + '.wav', rate=fs, data=wav)  #write wav files"
   ],
   "metadata": {
    "collapsed": false,
    "pycharm": {
     "name": "#%%\n"
    }
   }
  }
 ],
 "metadata": {
  "kernelspec": {
   "display_name": "Python 3",
   "language": "python",
   "name": "python3"
  },
  "language_info": {
   "codemirror_mode": {
    "name": "ipython",
    "version": 2
   },
   "file_extension": ".py",
   "mimetype": "text/x-python",
   "name": "python",
   "nbconvert_exporter": "python",
   "pygments_lexer": "ipython2",
   "version": "2.7.6"
  }
 },
 "nbformat": 4,
 "nbformat_minor": 0
}