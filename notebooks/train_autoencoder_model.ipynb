{
 "cells": [
  {
   "cell_type": "code",
   "execution_count": 1,
   "metadata": {
    "collapsed": true
   },
   "outputs": [
    {
     "name": "stderr",
     "output_type": "stream",
     "text": [
      "2022-10-11 05:21:38.178094: I tensorflow/core/platform/cpu_feature_guard.cc:193] This TensorFlow binary is optimized with oneAPI Deep Neural Network Library (oneDNN) to use the following CPU instructions in performance-critical operations:  AVX2 FMA\n",
      "To enable them in other operations, rebuild TensorFlow with the appropriate compiler flags.\n"
     ]
    }
   ],
   "source": [
    "# import packages\n",
    "from src.models import train_model\n",
    "import os\n",
    "import librosa as lr\n",
    "import pandas as pd"
   ]
  },
  {
   "cell_type": "code",
   "execution_count": 2,
   "outputs": [],
   "source": [
    "train_dir = '/Users/girishhanumantha/Documents/GitHub/audio_anomaly_detection/data/external/CleanSim'"
   ],
   "metadata": {
    "collapsed": false,
    "pycharm": {
     "name": "#%%\n"
    }
   }
  },
  {
   "cell_type": "code",
   "execution_count": null,
   "outputs": [],
   "source": [
    "# create features and append to a DataFrame\n",
    "df_train = pd.DataFrame()\n",
    "for audio_file in os.listdir(train_dir):\n",
    "    print(audio_file)\n",
    "    sr_ = 44100\n",
    "    audio_ts, sr= lr.load(train_dir + '/' + audio_file, sr=sr_)\n",
    "    df_temp = train_model.extract_features_autoencoder(audio_ts=audio_ts, sr=sr)\n",
    "    df_temp['audio_file'] = audio_file\n",
    "    df_temp['audio_idx'] = df_temp.index.values\n",
    "    df_train = pd.concat([df_train, df_temp ], axis=0)"
   ],
   "metadata": {
    "collapsed": false,
    "pycharm": {
     "name": "#%%\n",
     "is_executing": true
    }
   }
  },
  {
   "cell_type": "code",
   "execution_count": 24,
   "outputs": [],
   "source": [
    "#df_train.to_pickle('train_data.pkl')"
   ],
   "metadata": {
    "collapsed": false,
    "pycharm": {
     "name": "#%%\n"
    }
   }
  },
  {
   "cell_type": "code",
   "execution_count": 6,
   "outputs": [],
   "source": [
    "df_train = pd.read_pickle('train_data.pkl')"
   ],
   "metadata": {
    "collapsed": false,
    "pycharm": {
     "name": "#%%\n"
    }
   }
  },
  {
   "cell_type": "code",
   "execution_count": 10,
   "outputs": [],
   "source": [
    "id_cols = ['audio_file', 'audio_idx']\n",
    "feature_cols = list(set(df_train.columns) - set(id_cols))"
   ],
   "metadata": {
    "collapsed": false,
    "pycharm": {
     "name": "#%%\n"
    }
   }
  },
  {
   "cell_type": "code",
   "execution_count": null,
   "outputs": [],
   "source": [
    "df_train"
   ],
   "metadata": {
    "collapsed": false,
    "pycharm": {
     "name": "#%%\n",
     "is_executing": true
    }
   }
  },
  {
   "cell_type": "code",
   "execution_count": 18,
   "outputs": [],
   "source": [
    "from sklearn.model_selection import train_test_split\n",
    "VALIDATE_SIZE = 0.2\n",
    "RANDOM_SEED = 42\n",
    "# train // validate - no labels since they're all clean anyway\n",
    "X_train, X_validate = train_test_split(df_train[feature_cols], test_size=VALIDATE_SIZE, random_state=RANDOM_SEED )"
   ],
   "metadata": {
    "collapsed": false,
    "pycharm": {
     "name": "#%%\n"
    }
   }
  },
  {
   "cell_type": "code",
   "execution_count": 69,
   "outputs": [],
   "source": [
    "from sklearn.preprocessing import Normalizer, MinMaxScaler\n",
    "from sklearn.pipeline import Pipeline\n",
    "\n",
    "# configure our pipeline\n",
    "pipeline = Pipeline([('normalizer', Normalizer()),\n",
    "                     ('scaler', MinMaxScaler())])"
   ],
   "metadata": {
    "collapsed": false,
    "pycharm": {
     "name": "#%%\n"
    }
   }
  },
  {
   "cell_type": "code",
   "execution_count": 70,
   "outputs": [],
   "source": [
    "from sklearn.preprocessing import MinMaxScaler\n",
    "pipeline.fit(X_train)\n",
    "X_train_transformed = pd.DataFrame(pipeline.transform(X_train), columns=X_train.columns, index=X_train.index)\n",
    "X_validate_transformed = pd.DataFrame(pipeline.transform(X_validate), columns=X_validate.columns, index=X_validate.index)"
   ],
   "metadata": {
    "collapsed": false,
    "pycharm": {
     "name": "#%%\n"
    }
   }
  },
  {
   "cell_type": "code",
   "execution_count": 71,
   "outputs": [
    {
     "name": "stdout",
     "output_type": "stream",
     "text": [
      "Model: \"sequential_2\"\n",
      "_________________________________________________________________\n",
      " Layer (type)                Output Shape              Param #   \n",
      "=================================================================\n",
      " dense_22 (Dense)            (None, 640)               410240    \n",
      "                                                                 \n",
      " dense_23 (Dense)            (None, 128)               82048     \n",
      "                                                                 \n",
      " dense_24 (Dense)            (None, 128)               16512     \n",
      "                                                                 \n",
      " dense_25 (Dense)            (None, 128)               16512     \n",
      "                                                                 \n",
      " dense_26 (Dense)            (None, 128)               16512     \n",
      "                                                                 \n",
      " dense_27 (Dense)            (None, 32)                4128      \n",
      "                                                                 \n",
      " dense_28 (Dense)            (None, 128)               4224      \n",
      "                                                                 \n",
      " dense_29 (Dense)            (None, 128)               16512     \n",
      "                                                                 \n",
      " dense_30 (Dense)            (None, 128)               16512     \n",
      "                                                                 \n",
      " dense_31 (Dense)            (None, 128)               16512     \n",
      "                                                                 \n",
      " dense_32 (Dense)            (None, 640)               82560     \n",
      "                                                                 \n",
      "=================================================================\n",
      "Total params: 682,272\n",
      "Trainable params: 682,272\n",
      "Non-trainable params: 0\n",
      "_________________________________________________________________\n"
     ]
    }
   ],
   "source": [
    "import tensorflow as tf\n",
    "\n",
    "# setup nn architecture\n",
    "\n",
    "# data dimensions // hyperparameters\n",
    "input_dim = X_train_transformed.shape[1]\n",
    "BATCH_SIZE = 256\n",
    "EPOCHS = 100\n",
    "\n",
    "# https://keras.io/layers/core/\n",
    "autoencoder = tf.keras.models.Sequential([\n",
    "\n",
    "    # deconstruct / encode\n",
    "    tf.keras.layers.Dense(input_dim, activation='elu', input_shape=(input_dim,)),\n",
    "    tf.keras.layers.Dense(128, activation='elu'),\n",
    "    tf.keras.layers.Dense(128, activation='elu'),\n",
    "    tf.keras.layers.Dense(128, activation='elu'),\n",
    "    tf.keras.layers.Dense(128, activation='elu'),\n",
    "    tf.keras.layers.Dense(32, activation='elu'),\n",
    "\n",
    "    # reconstruction / decode\n",
    "    tf.keras.layers.Dense(128, activation='elu'),\n",
    "    tf.keras.layers.Dense(128, activation='elu'),\n",
    "    tf.keras.layers.Dense(128, activation='elu'),\n",
    "    tf.keras.layers.Dense(128, activation='elu'),\n",
    "    tf.keras.layers.Dense(input_dim, activation='elu')\n",
    "\n",
    "])\n",
    "\n",
    "# https://keras.io/api/models/model_training_apis/\n",
    "autoencoder.compile(optimizer=\"adam\",\n",
    "                    loss=\"mse\",\n",
    "                    metrics=[\"acc\"])\n",
    "\n",
    "# print an overview of our model\n",
    "autoencoder.summary();"
   ],
   "metadata": {
    "collapsed": false,
    "pycharm": {
     "name": "#%%\n"
    }
   }
  },
  {
   "cell_type": "code",
   "execution_count": 72,
   "outputs": [
    {
     "name": "stdout",
     "output_type": "stream",
     "text": [
      "WARNING:tensorflow:`batch_size` is no longer needed in the `TensorBoard` Callback and will be ignored in TensorFlow 2.0.\n"
     ]
    }
   ],
   "source": [
    "# Callbacks\n",
    "from datetime import datetime\n",
    "\n",
    "# current date and time\n",
    "yyyymmddHHMM = datetime.now().strftime('%Y%m%d%H%M')\n",
    "\n",
    "# new folder for a new run\n",
    "log_subdir = f'{yyyymmddHHMM}_batch{BATCH_SIZE}_layers{len(autoencoder.layers)}'\n",
    "\n",
    "# define our early stopping\n",
    "early_stop = tf.keras.callbacks.EarlyStopping(\n",
    "    monitor='val_loss',\n",
    "    min_delta=0.0001,\n",
    "    patience=10,\n",
    "    verbose=1,\n",
    "    mode='min',\n",
    "    restore_best_weights=True\n",
    ")\n",
    "\n",
    "save_model = tf.keras.callbacks.ModelCheckpoint(\n",
    "    filepath='autoencoder_best_weights.hdf5',\n",
    "    save_best_only=True,\n",
    "    monitor='val_loss',\n",
    "    verbose=0,\n",
    "    mode='min'\n",
    ")\n",
    "\n",
    "tensorboard = tf.keras.callbacks.TensorBoard(\n",
    "    f'logs/{log_subdir}',\n",
    "    batch_size=BATCH_SIZE,\n",
    "    update_freq='batch'\n",
    ")\n",
    "\n",
    "# callbacks argument only takes a list\n",
    "cb = [early_stop, save_model, tensorboard]"
   ],
   "metadata": {
    "collapsed": false,
    "pycharm": {
     "name": "#%%\n"
    }
   }
  },
  {
   "cell_type": "code",
   "execution_count": 73,
   "outputs": [
    {
     "name": "stdout",
     "output_type": "stream",
     "text": [
      "Epoch 1/100\n",
      "869/869 [==============================] - 12s 13ms/step - loss: 7.1952e-04 - acc: 0.4760 - val_loss: 5.5416e-04 - val_acc: 0.5386\n",
      "Epoch 2/100\n",
      "869/869 [==============================] - 10s 11ms/step - loss: 5.0883e-04 - acc: 0.5518 - val_loss: 4.5451e-04 - val_acc: 0.5767\n",
      "Epoch 3/100\n",
      "869/869 [==============================] - 9s 11ms/step - loss: 4.2608e-04 - acc: 0.5995 - val_loss: 3.9185e-04 - val_acc: 0.6185\n",
      "Epoch 4/100\n",
      "869/869 [==============================] - 9s 10ms/step - loss: 3.8088e-04 - acc: 0.6269 - val_loss: 3.6101e-04 - val_acc: 0.6387\n",
      "Epoch 5/100\n",
      "869/869 [==============================] - 9s 10ms/step - loss: 3.5552e-04 - acc: 0.6440 - val_loss: 3.4152e-04 - val_acc: 0.6510\n",
      "Epoch 6/100\n",
      "869/869 [==============================] - 10s 11ms/step - loss: 3.3683e-04 - acc: 0.6593 - val_loss: 3.2507e-04 - val_acc: 0.6702\n",
      "Epoch 7/100\n",
      "869/869 [==============================] - 9s 10ms/step - loss: 3.2237e-04 - acc: 0.6747 - val_loss: 3.1241e-04 - val_acc: 0.6818\n",
      "Epoch 8/100\n",
      "869/869 [==============================] - 9s 10ms/step - loss: 3.1097e-04 - acc: 0.6847 - val_loss: 3.0172e-04 - val_acc: 0.6885\n",
      "Epoch 9/100\n",
      "869/869 [==============================] - 9s 11ms/step - loss: 3.0170e-04 - acc: 0.6930 - val_loss: 2.9463e-04 - val_acc: 0.6966\n",
      "Epoch 10/100\n",
      "869/869 [==============================] - 9s 10ms/step - loss: 2.9423e-04 - acc: 0.6988 - val_loss: 2.8721e-04 - val_acc: 0.7012\n",
      "Epoch 11/100\n",
      "869/869 [==============================] - 8s 10ms/step - loss: 2.8785e-04 - acc: 0.7025 - val_loss: 2.8146e-04 - val_acc: 0.7052\n",
      "Epoch 12/100\n",
      "869/869 [==============================] - 8s 10ms/step - loss: 2.8184e-04 - acc: 0.7063 - val_loss: 2.7618e-04 - val_acc: 0.7089\n",
      "Epoch 13/100\n",
      "869/869 [==============================] - 9s 10ms/step - loss: 2.7678e-04 - acc: 0.7108 - val_loss: 2.7309e-04 - val_acc: 0.7133\n",
      "Epoch 14/100\n",
      "869/869 [==============================] - 9s 10ms/step - loss: 2.7267e-04 - acc: 0.7137 - val_loss: 2.6699e-04 - val_acc: 0.7151\n",
      "Epoch 15/100\n",
      "869/869 [==============================] - 9s 10ms/step - loss: 2.6879e-04 - acc: 0.7166 - val_loss: 2.6346e-04 - val_acc: 0.7198\n",
      "Epoch 16/100\n",
      "869/869 [==============================] - 9s 10ms/step - loss: 2.6552e-04 - acc: 0.7194 - val_loss: 2.6045e-04 - val_acc: 0.7236\n",
      "Epoch 17/100\n",
      "869/869 [==============================] - 8s 10ms/step - loss: 2.6283e-04 - acc: 0.7217 - val_loss: 2.5771e-04 - val_acc: 0.7268\n",
      "Epoch 18/100\n",
      "869/869 [==============================] - 9s 10ms/step - loss: 2.6004e-04 - acc: 0.7239 - val_loss: 2.5573e-04 - val_acc: 0.7258\n",
      "Epoch 19/100\n",
      "869/869 [==============================] - 9s 11ms/step - loss: 2.5774e-04 - acc: 0.7265 - val_loss: 2.5427e-04 - val_acc: 0.7319\n",
      "Epoch 20/100\n",
      "866/869 [============================>.] - ETA: 0s - loss: 2.5570e-04 - acc: 0.7282Restoring model weights from the end of the best epoch: 10.\n",
      "869/869 [==============================] - 9s 10ms/step - loss: 2.5571e-04 - acc: 0.7283 - val_loss: 2.5196e-04 - val_acc: 0.7292\n",
      "Epoch 20: early stopping\n"
     ]
    }
   ],
   "source": [
    "# train model\n",
    "history = autoencoder.fit(\n",
    "    X_train_transformed, X_train_transformed,\n",
    "    shuffle=True,\n",
    "    epochs=EPOCHS,\n",
    "    batch_size=BATCH_SIZE,\n",
    "    callbacks=cb,\n",
    "    validation_data=(X_validate_transformed, X_validate_transformed)\n",
    ");"
   ],
   "metadata": {
    "collapsed": false,
    "pycharm": {
     "name": "#%%\n"
    }
   }
  },
  {
   "cell_type": "code",
   "execution_count": 68,
   "outputs": [
    {
     "name": "stdout",
     "output_type": "stream",
     "text": [
      "WIOQ-FM_06-15-2022_03-00-00_PM_28842.mp3\n"
     ]
    },
    {
     "name": "stderr",
     "output_type": "stream",
     "text": [
      "/Users/girishhanumantha/Documents/GitHub/audio_anomaly_detection/venv/lib/python3.7/site-packages/librosa/util/decorators.py:88: UserWarning: PySoundFile failed. Trying audioread instead.\n",
      "  return f(*args, **kwargs)\n"
     ]
    },
    {
     "name": "stdout",
     "output_type": "stream",
     "text": [
      "WIOQ-FM_06-13-2022_01-30-00_PM_28837.mp3\n"
     ]
    },
    {
     "name": "stderr",
     "output_type": "stream",
     "text": [
      "/Users/girishhanumantha/Documents/GitHub/audio_anomaly_detection/venv/lib/python3.7/site-packages/librosa/util/decorators.py:88: UserWarning: PySoundFile failed. Trying audioread instead.\n",
      "  return f(*args, **kwargs)\n"
     ]
    },
    {
     "name": "stdout",
     "output_type": "stream",
     "text": [
      "WIOQ-FM_06-14-2022_01-30-00_PM_28838.mp3\n"
     ]
    },
    {
     "name": "stderr",
     "output_type": "stream",
     "text": [
      "/Users/girishhanumantha/Documents/GitHub/audio_anomaly_detection/venv/lib/python3.7/site-packages/librosa/util/decorators.py:88: UserWarning: PySoundFile failed. Trying audioread instead.\n",
      "  return f(*args, **kwargs)\n"
     ]
    }
   ],
   "source": [
    "# load test data\n",
    "test_dir = '/Users/girishhanumantha/Documents/GitHub/audio_anomaly_detection/data/external/SimNoise'\n",
    "\n",
    "# create features and append to a DataFrame\n",
    "df_test = pd.DataFrame()\n",
    "for audio_file in os.listdir(test_dir):\n",
    "    print(audio_file)\n",
    "    sr_ = 44100\n",
    "    audio_ts, sr= lr.load(test_dir + '/' + audio_file, sr=sr_)\n",
    "    df_temp = train_model.extract_features_autoencoder(audio_ts=audio_ts, sr=sr)\n",
    "    df_temp['audio_file'] = audio_file\n",
    "    df_temp['audio_idx'] = df_temp.index.values\n",
    "    df_test = pd.concat([df_test, df_temp ], axis=0)"
   ],
   "metadata": {
    "collapsed": false,
    "pycharm": {
     "name": "#%%\n"
    }
   }
  },
  {
   "cell_type": "code",
   "execution_count": 74,
   "outputs": [],
   "source": [
    "df_test.to_pickle('test_data.pkl')"
   ],
   "metadata": {
    "collapsed": false,
    "pycharm": {
     "name": "#%%\n"
    }
   }
  },
  {
   "cell_type": "code",
   "execution_count": null,
   "outputs": [],
   "source": [
    "#df_test = pd.read_pickle('test_data.pkl')"
   ],
   "metadata": {
    "collapsed": false,
    "pycharm": {
     "name": "#%%\n"
    }
   }
  },
  {
   "cell_type": "code",
   "execution_count": 75,
   "outputs": [],
   "source": [
    "X_test = df_test[feature_cols]\n",
    "X_test_transformed = pd.DataFrame(pipeline.transform(X_test), columns=X_test.columns, index=X_test.index)"
   ],
   "metadata": {
    "collapsed": false,
    "pycharm": {
     "name": "#%%\n"
    }
   }
  },
  {
   "cell_type": "code",
   "execution_count": 76,
   "outputs": [
    {
     "name": "stdout",
     "output_type": "stream",
     "text": [
      "6950/6950 [==============================] - 15s 2ms/step\n",
      "43244/43244 [==============================] - 89s 2ms/step\n"
     ]
    }
   ],
   "source": [
    "reconstruct_train = autoencoder.predict(X_train_transformed)\n",
    "reconstruct_test = autoencoder.predict(X_test_transformed)"
   ],
   "metadata": {
    "collapsed": false,
    "pycharm": {
     "name": "#%%\n"
    }
   }
  },
  {
   "cell_type": "code",
   "execution_count": 77,
   "outputs": [],
   "source": [
    "import numpy as np\n",
    "mse_train = np.mean(np.power(X_train_transformed - reconstruct_train, 2), axis=1)\n",
    "mse_test = np.mean(np.power(X_test_transformed - reconstruct_test, 2), axis=1)"
   ],
   "metadata": {
    "collapsed": false,
    "pycharm": {
     "name": "#%%\n"
    }
   }
  },
  {
   "cell_type": "code",
   "execution_count": 83,
   "outputs": [],
   "source": [
    "mse_scaler = MinMaxScaler()\n",
    "mse_train_transformed = pd.DataFrame(mse_scaler.fit_transform(pd.DataFrame(mse_train)), index=mse_train.index, columns=['MSE'])\n",
    "mse_train_transformed['flag'] =0\n",
    "mse_test_transformed = pd.DataFrame(mse_scaler.transform(pd.DataFrame(mse_test)), index = mse_test.index, columns=['MSE'])\n",
    "mse_test_transformed['flag'] = 1"
   ],
   "metadata": {
    "collapsed": false,
    "pycharm": {
     "name": "#%%\n"
    }
   }
  },
  {
   "cell_type": "code",
   "execution_count": 89,
   "outputs": [],
   "source": [
    "mse_merged = pd.concat([mse_train_transformed, mse_test_transformed])\n",
    "mse_merged.sort_values(by=['MSE'], inplace=True)\n",
    "mse_merged.reset_index(inplace=True)"
   ],
   "metadata": {
    "collapsed": false,
    "pycharm": {
     "name": "#%%\n"
    }
   }
  },
  {
   "cell_type": "code",
   "execution_count": 92,
   "outputs": [
    {
     "data": {
      "text/plain": "<matplotlib.collections.PathCollection at 0x7f9d31973450>"
     },
     "execution_count": 92,
     "metadata": {},
     "output_type": "execute_result"
    },
    {
     "data": {
      "text/plain": "<Figure size 640x480 with 1 Axes>",
      "image/png": "[encoded data removed]"
     },
     "metadata": {},
     "output_type": "display_data"
    }
   ],
   "source": [
    "import matplotlib.pyplot as plt\n",
    "plt.scatter(mse_merged.index, mse_merged['MSE'])"
   ],
   "metadata": {
    "collapsed": false,
    "pycharm": {
     "name": "#%%\n"
    }
   }
  },
  {
   "cell_type": "code",
   "execution_count": 81,
   "outputs": [
    {
     "data": {
      "text/plain": "<AxesSubplot:ylabel='Frequency'>"
     },
     "execution_count": 81,
     "metadata": {},
     "output_type": "execute_result"
    },
    {
     "data": {
      "text/plain": "<Figure size 640x480 with 1 Axes>",
      "image/png": "[encoded data removed]"
     },
     "metadata": {},
     "output_type": "display_data"
    }
   ],
   "source": [
    "import matplotlib.pyplot as plt\n",
    "ax = plt.gca()\n",
    "mse_train_transformed.plot(kind='hist',ax=ax, bins=10, alpha=0.01)\n",
    "mse_test_transformed.plot(kind='hist', ax=ax,bins=10, alpha=0.01)"
   ],
   "metadata": {
    "collapsed": false,
    "pycharm": {
     "name": "#%%\n"
    }
   }
  },
  {
   "cell_type": "code",
   "execution_count": 40,
   "outputs": [
    {
     "data": {
      "text/plain": "<Figure size 600x600 with 1 Axes>",
      "image/png": "[encoded data removed]"
     },
     "metadata": {},
     "output_type": "display_data"
    }
   ],
   "source": [
    "\n",
    "fig, ax = plt.subplots(figsize=(6,6))\n",
    "ax.hist(mse_train, bins=50, density=True, label=\"train\", alpha=.6, color=\"green\")\n",
    "ax.hist(mse_test, bins=50, density=True, label=\"test\", alpha=.6, color=\"red\")\n",
    "plt.show()"
   ],
   "metadata": {
    "collapsed": false,
    "pycharm": {
     "name": "#%%\n"
    }
   }
  }
 ],
 "metadata": {
  "kernelspec": {
   "display_name": "Python 3",
   "language": "python",
   "name": "python3"
  },
  "language_info": {
   "codemirror_mode": {
    "name": "ipython",
    "version": 2
   },
   "file_extension": ".py",
   "mimetype": "text/x-python",
   "name": "python",
   "nbconvert_exporter": "python",
   "pygments_lexer": "ipython2",
   "version": "2.7.6"
  }
 },
 "nbformat": 4,
 "nbformat_minor": 0
}