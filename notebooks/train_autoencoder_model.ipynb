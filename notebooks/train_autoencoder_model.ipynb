{
 "cells": [
  {
   "cell_type": "code",
   "execution_count": 1,
   "metadata": {
    "collapsed": true,
    "pycharm": {
     "name": "#%%\n"
    }
   },
   "outputs": [],
   "source": [
    "# import packages\n",
    "from src.models import train_model\n",
    "import os\n",
    "import librosa as lr\n",
    "import pandas as pd\n",
    "import glob"
   ]
  },
  {
   "cell_type": "code",
   "execution_count": 2,
   "outputs": [],
   "source": [
    "# train_dir = '/Users/girishhanumantha/Documents/GitHub/audio_anomaly_detection/data/external/CleanSim'\n",
    "aafolder='SimNoise'\n",
    "aapp='whitenoise'\n",
    "base_dir='/Users/langchenfan/Documents/Radio Anomaly Detection/'\n",
    "train_dir = base_dir+aafolder\n",
    "cleanwav = glob.glob(os.path.join(train_dir,'*_inf.wav'))\n",
    "sr_ = 44100"
   ],
   "metadata": {
    "collapsed": false,
    "pycharm": {
     "name": "#%%\n"
    }
   }
  },
  {
   "cell_type": "code",
   "execution_count": 3,
   "outputs": [
    {
     "name": "stdout",
     "output_type": "stream",
     "text": [
      "/Users/langchenfan/Documents/Radio Anomaly Detection/SimNoise/FOXS_439_inf.wav\n",
      "/Users/langchenfan/Documents/Radio Anomaly Detection/SimNoise/FOXS_429_inf.wav\n",
      "/Users/langchenfan/Documents/Radio Anomaly Detection/SimNoise/KDMX_539_inf.wav\n",
      "/Users/langchenfan/Documents/Radio Anomaly Detection/SimNoise/KDMX_529_inf.wav\n",
      "/Users/langchenfan/Documents/Radio Anomaly Detection/SimNoise/KEGL_147_inf.wav\n",
      "/Users/langchenfan/Documents/Radio Anomaly Detection/SimNoise/KEGL_157_inf.wav\n",
      "/Users/langchenfan/Documents/Radio Anomaly Detection/SimNoise/KEGL_359_inf.wav\n",
      "/Users/langchenfan/Documents/Radio Anomaly Detection/SimNoise/KEGL_349_inf.wav\n",
      "/Users/langchenfan/Documents/Radio Anomaly Detection/SimNoise/KDMX_49_inf.wav\n",
      "/Users/langchenfan/Documents/Radio Anomaly Detection/SimNoise/KDMX_59_inf.wav\n",
      "/Users/langchenfan/Documents/Radio Anomaly Detection/SimNoise/KEGL_9_inf.wav\n",
      "/Users/langchenfan/Documents/Radio Anomaly Detection/SimNoise/FOXS_349_inf.wav\n",
      "/Users/langchenfan/Documents/Radio Anomaly Detection/SimNoise/FOXS_359_inf.wav\n",
      "/Users/langchenfan/Documents/Radio Anomaly Detection/SimNoise/FOXS_79_inf.wav\n",
      "/Users/langchenfan/Documents/Radio Anomaly Detection/SimNoise/FOXS_69_inf.wav\n",
      "/Users/langchenfan/Documents/Radio Anomaly Detection/SimNoise/FOXS_157_inf.wav\n",
      "/Users/langchenfan/Documents/Radio Anomaly Detection/SimNoise/FOXS_147_inf.wav\n",
      "/Users/langchenfan/Documents/Radio Anomaly Detection/SimNoise/KDMX_249_inf.wav\n",
      "/Users/langchenfan/Documents/Radio Anomaly Detection/SimNoise/KDMX_259_inf.wav\n",
      "/Users/langchenfan/Documents/Radio Anomaly Detection/SimNoise/KEGL_429_inf.wav\n",
      "/Users/langchenfan/Documents/Radio Anomaly Detection/SimNoise/KEGL_439_inf.wav\n",
      "/Users/langchenfan/Documents/Radio Anomaly Detection/SimNoise/KDMX_109_inf.wav\n",
      "/Users/langchenfan/Documents/Radio Anomaly Detection/SimNoise/KDMX_119_inf.wav\n",
      "/Users/langchenfan/Documents/Radio Anomaly Detection/SimNoise/KDMX_317_inf.wav\n",
      "/Users/langchenfan/Documents/Radio Anomaly Detection/SimNoise/KDMX_307_inf.wav\n",
      "/Users/langchenfan/Documents/Radio Anomaly Detection/SimNoise/KDMX_7_inf.wav\n",
      "/Users/langchenfan/Documents/Radio Anomaly Detection/SimNoise/FOXS_217_inf.wav\n",
      "/Users/langchenfan/Documents/Radio Anomaly Detection/SimNoise/FOXS_207_inf.wav\n",
      "/Users/langchenfan/Documents/Radio Anomaly Detection/SimNoise/FOXS_499_inf.wav\n",
      "/Users/langchenfan/Documents/Radio Anomaly Detection/SimNoise/FOXS_489_inf.wav\n",
      "/Users/langchenfan/Documents/Radio Anomaly Detection/SimNoise/KEGL_489_inf.wav\n",
      "/Users/langchenfan/Documents/Radio Anomaly Detection/SimNoise/KEGL_499_inf.wav\n",
      "/Users/langchenfan/Documents/Radio Anomaly Detection/SimNoise/KEGL_207_inf.wav\n",
      "/Users/langchenfan/Documents/Radio Anomaly Detection/SimNoise/KEGL_217_inf.wav\n",
      "/Users/langchenfan/Documents/Radio Anomaly Detection/SimNoise/KEGL_77_inf.wav\n",
      "/Users/langchenfan/Documents/Radio Anomaly Detection/SimNoise/KEGL_67_inf.wav\n",
      "/Users/langchenfan/Documents/Radio Anomaly Detection/SimNoise/KDMX_467_inf.wav\n",
      "/Users/langchenfan/Documents/Radio Anomaly Detection/SimNoise/KDMX_477_inf.wav\n",
      "/Users/langchenfan/Documents/Radio Anomaly Detection/SimNoise/KDMX_449_inf.wav\n",
      "/Users/langchenfan/Documents/Radio Anomaly Detection/SimNoise/KDMX_459_inf.wav\n",
      "/Users/langchenfan/Documents/Radio Anomaly Detection/SimNoise/KEGL_59_inf.wav\n",
      "/Users/langchenfan/Documents/Radio Anomaly Detection/SimNoise/KEGL_49_inf.wav\n",
      "/Users/langchenfan/Documents/Radio Anomaly Detection/SimNoise/KEGL_229_inf.wav\n",
      "/Users/langchenfan/Documents/Radio Anomaly Detection/SimNoise/KEGL_239_inf.wav\n",
      "/Users/langchenfan/Documents/Radio Anomaly Detection/SimNoise/KDMX_339_inf.wav\n",
      "/Users/langchenfan/Documents/Radio Anomaly Detection/SimNoise/KDMX_329_inf.wav\n",
      "/Users/langchenfan/Documents/Radio Anomaly Detection/SimNoise/KDMX_127_inf.wav\n",
      "/Users/langchenfan/Documents/Radio Anomaly Detection/SimNoise/KDMX_137_inf.wav\n",
      "/Users/langchenfan/Documents/Radio Anomaly Detection/SimNoise/FOXS_239_inf.wav\n",
      "/Users/langchenfan/Documents/Radio Anomaly Detection/SimNoise/FOXS_229_inf.wav\n",
      "/Users/langchenfan/Documents/Radio Anomaly Detection/SimNoise/KEGL_289_inf.wav\n",
      "/Users/langchenfan/Documents/Radio Anomaly Detection/SimNoise/KEGL_299_inf.wav\n",
      "/Users/langchenfan/Documents/Radio Anomaly Detection/SimNoise/FOXS_179_inf.wav\n",
      "/Users/langchenfan/Documents/Radio Anomaly Detection/SimNoise/FOXS_169_inf.wav\n",
      "/Users/langchenfan/Documents/Radio Anomaly Detection/SimNoise/FOXS_57_inf.wav\n",
      "/Users/langchenfan/Documents/Radio Anomaly Detection/SimNoise/FOXS_47_inf.wav\n",
      "/Users/langchenfan/Documents/Radio Anomaly Detection/SimNoise/FOXS_367_inf.wav\n",
      "/Users/langchenfan/Documents/Radio Anomaly Detection/SimNoise/FOXS_377_inf.wav\n",
      "/Users/langchenfan/Documents/Radio Anomaly Detection/SimNoise/KEGL_407_inf.wav\n",
      "/Users/langchenfan/Documents/Radio Anomaly Detection/SimNoise/KEGL_417_inf.wav\n",
      "/Users/langchenfan/Documents/Radio Anomaly Detection/SimNoise/KDMX_267_inf.wav\n",
      "/Users/langchenfan/Documents/Radio Anomaly Detection/SimNoise/KDMX_277_inf.wav\n",
      "/Users/langchenfan/Documents/Radio Anomaly Detection/SimNoise/FOXS_417_inf.wav\n",
      "/Users/langchenfan/Documents/Radio Anomaly Detection/SimNoise/FOXS_407_inf.wav\n",
      "/Users/langchenfan/Documents/Radio Anomaly Detection/SimNoise/KEGL_377_inf.wav\n",
      "/Users/langchenfan/Documents/Radio Anomaly Detection/SimNoise/KEGL_367_inf.wav\n",
      "/Users/langchenfan/Documents/Radio Anomaly Detection/SimNoise/KEGL_169_inf.wav\n",
      "/Users/langchenfan/Documents/Radio Anomaly Detection/SimNoise/KEGL_179_inf.wav\n",
      "/Users/langchenfan/Documents/Radio Anomaly Detection/SimNoise/KDMX_517_inf.wav\n",
      "/Users/langchenfan/Documents/Radio Anomaly Detection/SimNoise/KDMX_507_inf.wav\n",
      "/Users/langchenfan/Documents/Radio Anomaly Detection/SimNoise/FOXS_299_inf.wav\n",
      "/Users/langchenfan/Documents/Radio Anomaly Detection/SimNoise/FOXS_289_inf.wav\n",
      "/Users/langchenfan/Documents/Radio Anomaly Detection/SimNoise/KDMX_187_inf.wav\n",
      "/Users/langchenfan/Documents/Radio Anomaly Detection/SimNoise/KDMX_197_inf.wav\n",
      "/Users/langchenfan/Documents/Radio Anomaly Detection/SimNoise/KDMX_67_inf.wav\n",
      "/Users/langchenfan/Documents/Radio Anomaly Detection/SimNoise/KDMX_77_inf.wav\n",
      "/Users/langchenfan/Documents/Radio Anomaly Detection/SimNoise/KDMX_399_inf.wav\n",
      "/Users/langchenfan/Documents/Radio Anomaly Detection/SimNoise/KDMX_389_inf.wav\n",
      "/Users/langchenfan/Documents/Radio Anomaly Detection/SimNoise/FOXS_87_inf.wav\n",
      "/Users/langchenfan/Documents/Radio Anomaly Detection/SimNoise/FOXS_97_inf.wav\n",
      "/Users/langchenfan/Documents/Radio Anomaly Detection/SimNoise/FOXS_539_inf.wav\n",
      "/Users/langchenfan/Documents/Radio Anomaly Detection/SimNoise/FOXS_529_inf.wav\n",
      "/Users/langchenfan/Documents/Radio Anomaly Detection/SimNoise/FOXS_7_inf.wav\n",
      "/Users/langchenfan/Documents/Radio Anomaly Detection/SimNoise/KDMX_439_inf.wav\n",
      "/Users/langchenfan/Documents/Radio Anomaly Detection/SimNoise/KDMX_429_inf.wav\n",
      "/Users/langchenfan/Documents/Radio Anomaly Detection/SimNoise/KEGL_29_inf.wav\n",
      "/Users/langchenfan/Documents/Radio Anomaly Detection/SimNoise/KEGL_39_inf.wav\n",
      "/Users/langchenfan/Documents/Radio Anomaly Detection/SimNoise/KEGL_259_inf.wav\n",
      "/Users/langchenfan/Documents/Radio Anomaly Detection/SimNoise/KEGL_249_inf.wav\n",
      "/Users/langchenfan/Documents/Radio Anomaly Detection/SimNoise/FOXS_249_inf.wav\n",
      "/Users/langchenfan/Documents/Radio Anomaly Detection/SimNoise/FOXS_259_inf.wav\n",
      "/Users/langchenfan/Documents/Radio Anomaly Detection/SimNoise/KDMX_349_inf.wav\n",
      "/Users/langchenfan/Documents/Radio Anomaly Detection/SimNoise/KDMX_359_inf.wav\n",
      "/Users/langchenfan/Documents/Radio Anomaly Detection/SimNoise/KDMX_157_inf.wav\n",
      "/Users/langchenfan/Documents/Radio Anomaly Detection/SimNoise/KDMX_147_inf.wav\n",
      "/Users/langchenfan/Documents/Radio Anomaly Detection/SimNoise/KEGL_529_inf.wav\n",
      "/Users/langchenfan/Documents/Radio Anomaly Detection/SimNoise/KEGL_539_inf.wav\n",
      "/Users/langchenfan/Documents/Radio Anomaly Detection/SimNoise/KEGL_89_inf.wav\n",
      "/Users/langchenfan/Documents/Radio Anomaly Detection/SimNoise/KEGL_99_inf.wav\n",
      "/Users/langchenfan/Documents/Radio Anomaly Detection/SimNoise/KDMX_499_inf.wav\n",
      "/Users/langchenfan/Documents/Radio Anomaly Detection/SimNoise/KDMX_489_inf.wav\n",
      "/Users/langchenfan/Documents/Radio Anomaly Detection/SimNoise/KEGL_477_inf.wav\n",
      "/Users/langchenfan/Documents/Radio Anomaly Detection/SimNoise/KEGL_467_inf.wav\n",
      "/Users/langchenfan/Documents/Radio Anomaly Detection/SimNoise/KDMX_217_inf.wav\n",
      "/Users/langchenfan/Documents/Radio Anomaly Detection/SimNoise/KDMX_207_inf.wav\n",
      "/Users/langchenfan/Documents/Radio Anomaly Detection/SimNoise/FOXS_109_inf.wav\n",
      "/Users/langchenfan/Documents/Radio Anomaly Detection/SimNoise/FOXS_119_inf.wav\n",
      "/Users/langchenfan/Documents/Radio Anomaly Detection/SimNoise/FOXS_27_inf.wav\n",
      "/Users/langchenfan/Documents/Radio Anomaly Detection/SimNoise/FOXS_37_inf.wav\n",
      "/Users/langchenfan/Documents/Radio Anomaly Detection/SimNoise/FOXS_317_inf.wav\n",
      "/Users/langchenfan/Documents/Radio Anomaly Detection/SimNoise/FOXS_307_inf.wav\n",
      "/Users/langchenfan/Documents/Radio Anomaly Detection/SimNoise/KEGL_307_inf.wav\n",
      "/Users/langchenfan/Documents/Radio Anomaly Detection/SimNoise/KEGL_317_inf.wav\n",
      "/Users/langchenfan/Documents/Radio Anomaly Detection/SimNoise/KEGL_119_inf.wav\n",
      "/Users/langchenfan/Documents/Radio Anomaly Detection/SimNoise/KEGL_109_inf.wav\n",
      "/Users/langchenfan/Documents/Radio Anomaly Detection/SimNoise/FOXS_467_inf.wav\n",
      "/Users/langchenfan/Documents/Radio Anomaly Detection/SimNoise/FOXS_477_inf.wav\n",
      "/Users/langchenfan/Documents/Radio Anomaly Detection/SimNoise/KDMX_17_inf.wav\n",
      "/Users/langchenfan/Documents/Radio Anomaly Detection/SimNoise/KEGL_137_inf.wav\n",
      "/Users/langchenfan/Documents/Radio Anomaly Detection/SimNoise/KEGL_127_inf.wav\n",
      "/Users/langchenfan/Documents/Radio Anomaly Detection/SimNoise/KEGL_329_inf.wav\n",
      "/Users/langchenfan/Documents/Radio Anomaly Detection/SimNoise/KEGL_339_inf.wav\n",
      "/Users/langchenfan/Documents/Radio Anomaly Detection/SimNoise/FOXS_449_inf.wav\n",
      "/Users/langchenfan/Documents/Radio Anomaly Detection/SimNoise/FOXS_459_inf.wav\n",
      "/Users/langchenfan/Documents/Radio Anomaly Detection/SimNoise/KDMX_39_inf.wav\n",
      "/Users/langchenfan/Documents/Radio Anomaly Detection/SimNoise/KDMX_29_inf.wav\n",
      "/Users/langchenfan/Documents/Radio Anomaly Detection/SimNoise/KDMX_239_inf.wav\n",
      "/Users/langchenfan/Documents/Radio Anomaly Detection/SimNoise/KDMX_229_inf.wav\n",
      "/Users/langchenfan/Documents/Radio Anomaly Detection/SimNoise/KEGL_459_inf.wav\n",
      "/Users/langchenfan/Documents/Radio Anomaly Detection/SimNoise/KEGL_449_inf.wav\n",
      "/Users/langchenfan/Documents/Radio Anomaly Detection/SimNoise/FOXS_339_inf.wav\n",
      "/Users/langchenfan/Documents/Radio Anomaly Detection/SimNoise/FOXS_329_inf.wav\n",
      "/Users/langchenfan/Documents/Radio Anomaly Detection/SimNoise/FOXS_19_inf.wav\n",
      "/Users/langchenfan/Documents/Radio Anomaly Detection/SimNoise/FOXS_127_inf.wav\n",
      "/Users/langchenfan/Documents/Radio Anomaly Detection/SimNoise/FOXS_137_inf.wav\n",
      "/Users/langchenfan/Documents/Radio Anomaly Detection/SimNoise/FOXS_267_inf.wav\n",
      "/Users/langchenfan/Documents/Radio Anomaly Detection/SimNoise/FOXS_277_inf.wav\n",
      "/Users/langchenfan/Documents/Radio Anomaly Detection/SimNoise/KDMX_99_inf.wav\n",
      "/Users/langchenfan/Documents/Radio Anomaly Detection/SimNoise/KEGL_507_inf.wav\n",
      "/Users/langchenfan/Documents/Radio Anomaly Detection/SimNoise/KEGL_517_inf.wav\n",
      "/Users/langchenfan/Documents/Radio Anomaly Detection/SimNoise/KDMX_89_inf.wav\n",
      "/Users/langchenfan/Documents/Radio Anomaly Detection/SimNoise/KDMX_179_inf.wav\n",
      "/Users/langchenfan/Documents/Radio Anomaly Detection/SimNoise/KDMX_169_inf.wav\n",
      "/Users/langchenfan/Documents/Radio Anomaly Detection/SimNoise/KDMX_367_inf.wav\n",
      "/Users/langchenfan/Documents/Radio Anomaly Detection/SimNoise/KDMX_377_inf.wav\n",
      "/Users/langchenfan/Documents/Radio Anomaly Detection/SimNoise/KEGL_389_inf.wav\n",
      "/Users/langchenfan/Documents/Radio Anomaly Detection/SimNoise/KEGL_399_inf.wav\n",
      "/Users/langchenfan/Documents/Radio Anomaly Detection/SimNoise/KEGL_197_inf.wav\n",
      "/Users/langchenfan/Documents/Radio Anomaly Detection/SimNoise/KEGL_187_inf.wav\n",
      "/Users/langchenfan/Documents/Radio Anomaly Detection/SimNoise/FOXS_187_inf.wav\n",
      "/Users/langchenfan/Documents/Radio Anomaly Detection/SimNoise/FOXS_197_inf.wav\n",
      "/Users/langchenfan/Documents/Radio Anomaly Detection/SimNoise/FOXS_399_inf.wav\n",
      "/Users/langchenfan/Documents/Radio Anomaly Detection/SimNoise/FOXS_389_inf.wav\n",
      "/Users/langchenfan/Documents/Radio Anomaly Detection/SimNoise/KDMX_299_inf.wav\n",
      "/Users/langchenfan/Documents/Radio Anomaly Detection/SimNoise/KDMX_289_inf.wav\n",
      "/Users/langchenfan/Documents/Radio Anomaly Detection/SimNoise/FOXS_517_inf.wav\n",
      "/Users/langchenfan/Documents/Radio Anomaly Detection/SimNoise/FOXS_507_inf.wav\n",
      "/Users/langchenfan/Documents/Radio Anomaly Detection/SimNoise/KEGL_277_inf.wav\n",
      "/Users/langchenfan/Documents/Radio Anomaly Detection/SimNoise/KEGL_267_inf.wav\n",
      "/Users/langchenfan/Documents/Radio Anomaly Detection/SimNoise/KEGL_17_inf.wav\n",
      "/Users/langchenfan/Documents/Radio Anomaly Detection/SimNoise/KDMX_417_inf.wav\n",
      "/Users/langchenfan/Documents/Radio Anomaly Detection/SimNoise/KDMX_407_inf.wav\n",
      "/Users/langchenfan/Documents/Radio Anomaly Detection/SimNoise/FOXS_357_inf.wav\n",
      "/Users/langchenfan/Documents/Radio Anomaly Detection/SimNoise/FOXS_347_inf.wav\n",
      "/Users/langchenfan/Documents/Radio Anomaly Detection/SimNoise/FOXS_149_inf.wav\n",
      "/Users/langchenfan/Documents/Radio Anomaly Detection/SimNoise/FOXS_159_inf.wav\n",
      "/Users/langchenfan/Documents/Radio Anomaly Detection/SimNoise/FOXS_67_inf.wav\n",
      "/Users/langchenfan/Documents/Radio Anomaly Detection/SimNoise/FOXS_77_inf.wav\n",
      "/Users/langchenfan/Documents/Radio Anomaly Detection/SimNoise/KDMX_257_inf.wav\n",
      "/Users/langchenfan/Documents/Radio Anomaly Detection/SimNoise/KDMX_247_inf.wav\n",
      "/Users/langchenfan/Documents/Radio Anomaly Detection/SimNoise/KEGL_437_inf.wav\n",
      "/Users/langchenfan/Documents/Radio Anomaly Detection/SimNoise/KEGL_427_inf.wav\n",
      "/Users/langchenfan/Documents/Radio Anomaly Detection/SimNoise/FOXS_427_inf.wav\n",
      "/Users/langchenfan/Documents/Radio Anomaly Detection/SimNoise/FOXS_437_inf.wav\n",
      "/Users/langchenfan/Documents/Radio Anomaly Detection/SimNoise/KEGL_159_inf.wav\n",
      "/Users/langchenfan/Documents/Radio Anomaly Detection/SimNoise/KEGL_149_inf.wav\n",
      "/Users/langchenfan/Documents/Radio Anomaly Detection/SimNoise/KDMX_527_inf.wav\n",
      "/Users/langchenfan/Documents/Radio Anomaly Detection/SimNoise/KDMX_537_inf.wav\n",
      "/Users/langchenfan/Documents/Radio Anomaly Detection/SimNoise/KEGL_347_inf.wav\n",
      "/Users/langchenfan/Documents/Radio Anomaly Detection/SimNoise/KEGL_357_inf.wav\n",
      "/Users/langchenfan/Documents/Radio Anomaly Detection/SimNoise/KEGL_7_inf.wav\n",
      "/Users/langchenfan/Documents/Radio Anomaly Detection/SimNoise/KDMX_57_inf.wav\n",
      "/Users/langchenfan/Documents/Radio Anomaly Detection/SimNoise/KDMX_47_inf.wav\n",
      "/Users/langchenfan/Documents/Radio Anomaly Detection/SimNoise/KEGL_497_inf.wav\n",
      "/Users/langchenfan/Documents/Radio Anomaly Detection/SimNoise/KEGL_487_inf.wav\n",
      "/Users/langchenfan/Documents/Radio Anomaly Detection/SimNoise/KEGL_69_inf.wav\n",
      "/Users/langchenfan/Documents/Radio Anomaly Detection/SimNoise/KEGL_79_inf.wav\n",
      "/Users/langchenfan/Documents/Radio Anomaly Detection/SimNoise/KEGL_219_inf.wav\n",
      "/Users/langchenfan/Documents/Radio Anomaly Detection/SimNoise/KEGL_209_inf.wav\n",
      "/Users/langchenfan/Documents/Radio Anomaly Detection/SimNoise/KDMX_479_inf.wav\n",
      "/Users/langchenfan/Documents/Radio Anomaly Detection/SimNoise/KDMX_469_inf.wav\n",
      "/Users/langchenfan/Documents/Radio Anomaly Detection/SimNoise/KDMX_117_inf.wav\n",
      "/Users/langchenfan/Documents/Radio Anomaly Detection/SimNoise/KDMX_107_inf.wav\n",
      "/Users/langchenfan/Documents/Radio Anomaly Detection/SimNoise/KDMX_9_inf.wav\n",
      "/Users/langchenfan/Documents/Radio Anomaly Detection/SimNoise/KDMX_309_inf.wav\n",
      "/Users/langchenfan/Documents/Radio Anomaly Detection/SimNoise/KDMX_319_inf.wav\n",
      "/Users/langchenfan/Documents/Radio Anomaly Detection/SimNoise/FOXS_209_inf.wav\n",
      "/Users/langchenfan/Documents/Radio Anomaly Detection/SimNoise/FOXS_219_inf.wav\n",
      "/Users/langchenfan/Documents/Radio Anomaly Detection/SimNoise/FOXS_487_inf.wav\n",
      "/Users/langchenfan/Documents/Radio Anomaly Detection/SimNoise/FOXS_497_inf.wav\n",
      "/Users/langchenfan/Documents/Radio Anomaly Detection/SimNoise/KDMX_327_inf.wav\n",
      "/Users/langchenfan/Documents/Radio Anomaly Detection/SimNoise/KDMX_337_inf.wav\n",
      "/Users/langchenfan/Documents/Radio Anomaly Detection/SimNoise/KDMX_139_inf.wav\n",
      "/Users/langchenfan/Documents/Radio Anomaly Detection/SimNoise/KDMX_129_inf.wav\n",
      "/Users/langchenfan/Documents/Radio Anomaly Detection/SimNoise/FOXS_227_inf.wav\n",
      "/Users/langchenfan/Documents/Radio Anomaly Detection/SimNoise/FOXS_237_inf.wav\n",
      "/Users/langchenfan/Documents/Radio Anomaly Detection/SimNoise/KDMX_457_inf.wav\n",
      "/Users/langchenfan/Documents/Radio Anomaly Detection/SimNoise/KDMX_447_inf.wav\n",
      "/Users/langchenfan/Documents/Radio Anomaly Detection/SimNoise/KEGL_237_inf.wav\n",
      "/Users/langchenfan/Documents/Radio Anomaly Detection/SimNoise/KEGL_227_inf.wav\n",
      "/Users/langchenfan/Documents/Radio Anomaly Detection/SimNoise/KEGL_47_inf.wav\n",
      "/Users/langchenfan/Documents/Radio Anomaly Detection/SimNoise/KEGL_57_inf.wav\n",
      "/Users/langchenfan/Documents/Radio Anomaly Detection/SimNoise/FOXS_409_inf.wav\n",
      "/Users/langchenfan/Documents/Radio Anomaly Detection/SimNoise/FOXS_419_inf.wav\n",
      "/Users/langchenfan/Documents/Radio Anomaly Detection/SimNoise/KEGL_369_inf.wav\n",
      "/Users/langchenfan/Documents/Radio Anomaly Detection/SimNoise/KEGL_379_inf.wav\n",
      "/Users/langchenfan/Documents/Radio Anomaly Detection/SimNoise/KDMX_509_inf.wav\n",
      "/Users/langchenfan/Documents/Radio Anomaly Detection/SimNoise/KDMX_519_inf.wav\n",
      "/Users/langchenfan/Documents/Radio Anomaly Detection/SimNoise/KEGL_177_inf.wav\n",
      "/Users/langchenfan/Documents/Radio Anomaly Detection/SimNoise/KEGL_167_inf.wav\n",
      "/Users/langchenfan/Documents/Radio Anomaly Detection/SimNoise/FOXS_287_inf.wav\n",
      "/Users/langchenfan/Documents/Radio Anomaly Detection/SimNoise/FOXS_297_inf.wav\n",
      "/Users/langchenfan/Documents/Radio Anomaly Detection/SimNoise/KDMX_79_inf.wav\n",
      "/Users/langchenfan/Documents/Radio Anomaly Detection/SimNoise/KDMX_69_inf.wav\n",
      "/Users/langchenfan/Documents/Radio Anomaly Detection/SimNoise/KDMX_199_inf.wav\n",
      "/Users/langchenfan/Documents/Radio Anomaly Detection/SimNoise/KDMX_189_inf.wav\n",
      "/Users/langchenfan/Documents/Radio Anomaly Detection/SimNoise/KDMX_387_inf.wav\n",
      "/Users/langchenfan/Documents/Radio Anomaly Detection/SimNoise/KDMX_397_inf.wav\n",
      "/Users/langchenfan/Documents/Radio Anomaly Detection/SimNoise/KEGL_297_inf.wav\n",
      "/Users/langchenfan/Documents/Radio Anomaly Detection/SimNoise/KEGL_287_inf.wav\n",
      "/Users/langchenfan/Documents/Radio Anomaly Detection/SimNoise/FOXS_49_inf.wav\n",
      "/Users/langchenfan/Documents/Radio Anomaly Detection/SimNoise/FOXS_59_inf.wav\n",
      "/Users/langchenfan/Documents/Radio Anomaly Detection/SimNoise/FOXS_167_inf.wav\n",
      "/Users/langchenfan/Documents/Radio Anomaly Detection/SimNoise/FOXS_177_inf.wav\n",
      "/Users/langchenfan/Documents/Radio Anomaly Detection/SimNoise/FOXS_379_inf.wav\n",
      "/Users/langchenfan/Documents/Radio Anomaly Detection/SimNoise/FOXS_369_inf.wav\n",
      "/Users/langchenfan/Documents/Radio Anomaly Detection/SimNoise/KEGL_419_inf.wav\n",
      "/Users/langchenfan/Documents/Radio Anomaly Detection/SimNoise/KEGL_409_inf.wav\n",
      "/Users/langchenfan/Documents/Radio Anomaly Detection/SimNoise/KDMX_279_inf.wav\n",
      "/Users/langchenfan/Documents/Radio Anomaly Detection/SimNoise/KDMX_269_inf.wav\n",
      "/Users/langchenfan/Documents/Radio Anomaly Detection/SimNoise/FOXS_257_inf.wav\n",
      "/Users/langchenfan/Documents/Radio Anomaly Detection/SimNoise/FOXS_247_inf.wav\n",
      "/Users/langchenfan/Documents/Radio Anomaly Detection/SimNoise/KDMX_357_inf.wav\n",
      "/Users/langchenfan/Documents/Radio Anomaly Detection/SimNoise/KDMX_347_inf.wav\n",
      "/Users/langchenfan/Documents/Radio Anomaly Detection/SimNoise/KEGL_537_inf.wav\n",
      "/Users/langchenfan/Documents/Radio Anomaly Detection/SimNoise/KEGL_527_inf.wav\n",
      "/Users/langchenfan/Documents/Radio Anomaly Detection/SimNoise/KDMX_149_inf.wav\n",
      "/Users/langchenfan/Documents/Radio Anomaly Detection/SimNoise/KDMX_159_inf.wav\n",
      "/Users/langchenfan/Documents/Radio Anomaly Detection/SimNoise/FOXS_99_inf.wav\n",
      "/Users/langchenfan/Documents/Radio Anomaly Detection/SimNoise/FOXS_89_inf.wav\n",
      "/Users/langchenfan/Documents/Radio Anomaly Detection/SimNoise/FOXS_527_inf.wav\n",
      "/Users/langchenfan/Documents/Radio Anomaly Detection/SimNoise/FOXS_537_inf.wav\n",
      "/Users/langchenfan/Documents/Radio Anomaly Detection/SimNoise/FOXS_9_inf.wav\n",
      "/Users/langchenfan/Documents/Radio Anomaly Detection/SimNoise/KDMX_427_inf.wav\n",
      "/Users/langchenfan/Documents/Radio Anomaly Detection/SimNoise/KDMX_437_inf.wav\n",
      "/Users/langchenfan/Documents/Radio Anomaly Detection/SimNoise/KEGL_247_inf.wav\n",
      "/Users/langchenfan/Documents/Radio Anomaly Detection/SimNoise/KEGL_257_inf.wav\n",
      "/Users/langchenfan/Documents/Radio Anomaly Detection/SimNoise/KEGL_37_inf.wav\n",
      "/Users/langchenfan/Documents/Radio Anomaly Detection/SimNoise/KEGL_27_inf.wav\n",
      "/Users/langchenfan/Documents/Radio Anomaly Detection/SimNoise/KEGL_319_inf.wav\n",
      "/Users/langchenfan/Documents/Radio Anomaly Detection/SimNoise/KEGL_309_inf.wav\n",
      "/Users/langchenfan/Documents/Radio Anomaly Detection/SimNoise/KEGL_107_inf.wav\n",
      "/Users/langchenfan/Documents/Radio Anomaly Detection/SimNoise/KEGL_117_inf.wav\n",
      "/Users/langchenfan/Documents/Radio Anomaly Detection/SimNoise/FOXS_479_inf.wav\n",
      "/Users/langchenfan/Documents/Radio Anomaly Detection/SimNoise/FOXS_469_inf.wav\n",
      "/Users/langchenfan/Documents/Radio Anomaly Detection/SimNoise/KDMX_19_inf.wav\n",
      "/Users/langchenfan/Documents/Radio Anomaly Detection/SimNoise/KEGL_97_inf.wav\n",
      "/Users/langchenfan/Documents/Radio Anomaly Detection/SimNoise/KEGL_87_inf.wav\n",
      "/Users/langchenfan/Documents/Radio Anomaly Detection/SimNoise/KDMX_487_inf.wav\n",
      "/Users/langchenfan/Documents/Radio Anomaly Detection/SimNoise/KDMX_497_inf.wav\n",
      "/Users/langchenfan/Documents/Radio Anomaly Detection/SimNoise/KEGL_469_inf.wav\n",
      "/Users/langchenfan/Documents/Radio Anomaly Detection/SimNoise/KEGL_479_inf.wav\n",
      "/Users/langchenfan/Documents/Radio Anomaly Detection/SimNoise/KDMX_209_inf.wav\n",
      "/Users/langchenfan/Documents/Radio Anomaly Detection/SimNoise/KDMX_219_inf.wav\n",
      "/Users/langchenfan/Documents/Radio Anomaly Detection/SimNoise/FOXS_39_inf.wav\n",
      "/Users/langchenfan/Documents/Radio Anomaly Detection/SimNoise/FOXS_29_inf.wav\n",
      "/Users/langchenfan/Documents/Radio Anomaly Detection/SimNoise/FOXS_117_inf.wav\n",
      "/Users/langchenfan/Documents/Radio Anomaly Detection/SimNoise/FOXS_107_inf.wav\n",
      "/Users/langchenfan/Documents/Radio Anomaly Detection/SimNoise/FOXS_309_inf.wav\n",
      "/Users/langchenfan/Documents/Radio Anomaly Detection/SimNoise/FOXS_319_inf.wav\n",
      "/Users/langchenfan/Documents/Radio Anomaly Detection/SimNoise/KDMX_227_inf.wav\n",
      "/Users/langchenfan/Documents/Radio Anomaly Detection/SimNoise/KDMX_237_inf.wav\n",
      "/Users/langchenfan/Documents/Radio Anomaly Detection/SimNoise/KEGL_447_inf.wav\n",
      "/Users/langchenfan/Documents/Radio Anomaly Detection/SimNoise/KEGL_457_inf.wav\n",
      "/Users/langchenfan/Documents/Radio Anomaly Detection/SimNoise/FOXS_327_inf.wav\n",
      "/Users/langchenfan/Documents/Radio Anomaly Detection/SimNoise/FOXS_337_inf.wav\n",
      "/Users/langchenfan/Documents/Radio Anomaly Detection/SimNoise/FOXS_139_inf.wav\n",
      "/Users/langchenfan/Documents/Radio Anomaly Detection/SimNoise/FOXS_129_inf.wav\n",
      "/Users/langchenfan/Documents/Radio Anomaly Detection/SimNoise/FOXS_17_inf.wav\n",
      "/Users/langchenfan/Documents/Radio Anomaly Detection/SimNoise/KEGL_129_inf.wav\n",
      "/Users/langchenfan/Documents/Radio Anomaly Detection/SimNoise/KEGL_139_inf.wav\n",
      "/Users/langchenfan/Documents/Radio Anomaly Detection/SimNoise/KEGL_337_inf.wav\n",
      "/Users/langchenfan/Documents/Radio Anomaly Detection/SimNoise/KEGL_327_inf.wav\n",
      "/Users/langchenfan/Documents/Radio Anomaly Detection/SimNoise/FOXS_457_inf.wav\n",
      "/Users/langchenfan/Documents/Radio Anomaly Detection/SimNoise/FOXS_447_inf.wav\n",
      "/Users/langchenfan/Documents/Radio Anomaly Detection/SimNoise/KDMX_27_inf.wav\n",
      "/Users/langchenfan/Documents/Radio Anomaly Detection/SimNoise/KDMX_37_inf.wav\n",
      "/Users/langchenfan/Documents/Radio Anomaly Detection/SimNoise/FOXS_199_inf.wav\n",
      "/Users/langchenfan/Documents/Radio Anomaly Detection/SimNoise/FOXS_189_inf.wav\n",
      "/Users/langchenfan/Documents/Radio Anomaly Detection/SimNoise/FOXS_387_inf.wav\n",
      "/Users/langchenfan/Documents/Radio Anomaly Detection/SimNoise/FOXS_397_inf.wav\n",
      "/Users/langchenfan/Documents/Radio Anomaly Detection/SimNoise/KDMX_287_inf.wav\n",
      "/Users/langchenfan/Documents/Radio Anomaly Detection/SimNoise/KDMX_297_inf.wav\n",
      "/Users/langchenfan/Documents/Radio Anomaly Detection/SimNoise/FOXS_509_inf.wav\n",
      "/Users/langchenfan/Documents/Radio Anomaly Detection/SimNoise/FOXS_519_inf.wav\n",
      "/Users/langchenfan/Documents/Radio Anomaly Detection/SimNoise/KEGL_19_inf.wav\n",
      "/Users/langchenfan/Documents/Radio Anomaly Detection/SimNoise/KEGL_269_inf.wav\n",
      "/Users/langchenfan/Documents/Radio Anomaly Detection/SimNoise/KEGL_279_inf.wav\n",
      "/Users/langchenfan/Documents/Radio Anomaly Detection/SimNoise/KDMX_409_inf.wav\n",
      "/Users/langchenfan/Documents/Radio Anomaly Detection/SimNoise/KDMX_419_inf.wav\n",
      "/Users/langchenfan/Documents/Radio Anomaly Detection/SimNoise/FOXS_279_inf.wav\n",
      "/Users/langchenfan/Documents/Radio Anomaly Detection/SimNoise/FOXS_269_inf.wav\n",
      "/Users/langchenfan/Documents/Radio Anomaly Detection/SimNoise/KDMX_167_inf.wav\n",
      "/Users/langchenfan/Documents/Radio Anomaly Detection/SimNoise/KDMX_177_inf.wav\n",
      "/Users/langchenfan/Documents/Radio Anomaly Detection/SimNoise/KEGL_519_inf.wav\n",
      "/Users/langchenfan/Documents/Radio Anomaly Detection/SimNoise/KDMX_87_inf.wav\n",
      "/Users/langchenfan/Documents/Radio Anomaly Detection/SimNoise/KDMX_97_inf.wav\n",
      "/Users/langchenfan/Documents/Radio Anomaly Detection/SimNoise/KEGL_509_inf.wav\n",
      "/Users/langchenfan/Documents/Radio Anomaly Detection/SimNoise/KDMX_379_inf.wav\n",
      "/Users/langchenfan/Documents/Radio Anomaly Detection/SimNoise/KDMX_369_inf.wav\n",
      "/Users/langchenfan/Documents/Radio Anomaly Detection/SimNoise/KEGL_397_inf.wav\n",
      "/Users/langchenfan/Documents/Radio Anomaly Detection/SimNoise/KEGL_387_inf.wav\n",
      "/Users/langchenfan/Documents/Radio Anomaly Detection/SimNoise/KEGL_189_inf.wav\n",
      "/Users/langchenfan/Documents/Radio Anomaly Detection/SimNoise/KEGL_199_inf.wav\n"
     ]
    }
   ],
   "source": [
    "# create features and append to a DataFrame\n",
    "df_train = pd.DataFrame()\n",
    "for audio_file in cleanwav:\n",
    "    print(audio_file)\n",
    "    audio_ts, sr= lr.load(audio_file, sr=sr_)\n",
    "    df_temp = train_model.extract_features_autoencoder(audio_ts=audio_ts, sr=sr)\n",
    "    df_temp['audio_file'] = audio_file\n",
    "    df_temp['audio_idx'] = df_temp.index.values\n",
    "    df_train = pd.concat([df_train, df_temp ], axis=0)"
   ],
   "metadata": {
    "collapsed": false,
    "pycharm": {
     "name": "#%%\n"
    }
   }
  },
  {
   "cell_type": "code",
   "execution_count": 4,
   "outputs": [],
   "source": [
    "df_train.to_pickle(aapp+'_train_data.pkl')"
   ],
   "metadata": {
    "collapsed": false,
    "pycharm": {
     "name": "#%%\n"
    }
   }
  },
  {
   "cell_type": "code",
   "execution_count": 5,
   "outputs": [],
   "source": [
    "# df_train = pd.read_pickle('train_data.pkl')"
   ],
   "metadata": {
    "collapsed": false,
    "pycharm": {
     "name": "#%%\n"
    }
   }
  },
  {
   "cell_type": "code",
   "execution_count": 6,
   "outputs": [],
   "source": [
    "id_cols = ['audio_file', 'audio_idx']\n",
    "feature_cols = list(set(df_train.columns) - set(id_cols))"
   ],
   "metadata": {
    "collapsed": false,
    "pycharm": {
     "name": "#%%\n"
    }
   }
  },
  {
   "cell_type": "code",
   "execution_count": 7,
   "outputs": [
    {
     "data": {
      "text/plain": "     feature_1  feature_2  feature_3  feature_4  feature_5  feature_6  \\\n4     0.156479   1.672886   5.182564   5.551458   3.699408   6.156624   \n5     0.107535   2.537602  17.305208  11.643184   2.006175  18.889177   \n6     0.009574   4.011597  26.132801  13.529487   0.845595  25.513981   \n7     0.018439   4.316293  36.117489  24.909208   1.885569  14.894025   \n8     0.012057   2.668234  43.239403  51.614162   4.751110   3.998047   \n..         ...        ...        ...        ...        ...        ...   \n857   0.000899   0.002112   0.005277   0.009001   0.030598   0.028017   \n858   0.002003   0.002986   0.001380   0.003409   0.043919   0.055687   \n859   0.000901   0.002311   0.003125   0.007483   0.059777   0.084669   \n860   0.000875   0.000645   0.001701   0.015502   0.070006   0.027290   \n861   0.001744   0.002374   0.001484   0.011324   0.057807   0.025108   \n\n      feature_7   feature_8  feature_9  feature_10  ...   feature_633  \\\n4      5.895339    1.320014   0.703868    0.789639  ...  5.350410e-09   \n5     23.068369    0.945396   0.755706    5.202226  ...  6.675677e-09   \n6     52.980659    4.086813   0.734454   13.342801  ...  3.972076e-09   \n7     99.801865   37.618896   2.200423   11.534718  ...  3.114539e-10   \n8    100.892738  132.501617  23.784758    6.126424  ...  3.561753e-11   \n..          ...         ...        ...         ...  ...           ...   \n857    0.023791    0.032156   0.056175    0.062818  ...  4.473786e-10   \n858    0.026087    0.098010   0.222408    0.057463  ...  2.566267e-10   \n859    0.069214    0.089946   0.172204    0.074682  ...  7.937940e-10   \n860    0.091497    0.046801   0.020903    0.015689  ...  2.628095e-07   \n861    0.034373    0.025133   0.003469    0.003141  ...  3.533829e-06   \n\n      feature_634   feature_635   feature_636   feature_637   feature_638  \\\n4    1.049699e-09  2.925657e-10  3.009140e-10  2.536475e-10  4.081990e-10   \n5    1.341658e-09  3.873960e-10  4.688402e-10  2.833254e-10  3.745491e-10   \n6    8.665728e-10  2.834988e-10  2.845454e-10  2.242422e-10  2.816106e-10   \n7    2.543861e-10  1.334667e-10  6.682423e-11  1.222451e-10  1.419644e-10   \n8    2.816698e-11  7.230779e-11  5.338713e-12  6.697259e-11  6.009226e-11   \n..            ...           ...           ...           ...           ...   \n857  3.132754e-13  2.721248e-13  1.875032e-13  4.116247e-13  1.232804e-13   \n858  7.964242e-14  8.259779e-14  4.135196e-14  6.962612e-14  5.363387e-14   \n859  6.005446e-14  7.140828e-14  7.361166e-14  4.197292e-14  5.780236e-14   \n860  2.498753e-07  2.429229e-07  2.371534e-07  2.328058e-07  2.290468e-07   \n861  3.383522e-06  3.289397e-06  3.211634e-06  3.152477e-06  3.101723e-06   \n\n      feature_639   feature_640  \\\n4    3.773988e-10  1.402298e-11   \n5    4.072206e-10  2.000033e-11   \n6    3.162146e-10  1.857806e-11   \n7    1.325815e-10  1.061936e-11   \n8    2.972199e-11  5.009898e-12   \n..            ...           ...   \n857  1.878232e-13  1.293975e-13   \n858  8.299074e-14  4.611510e-14   \n859  5.332722e-14  5.198192e-14   \n860  2.263846e-07  2.247680e-07   \n861  3.065785e-06  3.043831e-06   \n\n                                            audio_file  audio_idx  \n4    /Users/langchenfan/Documents/Radio Anomaly Det...          4  \n5    /Users/langchenfan/Documents/Radio Anomaly Det...          5  \n6    /Users/langchenfan/Documents/Radio Anomaly Det...          6  \n7    /Users/langchenfan/Documents/Radio Anomaly Det...          7  \n8    /Users/langchenfan/Documents/Radio Anomaly Det...          8  \n..                                                 ...        ...  \n857  /Users/langchenfan/Documents/Radio Anomaly Det...        857  \n858  /Users/langchenfan/Documents/Radio Anomaly Det...        858  \n859  /Users/langchenfan/Documents/Radio Anomaly Det...        859  \n860  /Users/langchenfan/Documents/Radio Anomaly Det...        860  \n861  /Users/langchenfan/Documents/Radio Anomaly Det...        861  \n\n[277992 rows x 642 columns]",
      "text/html": "<div>\n<style scoped>\n    .dataframe tbody tr th:only-of-type {\n        vertical-align: middle;\n    }\n\n    .dataframe tbody tr th {\n        vertical-align: top;\n    }\n\n    .dataframe thead th {\n        text-align: right;\n    }\n</style>\n<table border=\"1\" class=\"dataframe\">\n  <thead>\n    <tr style=\"text-align: right;\">\n      <th></th>\n      <th>feature_1</th>\n      <th>feature_2</th>\n      <th>feature_3</th>\n      <th>feature_4</th>\n      <th>feature_5</th>\n      <th>feature_6</th>\n      <th>feature_7</th>\n      <th>feature_8</th>\n      <th>feature_9</th>\n      <th>feature_10</th>\n      <th>...</th>\n      <th>feature_633</th>\n      <th>feature_634</th>\n      <th>feature_635</th>\n      <th>feature_636</th>\n      <th>feature_637</th>\n      <th>feature_638</th>\n      <th>feature_639</th>\n      <th>feature_640</th>\n      <th>audio_file</th>\n      <th>audio_idx</th>\n    </tr>\n  </thead>\n  <tbody>\n    <tr>\n      <th>4</th>\n      <td>0.156479</td>\n      <td>1.672886</td>\n      <td>5.182564</td>\n      <td>5.551458</td>\n      <td>3.699408</td>\n      <td>6.156624</td>\n      <td>5.895339</td>\n      <td>1.320014</td>\n      <td>0.703868</td>\n      <td>0.789639</td>\n      <td>...</td>\n      <td>5.350410e-09</td>\n      <td>1.049699e-09</td>\n      <td>2.925657e-10</td>\n      <td>3.009140e-10</td>\n      <td>2.536475e-10</td>\n      <td>4.081990e-10</td>\n      <td>3.773988e-10</td>\n      <td>1.402298e-11</td>\n      <td>/Users/langchenfan/Documents/Radio Anomaly Det...</td>\n      <td>4</td>\n    </tr>\n    <tr>\n      <th>5</th>\n      <td>0.107535</td>\n      <td>2.537602</td>\n      <td>17.305208</td>\n      <td>11.643184</td>\n      <td>2.006175</td>\n      <td>18.889177</td>\n      <td>23.068369</td>\n      <td>0.945396</td>\n      <td>0.755706</td>\n      <td>5.202226</td>\n      <td>...</td>\n      <td>6.675677e-09</td>\n      <td>1.341658e-09</td>\n      <td>3.873960e-10</td>\n      <td>4.688402e-10</td>\n      <td>2.833254e-10</td>\n      <td>3.745491e-10</td>\n      <td>4.072206e-10</td>\n      <td>2.000033e-11</td>\n      <td>/Users/langchenfan/Documents/Radio Anomaly Det...</td>\n      <td>5</td>\n    </tr>\n    <tr>\n      <th>6</th>\n      <td>0.009574</td>\n      <td>4.011597</td>\n      <td>26.132801</td>\n      <td>13.529487</td>\n      <td>0.845595</td>\n      <td>25.513981</td>\n      <td>52.980659</td>\n      <td>4.086813</td>\n      <td>0.734454</td>\n      <td>13.342801</td>\n      <td>...</td>\n      <td>3.972076e-09</td>\n      <td>8.665728e-10</td>\n      <td>2.834988e-10</td>\n      <td>2.845454e-10</td>\n      <td>2.242422e-10</td>\n      <td>2.816106e-10</td>\n      <td>3.162146e-10</td>\n      <td>1.857806e-11</td>\n      <td>/Users/langchenfan/Documents/Radio Anomaly Det...</td>\n      <td>6</td>\n    </tr>\n    <tr>\n      <th>7</th>\n      <td>0.018439</td>\n      <td>4.316293</td>\n      <td>36.117489</td>\n      <td>24.909208</td>\n      <td>1.885569</td>\n      <td>14.894025</td>\n      <td>99.801865</td>\n      <td>37.618896</td>\n      <td>2.200423</td>\n      <td>11.534718</td>\n      <td>...</td>\n      <td>3.114539e-10</td>\n      <td>2.543861e-10</td>\n      <td>1.334667e-10</td>\n      <td>6.682423e-11</td>\n      <td>1.222451e-10</td>\n      <td>1.419644e-10</td>\n      <td>1.325815e-10</td>\n      <td>1.061936e-11</td>\n      <td>/Users/langchenfan/Documents/Radio Anomaly Det...</td>\n      <td>7</td>\n    </tr>\n    <tr>\n      <th>8</th>\n      <td>0.012057</td>\n      <td>2.668234</td>\n      <td>43.239403</td>\n      <td>51.614162</td>\n      <td>4.751110</td>\n      <td>3.998047</td>\n      <td>100.892738</td>\n      <td>132.501617</td>\n      <td>23.784758</td>\n      <td>6.126424</td>\n      <td>...</td>\n      <td>3.561753e-11</td>\n      <td>2.816698e-11</td>\n      <td>7.230779e-11</td>\n      <td>5.338713e-12</td>\n      <td>6.697259e-11</td>\n      <td>6.009226e-11</td>\n      <td>2.972199e-11</td>\n      <td>5.009898e-12</td>\n      <td>/Users/langchenfan/Documents/Radio Anomaly Det...</td>\n      <td>8</td>\n    </tr>\n    <tr>\n      <th>...</th>\n      <td>...</td>\n      <td>...</td>\n      <td>...</td>\n      <td>...</td>\n      <td>...</td>\n      <td>...</td>\n      <td>...</td>\n      <td>...</td>\n      <td>...</td>\n      <td>...</td>\n      <td>...</td>\n      <td>...</td>\n      <td>...</td>\n      <td>...</td>\n      <td>...</td>\n      <td>...</td>\n      <td>...</td>\n      <td>...</td>\n      <td>...</td>\n      <td>...</td>\n      <td>...</td>\n    </tr>\n    <tr>\n      <th>857</th>\n      <td>0.000899</td>\n      <td>0.002112</td>\n      <td>0.005277</td>\n      <td>0.009001</td>\n      <td>0.030598</td>\n      <td>0.028017</td>\n      <td>0.023791</td>\n      <td>0.032156</td>\n      <td>0.056175</td>\n      <td>0.062818</td>\n      <td>...</td>\n      <td>4.473786e-10</td>\n      <td>3.132754e-13</td>\n      <td>2.721248e-13</td>\n      <td>1.875032e-13</td>\n      <td>4.116247e-13</td>\n      <td>1.232804e-13</td>\n      <td>1.878232e-13</td>\n      <td>1.293975e-13</td>\n      <td>/Users/langchenfan/Documents/Radio Anomaly Det...</td>\n      <td>857</td>\n    </tr>\n    <tr>\n      <th>858</th>\n      <td>0.002003</td>\n      <td>0.002986</td>\n      <td>0.001380</td>\n      <td>0.003409</td>\n      <td>0.043919</td>\n      <td>0.055687</td>\n      <td>0.026087</td>\n      <td>0.098010</td>\n      <td>0.222408</td>\n      <td>0.057463</td>\n      <td>...</td>\n      <td>2.566267e-10</td>\n      <td>7.964242e-14</td>\n      <td>8.259779e-14</td>\n      <td>4.135196e-14</td>\n      <td>6.962612e-14</td>\n      <td>5.363387e-14</td>\n      <td>8.299074e-14</td>\n      <td>4.611510e-14</td>\n      <td>/Users/langchenfan/Documents/Radio Anomaly Det...</td>\n      <td>858</td>\n    </tr>\n    <tr>\n      <th>859</th>\n      <td>0.000901</td>\n      <td>0.002311</td>\n      <td>0.003125</td>\n      <td>0.007483</td>\n      <td>0.059777</td>\n      <td>0.084669</td>\n      <td>0.069214</td>\n      <td>0.089946</td>\n      <td>0.172204</td>\n      <td>0.074682</td>\n      <td>...</td>\n      <td>7.937940e-10</td>\n      <td>6.005446e-14</td>\n      <td>7.140828e-14</td>\n      <td>7.361166e-14</td>\n      <td>4.197292e-14</td>\n      <td>5.780236e-14</td>\n      <td>5.332722e-14</td>\n      <td>5.198192e-14</td>\n      <td>/Users/langchenfan/Documents/Radio Anomaly Det...</td>\n      <td>859</td>\n    </tr>\n    <tr>\n      <th>860</th>\n      <td>0.000875</td>\n      <td>0.000645</td>\n      <td>0.001701</td>\n      <td>0.015502</td>\n      <td>0.070006</td>\n      <td>0.027290</td>\n      <td>0.091497</td>\n      <td>0.046801</td>\n      <td>0.020903</td>\n      <td>0.015689</td>\n      <td>...</td>\n      <td>2.628095e-07</td>\n      <td>2.498753e-07</td>\n      <td>2.429229e-07</td>\n      <td>2.371534e-07</td>\n      <td>2.328058e-07</td>\n      <td>2.290468e-07</td>\n      <td>2.263846e-07</td>\n      <td>2.247680e-07</td>\n      <td>/Users/langchenfan/Documents/Radio Anomaly Det...</td>\n      <td>860</td>\n    </tr>\n    <tr>\n      <th>861</th>\n      <td>0.001744</td>\n      <td>0.002374</td>\n      <td>0.001484</td>\n      <td>0.011324</td>\n      <td>0.057807</td>\n      <td>0.025108</td>\n      <td>0.034373</td>\n      <td>0.025133</td>\n      <td>0.003469</td>\n      <td>0.003141</td>\n      <td>...</td>\n      <td>3.533829e-06</td>\n      <td>3.383522e-06</td>\n      <td>3.289397e-06</td>\n      <td>3.211634e-06</td>\n      <td>3.152477e-06</td>\n      <td>3.101723e-06</td>\n      <td>3.065785e-06</td>\n      <td>3.043831e-06</td>\n      <td>/Users/langchenfan/Documents/Radio Anomaly Det...</td>\n      <td>861</td>\n    </tr>\n  </tbody>\n</table>\n<p>277992 rows × 642 columns</p>\n</div>"
     },
     "execution_count": 7,
     "metadata": {},
     "output_type": "execute_result"
    }
   ],
   "source": [
    "df_train"
   ],
   "metadata": {
    "collapsed": false,
    "pycharm": {
     "name": "#%%\n"
    }
   }
  },
  {
   "cell_type": "code",
   "execution_count": 8,
   "outputs": [],
   "source": [
    "from sklearn.model_selection import train_test_split\n",
    "VALIDATE_SIZE = 0.2\n",
    "RANDOM_SEED = 42\n",
    "# train // validate - no labels since they're all clean anyway\n",
    "X_train, X_validate = train_test_split(df_train[feature_cols], test_size=VALIDATE_SIZE, random_state=RANDOM_SEED )"
   ],
   "metadata": {
    "collapsed": false,
    "pycharm": {
     "name": "#%%\n"
    }
   }
  },
  {
   "cell_type": "code",
   "execution_count": 9,
   "outputs": [],
   "source": [
    "from sklearn.preprocessing import Normalizer, MinMaxScaler\n",
    "from sklearn.pipeline import Pipeline\n",
    "\n",
    "# configure our pipeline\n",
    "pipeline = Pipeline([('normalizer', Normalizer()),\n",
    "                     ('scaler', MinMaxScaler())])"
   ],
   "metadata": {
    "collapsed": false,
    "pycharm": {
     "name": "#%%\n"
    }
   }
  },
  {
   "cell_type": "code",
   "execution_count": 10,
   "outputs": [],
   "source": [
    "from sklearn.preprocessing import MinMaxScaler\n",
    "pipeline.fit(X_train)\n",
    "X_train_transformed = pd.DataFrame(pipeline.transform(X_train), columns=X_train.columns, index=X_train.index)\n",
    "X_validate_transformed = pd.DataFrame(pipeline.transform(X_validate), columns=X_validate.columns, index=X_validate.index)"
   ],
   "metadata": {
    "collapsed": false,
    "pycharm": {
     "name": "#%%\n"
    }
   }
  },
  {
   "cell_type": "code",
   "execution_count": 11,
   "outputs": [
    {
     "name": "stdout",
     "output_type": "stream",
     "text": [
      "Metal device set to: Apple M1 Pro\n"
     ]
    },
    {
     "name": "stderr",
     "output_type": "stream",
     "text": [
      "2022-11-30 15:25:09.883179: I tensorflow/core/common_runtime/pluggable_device/pluggable_device_factory.cc:306] Could not identify NUMA node of platform GPU ID 0, defaulting to 0. Your kernel may not have been built with NUMA support.\n",
      "2022-11-30 15:25:09.883358: I tensorflow/core/common_runtime/pluggable_device/pluggable_device_factory.cc:272] Created TensorFlow device (/job:localhost/replica:0/task:0/device:GPU:0 with 0 MB memory) -> physical PluggableDevice (device: 0, name: METAL, pci bus id: <undefined>)\n"
     ]
    },
    {
     "name": "stdout",
     "output_type": "stream",
     "text": [
      "Model: \"sequential\"\n",
      "_________________________________________________________________\n",
      " Layer (type)                Output Shape              Param #   \n",
      "=================================================================\n",
      " dense (Dense)               (None, 640)               410240    \n",
      "                                                                 \n",
      " dense_1 (Dense)             (None, 128)               82048     \n",
      "                                                                 \n",
      " dense_2 (Dense)             (None, 128)               16512     \n",
      "                                                                 \n",
      " dense_3 (Dense)             (None, 128)               16512     \n",
      "                                                                 \n",
      " dense_4 (Dense)             (None, 128)               16512     \n",
      "                                                                 \n",
      " dense_5 (Dense)             (None, 32)                4128      \n",
      "                                                                 \n",
      " dense_6 (Dense)             (None, 128)               4224      \n",
      "                                                                 \n",
      " dense_7 (Dense)             (None, 128)               16512     \n",
      "                                                                 \n",
      " dense_8 (Dense)             (None, 128)               16512     \n",
      "                                                                 \n",
      " dense_9 (Dense)             (None, 128)               16512     \n",
      "                                                                 \n",
      " dense_10 (Dense)            (None, 640)               82560     \n",
      "                                                                 \n",
      "=================================================================\n",
      "Total params: 682,272\n",
      "Trainable params: 682,272\n",
      "Non-trainable params: 0\n",
      "_________________________________________________________________\n"
     ]
    }
   ],
   "source": [
    "import tensorflow as tf\n",
    "\n",
    "# setup nn architecture\n",
    "\n",
    "# data dimensions // hyperparameters\n",
    "input_dim = X_train_transformed.shape[1]\n",
    "BATCH_SIZE = 256\n",
    "EPOCHS = 100\n",
    "\n",
    "# https://keras.io/layers/core/\n",
    "autoencoder = tf.keras.models.Sequential([\n",
    "\n",
    "    # deconstruct / encode\n",
    "    tf.keras.layers.Dense(input_dim, activation='elu', input_shape=(input_dim,)),\n",
    "    tf.keras.layers.Dense(128, activation='elu'),\n",
    "    tf.keras.layers.Dense(128, activation='elu'),\n",
    "    tf.keras.layers.Dense(128, activation='elu'),\n",
    "    tf.keras.layers.Dense(128, activation='elu'),\n",
    "    tf.keras.layers.Dense(32, activation='elu'),\n",
    "\n",
    "    # reconstruction / decode\n",
    "    tf.keras.layers.Dense(128, activation='elu'),\n",
    "    tf.keras.layers.Dense(128, activation='elu'),\n",
    "    tf.keras.layers.Dense(128, activation='elu'),\n",
    "    tf.keras.layers.Dense(128, activation='elu'),\n",
    "    tf.keras.layers.Dense(input_dim, activation='elu')\n",
    "\n",
    "])\n",
    "\n",
    "# opt = tf.keras.optimizers.Adam(learning_rate=1e-03)\n",
    "# https://keras.io/api/models/model_training_apis/\n",
    "autoencoder.compile(optimizer=\"adam\",\n",
    "                    loss=\"mse\",\n",
    "                    metrics=[\"acc\"])\n",
    "\n",
    "# print an overview of our model\n",
    "autoencoder.summary();"
   ],
   "metadata": {
    "collapsed": false,
    "pycharm": {
     "name": "#%%\n"
    }
   }
  },
  {
   "cell_type": "code",
   "execution_count": 12,
   "outputs": [
    {
     "name": "stdout",
     "output_type": "stream",
     "text": [
      "WARNING:tensorflow:`batch_size` is no longer needed in the `TensorBoard` Callback and will be ignored in TensorFlow 2.0.\n"
     ]
    }
   ],
   "source": [
    "# Callbacks\n",
    "from datetime import datetime\n",
    "\n",
    "# current date and time\n",
    "yyyymmddHHMM = datetime.now().strftime('%Y%m%d%H%M')\n",
    "\n",
    "# new folder for a new run\n",
    "log_subdir = f'{yyyymmddHHMM}_batch{BATCH_SIZE}_layers{len(autoencoder.layers)}'\n",
    "\n",
    "# define our early stopping\n",
    "early_stop = tf.keras.callbacks.EarlyStopping(\n",
    "    monitor='val_loss',\n",
    "    min_delta=0.0001,\n",
    "    patience=10,\n",
    "    verbose=1,\n",
    "    mode='min',\n",
    "    restore_best_weights=True\n",
    ")\n",
    "\n",
    "save_model = tf.keras.callbacks.ModelCheckpoint(\n",
    "    filepath=aapp+'_autoencoder_best_weights.hdf5',\n",
    "    save_best_only=True,\n",
    "    monitor='val_loss',\n",
    "    verbose=0,\n",
    "    mode='min'\n",
    ")\n",
    "\n",
    "tensorboard = tf.keras.callbacks.TensorBoard(\n",
    "    f'logs/{log_subdir}',\n",
    "    batch_size=BATCH_SIZE,\n",
    "    update_freq='batch'\n",
    ")\n",
    "\n",
    "# callbacks argument only takes a list\n",
    "cb = [early_stop, save_model, tensorboard]"
   ],
   "metadata": {
    "collapsed": false,
    "pycharm": {
     "name": "#%%\n"
    }
   }
  },
  {
   "cell_type": "code",
   "execution_count": 13,
   "outputs": [
    {
     "name": "stdout",
     "output_type": "stream",
     "text": [
      "Epoch 1/100\n"
     ]
    },
    {
     "name": "stderr",
     "output_type": "stream",
     "text": [
      "2022-11-30 15:25:12.896939: W tensorflow/core/platform/profile_utils/cpu_utils.cc:128] Failed to get CPU frequency: 0 Hz\n",
      "2022-11-30 15:25:13.362231: I tensorflow/core/grappler/optimizers/custom_graph_optimizer_registry.cc:114] Plugin optimizer for device_type GPU is enabled.\n"
     ]
    },
    {
     "name": "stdout",
     "output_type": "stream",
     "text": [
      "869/869 [==============================] - ETA: 0s - loss: 7.1461e-04 - acc: 0.4708"
     ]
    },
    {
     "name": "stderr",
     "output_type": "stream",
     "text": [
      "2022-11-30 15:25:43.281856: I tensorflow/core/grappler/optimizers/custom_graph_optimizer_registry.cc:114] Plugin optimizer for device_type GPU is enabled.\n"
     ]
    },
    {
     "name": "stdout",
     "output_type": "stream",
     "text": [
      "869/869 [==============================] - 34s 38ms/step - loss: 7.1461e-04 - acc: 0.4708 - val_loss: 5.6626e-04 - val_acc: 0.5262\n",
      "Epoch 2/100\n",
      "869/869 [==============================] - 30s 34ms/step - loss: 5.1281e-04 - acc: 0.5474 - val_loss: 4.6579e-04 - val_acc: 0.5738\n",
      "Epoch 3/100\n",
      "869/869 [==============================] - 28s 33ms/step - loss: 4.2949e-04 - acc: 0.5912 - val_loss: 4.0240e-04 - val_acc: 0.6130\n",
      "Epoch 4/100\n",
      "869/869 [==============================] - 31s 36ms/step - loss: 3.8447e-04 - acc: 0.6238 - val_loss: 3.7146e-04 - val_acc: 0.6330\n",
      "Epoch 5/100\n",
      "869/869 [==============================] - 31s 35ms/step - loss: 3.5974e-04 - acc: 0.6399 - val_loss: 3.5360e-04 - val_acc: 0.6468\n",
      "Epoch 6/100\n",
      "869/869 [==============================] - 29s 34ms/step - loss: 3.4274e-04 - acc: 0.6517 - val_loss: 3.3666e-04 - val_acc: 0.6574\n",
      "Epoch 7/100\n",
      "869/869 [==============================] - 28s 32ms/step - loss: 3.2922e-04 - acc: 0.6629 - val_loss: 3.2456e-04 - val_acc: 0.6679\n",
      "Epoch 8/100\n",
      "869/869 [==============================] - 27s 31ms/step - loss: 3.1790e-04 - acc: 0.6737 - val_loss: 3.1433e-04 - val_acc: 0.6838\n",
      "Epoch 9/100\n",
      "869/869 [==============================] - 29s 33ms/step - loss: 3.0864e-04 - acc: 0.6814 - val_loss: 3.0745e-04 - val_acc: 0.6847\n",
      "Epoch 10/100\n",
      "869/869 [==============================] - 28s 32ms/step - loss: 3.0081e-04 - acc: 0.6879 - val_loss: 2.9856e-04 - val_acc: 0.6935\n",
      "Epoch 11/100\n",
      "869/869 [==============================] - 28s 32ms/step - loss: 2.9419e-04 - acc: 0.6929 - val_loss: 2.9170e-04 - val_acc: 0.6991\n",
      "Epoch 12/100\n",
      "869/869 [==============================] - 30s 35ms/step - loss: 2.8860e-04 - acc: 0.6981 - val_loss: 2.8695e-04 - val_acc: 0.6997\n",
      "Epoch 13/100\n",
      "869/869 [==============================] - 27s 31ms/step - loss: 2.8385e-04 - acc: 0.7017 - val_loss: 2.8336e-04 - val_acc: 0.7031\n",
      "Epoch 14/100\n",
      "869/869 [==============================] - 30s 34ms/step - loss: 2.7941e-04 - acc: 0.7056 - val_loss: 2.7909e-04 - val_acc: 0.7066\n",
      "Epoch 15/100\n",
      "869/869 [==============================] - ETA: 0s - loss: 2.7597e-04 - acc: 0.7077Restoring model weights from the end of the best epoch: 5.\n",
      "869/869 [==============================] - 30s 35ms/step - loss: 2.7597e-04 - acc: 0.7077 - val_loss: 2.7613e-04 - val_acc: 0.7086\n",
      "Epoch 15: early stopping\n"
     ]
    }
   ],
   "source": [
    "# train model\n",
    "history = autoencoder.fit(\n",
    "    X_train_transformed, X_train_transformed,\n",
    "    shuffle=True,\n",
    "    epochs=EPOCHS,\n",
    "    batch_size=BATCH_SIZE,\n",
    "    callbacks=cb,\n",
    "    validation_data=(X_validate_transformed, X_validate_transformed)\n",
    ");"
   ],
   "metadata": {
    "collapsed": false,
    "pycharm": {
     "name": "#%%\n"
    }
   }
  },
  {
   "cell_type": "code",
   "execution_count": 15,
   "outputs": [
    {
     "name": "stdout",
     "output_type": "stream",
     "text": [
      "/Users/langchenfan/Documents/Radio Anomaly Detection/SimNoise/FOXS_123_whitenoise.wav\n",
      "/Users/langchenfan/Documents/Radio Anomaly Detection/SimNoise/KDMX_343_whitenoise.wav\n",
      "/Users/langchenfan/Documents/Radio Anomaly Detection/SimNoise/KEGL_105_whitenoise.wav\n",
      "/Users/langchenfan/Documents/Radio Anomaly Detection/SimNoise/KDMX_255_whitenoise.wav\n",
      "/Users/langchenfan/Documents/Radio Anomaly Detection/SimNoise/FOXS_65_whitenoise.wav\n",
      "/Users/langchenfan/Documents/Radio Anomaly Detection/SimNoise/KDMX_185_whitenoise.wav\n",
      "/Users/langchenfan/Documents/Radio Anomaly Detection/SimNoise/KDMX_25_whitenoise.wav\n",
      "/Users/langchenfan/Documents/Radio Anomaly Detection/SimNoise/KEGL_463_whitenoise.wav\n",
      "/Users/langchenfan/Documents/Radio Anomaly Detection/SimNoise/FOXS_445_whitenoise.wav\n",
      "/Users/langchenfan/Documents/Radio Anomaly Detection/SimNoise/KEGL_25_whitenoise.wav\n",
      "/Users/langchenfan/Documents/Radio Anomaly Detection/SimNoise/KDMX_465_whitenoise.wav\n",
      "/Users/langchenfan/Documents/Radio Anomaly Detection/SimNoise/KEGL_183_whitenoise.wav\n",
      "/Users/langchenfan/Documents/Radio Anomaly Detection/SimNoise/KEGL_253_whitenoise.wav\n",
      "/Users/langchenfan/Documents/Radio Anomaly Detection/SimNoise/FOXS_275_whitenoise.wav\n",
      "/Users/langchenfan/Documents/Radio Anomaly Detection/SimNoise/KEGL_345_whitenoise.wav\n",
      "/Users/langchenfan/Documents/Radio Anomaly Detection/SimNoise/FOXS_363_whitenoise.wav\n",
      "/Users/langchenfan/Documents/Radio Anomaly Detection/SimNoise/KDMX_103_whitenoise.wav\n",
      "/Users/langchenfan/Documents/Radio Anomaly Detection/SimNoise/KEGL_415_whitenoise.wav\n",
      "/Users/langchenfan/Documents/Radio Anomaly Detection/SimNoise/FOXS_433_whitenoise.wav\n",
      "/Users/langchenfan/Documents/Radio Anomaly Detection/SimNoise/KDMX_495_whitenoise.wav\n",
      "/Users/langchenfan/Documents/Radio Anomaly Detection/SimNoise/KDMX_53_whitenoise.wav\n",
      "/Users/langchenfan/Documents/Radio Anomaly Detection/SimNoise/KEGL_503_whitenoise.wav\n",
      "/Users/langchenfan/Documents/Radio Anomaly Detection/SimNoise/FOXS_525_whitenoise.wav\n",
      "/Users/langchenfan/Documents/Radio Anomaly Detection/SimNoise/FOXS_393_whitenoise.wav\n",
      "/Users/langchenfan/Documents/Radio Anomaly Detection/SimNoise/KDMX_223_whitenoise.wav\n",
      "/Users/langchenfan/Documents/Radio Anomaly Detection/SimNoise/FOXS_13_whitenoise.wav\n",
      "/Users/langchenfan/Documents/Radio Anomaly Detection/SimNoise/FOXS_285_whitenoise.wav\n",
      "/Users/langchenfan/Documents/Radio Anomaly Detection/SimNoise/KDMX_335_whitenoise.wav\n",
      "/Users/langchenfan/Documents/Radio Anomaly Detection/SimNoise/FOXS_155_whitenoise.wav\n",
      "/Users/langchenfan/Documents/Radio Anomaly Detection/SimNoise/KEGL_173_whitenoise.wav\n",
      "/Users/langchenfan/Documents/Radio Anomaly Detection/SimNoise/KEGL_333_whitenoise.wav\n",
      "/Users/langchenfan/Documents/Radio Anomaly Detection/SimNoise/KDMX_175_whitenoise.wav\n",
      "/Users/langchenfan/Documents/Radio Anomaly Detection/SimNoise/FOXS_315_whitenoise.wav\n",
      "/Users/langchenfan/Documents/Radio Anomaly Detection/SimNoise/FOXS_95_whitenoise.wav\n",
      "/Users/langchenfan/Documents/Radio Anomaly Detection/SimNoise/KEGL_225_whitenoise.wav\n",
      "/Users/langchenfan/Documents/Radio Anomaly Detection/SimNoise/FOXS_203_whitenoise.wav\n",
      "/Users/langchenfan/Documents/Radio Anomaly Detection/SimNoise/KDMX_505_whitenoise.wav\n",
      "/Users/langchenfan/Documents/Radio Anomaly Detection/SimNoise/KEGL_493_whitenoise.wav\n",
      "/Users/langchenfan/Documents/Radio Anomaly Detection/SimNoise/KDMX_413_whitenoise.wav\n",
      "/Users/langchenfan/Documents/Radio Anomaly Detection/SimNoise/KEGL_53_whitenoise.wav\n",
      "/Users/langchenfan/Documents/Radio Anomaly Detection/SimNoise/KEGL_23_whitenoise.wav\n",
      "/Users/langchenfan/Documents/Radio Anomaly Detection/SimNoise/KDMX_463_whitenoise.wav\n",
      "/Users/langchenfan/Documents/Radio Anomaly Detection/SimNoise/KEGL_185_whitenoise.wav\n",
      "/Users/langchenfan/Documents/Radio Anomaly Detection/SimNoise/FOXS_273_whitenoise.wav\n",
      "/Users/langchenfan/Documents/Radio Anomaly Detection/SimNoise/KEGL_255_whitenoise.wav\n",
      "/Users/langchenfan/Documents/Radio Anomaly Detection/SimNoise/FOXS_365_whitenoise.wav\n",
      "/Users/langchenfan/Documents/Radio Anomaly Detection/SimNoise/KDMX_105_whitenoise.wav\n",
      "/Users/langchenfan/Documents/Radio Anomaly Detection/SimNoise/KEGL_343_whitenoise.wav\n",
      "/Users/langchenfan/Documents/Radio Anomaly Detection/SimNoise/KEGL_103_whitenoise.wav\n",
      "/Users/langchenfan/Documents/Radio Anomaly Detection/SimNoise/FOXS_125_whitenoise.wav\n",
      "/Users/langchenfan/Documents/Radio Anomaly Detection/SimNoise/KDMX_345_whitenoise.wav\n",
      "/Users/langchenfan/Documents/Radio Anomaly Detection/SimNoise/FOXS_63_whitenoise.wav\n",
      "/Users/langchenfan/Documents/Radio Anomaly Detection/SimNoise/KDMX_253_whitenoise.wav\n",
      "/Users/langchenfan/Documents/Radio Anomaly Detection/SimNoise/KDMX_183_whitenoise.wav\n",
      "/Users/langchenfan/Documents/Radio Anomaly Detection/SimNoise/KDMX_23_whitenoise.wav\n",
      "/Users/langchenfan/Documents/Radio Anomaly Detection/SimNoise/FOXS_443_whitenoise.wav\n",
      "/Users/langchenfan/Documents/Radio Anomaly Detection/SimNoise/KEGL_465_whitenoise.wav\n",
      "/Users/langchenfan/Documents/Radio Anomaly Detection/SimNoise/KDMX_173_whitenoise.wav\n",
      "/Users/langchenfan/Documents/Radio Anomaly Detection/SimNoise/FOXS_313_whitenoise.wav\n",
      "/Users/langchenfan/Documents/Radio Anomaly Detection/SimNoise/KEGL_335_whitenoise.wav\n",
      "/Users/langchenfan/Documents/Radio Anomaly Detection/SimNoise/FOXS_93_whitenoise.wav\n",
      "/Users/langchenfan/Documents/Radio Anomaly Detection/SimNoise/FOXS_205_whitenoise.wav\n",
      "/Users/langchenfan/Documents/Radio Anomaly Detection/SimNoise/KEGL_223_whitenoise.wav\n",
      "/Users/langchenfan/Documents/Radio Anomaly Detection/SimNoise/KDMX_503_whitenoise.wav\n",
      "/Users/langchenfan/Documents/Radio Anomaly Detection/SimNoise/KEGL_495_whitenoise.wav\n",
      "/Users/langchenfan/Documents/Radio Anomaly Detection/SimNoise/KDMX_415_whitenoise.wav\n",
      "/Users/langchenfan/Documents/Radio Anomaly Detection/SimNoise/KEGL_55_whitenoise.wav\n",
      "/Users/langchenfan/Documents/Radio Anomaly Detection/SimNoise/FOXS_435_whitenoise.wav\n",
      "/Users/langchenfan/Documents/Radio Anomaly Detection/SimNoise/KEGL_413_whitenoise.wav\n",
      "/Users/langchenfan/Documents/Radio Anomaly Detection/SimNoise/KDMX_493_whitenoise.wav\n",
      "/Users/langchenfan/Documents/Radio Anomaly Detection/SimNoise/FOXS_523_whitenoise.wav\n",
      "/Users/langchenfan/Documents/Radio Anomaly Detection/SimNoise/KDMX_55_whitenoise.wav\n",
      "/Users/langchenfan/Documents/Radio Anomaly Detection/SimNoise/KEGL_505_whitenoise.wav\n",
      "/Users/langchenfan/Documents/Radio Anomaly Detection/SimNoise/FOXS_395_whitenoise.wav\n",
      "/Users/langchenfan/Documents/Radio Anomaly Detection/SimNoise/FOXS_15_whitenoise.wav\n",
      "/Users/langchenfan/Documents/Radio Anomaly Detection/SimNoise/KDMX_225_whitenoise.wav\n",
      "/Users/langchenfan/Documents/Radio Anomaly Detection/SimNoise/FOXS_283_whitenoise.wav\n",
      "/Users/langchenfan/Documents/Radio Anomaly Detection/SimNoise/KEGL_175_whitenoise.wav\n",
      "/Users/langchenfan/Documents/Radio Anomaly Detection/SimNoise/KDMX_333_whitenoise.wav\n",
      "/Users/langchenfan/Documents/Radio Anomaly Detection/SimNoise/FOXS_153_whitenoise.wav\n",
      "/Users/langchenfan/Documents/Radio Anomaly Detection/SimNoise/KEGL_195_whitenoise.wav\n",
      "/Users/langchenfan/Documents/Radio Anomaly Detection/SimNoise/FOXS_263_whitenoise.wav\n",
      "/Users/langchenfan/Documents/Radio Anomaly Detection/SimNoise/KEGL_245_whitenoise.wav\n",
      "/Users/langchenfan/Documents/Radio Anomaly Detection/SimNoise/FOXS_375_whitenoise.wav\n",
      "/Users/langchenfan/Documents/Radio Anomaly Detection/SimNoise/KDMX_115_whitenoise.wav\n",
      "/Users/langchenfan/Documents/Radio Anomaly Detection/SimNoise/KEGL_353_whitenoise.wav\n",
      "/Users/langchenfan/Documents/Radio Anomaly Detection/SimNoise/KEGL_33_whitenoise.wav\n",
      "/Users/langchenfan/Documents/Radio Anomaly Detection/SimNoise/KDMX_473_whitenoise.wav\n",
      "/Users/langchenfan/Documents/Radio Anomaly Detection/SimNoise/KDMX_33_whitenoise.wav\n",
      "/Users/langchenfan/Documents/Radio Anomaly Detection/SimNoise/FOXS_453_whitenoise.wav\n",
      "/Users/langchenfan/Documents/Radio Anomaly Detection/SimNoise/KEGL_475_whitenoise.wav\n",
      "/Users/langchenfan/Documents/Radio Anomaly Detection/SimNoise/KEGL_113_whitenoise.wav\n",
      "/Users/langchenfan/Documents/Radio Anomaly Detection/SimNoise/FOXS_135_whitenoise.wav\n",
      "/Users/langchenfan/Documents/Radio Anomaly Detection/SimNoise/KDMX_355_whitenoise.wav\n",
      "/Users/langchenfan/Documents/Radio Anomaly Detection/SimNoise/FOXS_73_whitenoise.wav\n",
      "/Users/langchenfan/Documents/Radio Anomaly Detection/SimNoise/KDMX_243_whitenoise.wav\n",
      "/Users/langchenfan/Documents/Radio Anomaly Detection/SimNoise/KDMX_193_whitenoise.wav\n",
      "/Users/langchenfan/Documents/Radio Anomaly Detection/SimNoise/KDMX_513_whitenoise.wav\n",
      "/Users/langchenfan/Documents/Radio Anomaly Detection/SimNoise/KEGL_485_whitenoise.wav\n",
      "/Users/langchenfan/Documents/Radio Anomaly Detection/SimNoise/KDMX_405_whitenoise.wav\n",
      "/Users/langchenfan/Documents/Radio Anomaly Detection/SimNoise/KEGL_45_whitenoise.wav\n",
      "/Users/langchenfan/Documents/Radio Anomaly Detection/SimNoise/KDMX_163_whitenoise.wav\n",
      "/Users/langchenfan/Documents/Radio Anomaly Detection/SimNoise/FOXS_303_whitenoise.wav\n",
      "/Users/langchenfan/Documents/Radio Anomaly Detection/SimNoise/KEGL_325_whitenoise.wav\n",
      "/Users/langchenfan/Documents/Radio Anomaly Detection/SimNoise/FOXS_83_whitenoise.wav\n",
      "/Users/langchenfan/Documents/Radio Anomaly Detection/SimNoise/FOXS_215_whitenoise.wav\n",
      "/Users/langchenfan/Documents/Radio Anomaly Detection/SimNoise/KEGL_233_whitenoise.wav\n",
      "/Users/langchenfan/Documents/Radio Anomaly Detection/SimNoise/FOXS_3_whitenoise.wav\n",
      "/Users/langchenfan/Documents/Radio Anomaly Detection/SimNoise/FOXS_385_whitenoise.wav\n",
      "/Users/langchenfan/Documents/Radio Anomaly Detection/SimNoise/KDMX_235_whitenoise.wav\n",
      "/Users/langchenfan/Documents/Radio Anomaly Detection/SimNoise/FOXS_293_whitenoise.wav\n",
      "/Users/langchenfan/Documents/Radio Anomaly Detection/SimNoise/KEGL_165_whitenoise.wav\n",
      "/Users/langchenfan/Documents/Radio Anomaly Detection/SimNoise/KDMX_323_whitenoise.wav\n",
      "/Users/langchenfan/Documents/Radio Anomaly Detection/SimNoise/FOXS_143_whitenoise.wav\n",
      "/Users/langchenfan/Documents/Radio Anomaly Detection/SimNoise/FOXS_425_whitenoise.wav\n",
      "/Users/langchenfan/Documents/Radio Anomaly Detection/SimNoise/KEGL_403_whitenoise.wav\n",
      "/Users/langchenfan/Documents/Radio Anomaly Detection/SimNoise/KDMX_483_whitenoise.wav\n",
      "/Users/langchenfan/Documents/Radio Anomaly Detection/SimNoise/FOXS_533_whitenoise.wav\n",
      "/Users/langchenfan/Documents/Radio Anomaly Detection/SimNoise/KDMX_45_whitenoise.wav\n",
      "/Users/langchenfan/Documents/Radio Anomaly Detection/SimNoise/KEGL_515_whitenoise.wav\n",
      "/Users/langchenfan/Documents/Radio Anomaly Detection/SimNoise/KDMX_35_whitenoise.wav\n",
      "/Users/langchenfan/Documents/Radio Anomaly Detection/SimNoise/KEGL_473_whitenoise.wav\n",
      "/Users/langchenfan/Documents/Radio Anomaly Detection/SimNoise/FOXS_455_whitenoise.wav\n",
      "/Users/langchenfan/Documents/Radio Anomaly Detection/SimNoise/FOXS_133_whitenoise.wav\n",
      "/Users/langchenfan/Documents/Radio Anomaly Detection/SimNoise/KDMX_353_whitenoise.wav\n",
      "/Users/langchenfan/Documents/Radio Anomaly Detection/SimNoise/KEGL_115_whitenoise.wav\n",
      "/Users/langchenfan/Documents/Radio Anomaly Detection/SimNoise/KDMX_245_whitenoise.wav\n",
      "/Users/langchenfan/Documents/Radio Anomaly Detection/SimNoise/FOXS_75_whitenoise.wav\n",
      "/Users/langchenfan/Documents/Radio Anomaly Detection/SimNoise/KDMX_195_whitenoise.wav\n",
      "/Users/langchenfan/Documents/Radio Anomaly Detection/SimNoise/KEGL_193_whitenoise.wav\n",
      "/Users/langchenfan/Documents/Radio Anomaly Detection/SimNoise/KEGL_243_whitenoise.wav\n",
      "/Users/langchenfan/Documents/Radio Anomaly Detection/SimNoise/FOXS_265_whitenoise.wav\n",
      "/Users/langchenfan/Documents/Radio Anomaly Detection/SimNoise/KEGL_355_whitenoise.wav\n",
      "/Users/langchenfan/Documents/Radio Anomaly Detection/SimNoise/FOXS_373_whitenoise.wav\n",
      "/Users/langchenfan/Documents/Radio Anomaly Detection/SimNoise/KDMX_113_whitenoise.wav\n",
      "/Users/langchenfan/Documents/Radio Anomaly Detection/SimNoise/KEGL_35_whitenoise.wav\n",
      "/Users/langchenfan/Documents/Radio Anomaly Detection/SimNoise/KDMX_475_whitenoise.wav\n",
      "/Users/langchenfan/Documents/Radio Anomaly Detection/SimNoise/FOXS_5_whitenoise.wav\n",
      "/Users/langchenfan/Documents/Radio Anomaly Detection/SimNoise/FOXS_383_whitenoise.wav\n",
      "/Users/langchenfan/Documents/Radio Anomaly Detection/SimNoise/KDMX_233_whitenoise.wav\n",
      "/Users/langchenfan/Documents/Radio Anomaly Detection/SimNoise/FOXS_295_whitenoise.wav\n",
      "/Users/langchenfan/Documents/Radio Anomaly Detection/SimNoise/KDMX_325_whitenoise.wav\n",
      "/Users/langchenfan/Documents/Radio Anomaly Detection/SimNoise/FOXS_145_whitenoise.wav\n",
      "/Users/langchenfan/Documents/Radio Anomaly Detection/SimNoise/KEGL_163_whitenoise.wav\n",
      "/Users/langchenfan/Documents/Radio Anomaly Detection/SimNoise/KEGL_405_whitenoise.wav\n",
      "/Users/langchenfan/Documents/Radio Anomaly Detection/SimNoise/FOXS_423_whitenoise.wav\n",
      "/Users/langchenfan/Documents/Radio Anomaly Detection/SimNoise/KDMX_485_whitenoise.wav\n",
      "/Users/langchenfan/Documents/Radio Anomaly Detection/SimNoise/KDMX_43_whitenoise.wav\n",
      "/Users/langchenfan/Documents/Radio Anomaly Detection/SimNoise/KEGL_513_whitenoise.wav\n",
      "/Users/langchenfan/Documents/Radio Anomaly Detection/SimNoise/FOXS_535_whitenoise.wav\n",
      "/Users/langchenfan/Documents/Radio Anomaly Detection/SimNoise/KDMX_515_whitenoise.wav\n",
      "/Users/langchenfan/Documents/Radio Anomaly Detection/SimNoise/KEGL_483_whitenoise.wav\n",
      "/Users/langchenfan/Documents/Radio Anomaly Detection/SimNoise/KDMX_403_whitenoise.wav\n",
      "/Users/langchenfan/Documents/Radio Anomaly Detection/SimNoise/KEGL_43_whitenoise.wav\n",
      "/Users/langchenfan/Documents/Radio Anomaly Detection/SimNoise/KEGL_323_whitenoise.wav\n",
      "/Users/langchenfan/Documents/Radio Anomaly Detection/SimNoise/KDMX_165_whitenoise.wav\n",
      "/Users/langchenfan/Documents/Radio Anomaly Detection/SimNoise/FOXS_305_whitenoise.wav\n",
      "/Users/langchenfan/Documents/Radio Anomaly Detection/SimNoise/FOXS_85_whitenoise.wav\n",
      "/Users/langchenfan/Documents/Radio Anomaly Detection/SimNoise/KEGL_235_whitenoise.wav\n",
      "/Users/langchenfan/Documents/Radio Anomaly Detection/SimNoise/FOXS_213_whitenoise.wav\n",
      "/Users/langchenfan/Documents/Radio Anomaly Detection/SimNoise/KEGL_95_whitenoise.wav\n",
      "/Users/langchenfan/Documents/Radio Anomaly Detection/SimNoise/KDMX_13_whitenoise.wav\n",
      "/Users/langchenfan/Documents/Radio Anomaly Detection/SimNoise/FOXS_473_whitenoise.wav\n",
      "/Users/langchenfan/Documents/Radio Anomaly Detection/SimNoise/KEGL_455_whitenoise.wav\n",
      "/Users/langchenfan/Documents/Radio Anomaly Detection/SimNoise/KEGL_133_whitenoise.wav\n",
      "/Users/langchenfan/Documents/Radio Anomaly Detection/SimNoise/KDMX_375_whitenoise.wav\n",
      "/Users/langchenfan/Documents/Radio Anomaly Detection/SimNoise/FOXS_115_whitenoise.wav\n",
      "/Users/langchenfan/Documents/Radio Anomaly Detection/SimNoise/KEGL_3_whitenoise.wav\n",
      "/Users/langchenfan/Documents/Radio Anomaly Detection/SimNoise/FOXS_53_whitenoise.wav\n",
      "/Users/langchenfan/Documents/Radio Anomaly Detection/SimNoise/KDMX_263_whitenoise.wav\n",
      "/Users/langchenfan/Documents/Radio Anomaly Detection/SimNoise/FOXS_243_whitenoise.wav\n",
      "/Users/langchenfan/Documents/Radio Anomaly Detection/SimNoise/KEGL_265_whitenoise.wav\n",
      "/Users/langchenfan/Documents/Radio Anomaly Detection/SimNoise/FOXS_193_whitenoise.wav\n",
      "/Users/langchenfan/Documents/Radio Anomaly Detection/SimNoise/KDMX_135_whitenoise.wav\n",
      "/Users/langchenfan/Documents/Radio Anomaly Detection/SimNoise/FOXS_355_whitenoise.wav\n",
      "/Users/langchenfan/Documents/Radio Anomaly Detection/SimNoise/KEGL_373_whitenoise.wav\n",
      "/Users/langchenfan/Documents/Radio Anomaly Detection/SimNoise/KDMX_453_whitenoise.wav\n",
      "/Users/langchenfan/Documents/Radio Anomaly Detection/SimNoise/KDMX_95_whitenoise.wav\n",
      "/Users/langchenfan/Documents/Radio Anomaly Detection/SimNoise/KEGL_13_whitenoise.wav\n",
      "/Users/langchenfan/Documents/Radio Anomaly Detection/SimNoise/FOXS_25_whitenoise.wav\n",
      "/Users/langchenfan/Documents/Radio Anomaly Detection/SimNoise/KDMX_215_whitenoise.wav\n",
      "/Users/langchenfan/Documents/Radio Anomaly Detection/SimNoise/KEGL_383_whitenoise.wav\n",
      "/Users/langchenfan/Documents/Radio Anomaly Detection/SimNoise/KEGL_145_whitenoise.wav\n",
      "/Users/langchenfan/Documents/Radio Anomaly Detection/SimNoise/FOXS_163_whitenoise.wav\n",
      "/Users/langchenfan/Documents/Radio Anomaly Detection/SimNoise/KDMX_303_whitenoise.wav\n",
      "/Users/langchenfan/Documents/Radio Anomaly Detection/SimNoise/KEGL_295_whitenoise.wav\n",
      "/Users/langchenfan/Documents/Radio Anomaly Detection/SimNoise/FOXS_405_whitenoise.wav\n",
      "/Users/langchenfan/Documents/Radio Anomaly Detection/SimNoise/KEGL_423_whitenoise.wav\n",
      "/Users/langchenfan/Documents/Radio Anomaly Detection/SimNoise/FOXS_513_whitenoise.wav\n",
      "/Users/langchenfan/Documents/Radio Anomaly Detection/SimNoise/KEGL_535_whitenoise.wav\n",
      "/Users/langchenfan/Documents/Radio Anomaly Detection/SimNoise/KDMX_65_whitenoise.wav\n",
      "/Users/langchenfan/Documents/Radio Anomaly Detection/SimNoise/FOXS_483_whitenoise.wav\n",
      "/Users/langchenfan/Documents/Radio Anomaly Detection/SimNoise/KDMX_533_whitenoise.wav\n",
      "/Users/langchenfan/Documents/Radio Anomaly Detection/SimNoise/KEGL_65_whitenoise.wav\n",
      "/Users/langchenfan/Documents/Radio Anomaly Detection/SimNoise/KDMX_425_whitenoise.wav\n",
      "/Users/langchenfan/Documents/Radio Anomaly Detection/SimNoise/KDMX_293_whitenoise.wav\n",
      "/Users/langchenfan/Documents/Radio Anomaly Detection/SimNoise/FOXS_323_whitenoise.wav\n",
      "/Users/langchenfan/Documents/Radio Anomaly Detection/SimNoise/KDMX_143_whitenoise.wav\n",
      "/Users/langchenfan/Documents/Radio Anomaly Detection/SimNoise/KEGL_305_whitenoise.wav\n",
      "/Users/langchenfan/Documents/Radio Anomaly Detection/SimNoise/KDMX_385_whitenoise.wav\n",
      "/Users/langchenfan/Documents/Radio Anomaly Detection/SimNoise/FOXS_235_whitenoise.wav\n",
      "/Users/langchenfan/Documents/Radio Anomaly Detection/SimNoise/KEGL_213_whitenoise.wav\n",
      "/Users/langchenfan/Documents/Radio Anomaly Detection/SimNoise/KEGL_263_whitenoise.wav\n",
      "/Users/langchenfan/Documents/Radio Anomaly Detection/SimNoise/FOXS_245_whitenoise.wav\n",
      "/Users/langchenfan/Documents/Radio Anomaly Detection/SimNoise/FOXS_195_whitenoise.wav\n",
      "/Users/langchenfan/Documents/Radio Anomaly Detection/SimNoise/KEGL_375_whitenoise.wav\n",
      "/Users/langchenfan/Documents/Radio Anomaly Detection/SimNoise/KDMX_133_whitenoise.wav\n",
      "/Users/langchenfan/Documents/Radio Anomaly Detection/SimNoise/FOXS_353_whitenoise.wav\n",
      "/Users/langchenfan/Documents/Radio Anomaly Detection/SimNoise/KDMX_455_whitenoise.wav\n",
      "/Users/langchenfan/Documents/Radio Anomaly Detection/SimNoise/KEGL_15_whitenoise.wav\n",
      "/Users/langchenfan/Documents/Radio Anomaly Detection/SimNoise/KDMX_93_whitenoise.wav\n",
      "/Users/langchenfan/Documents/Radio Anomaly Detection/SimNoise/KDMX_15_whitenoise.wav\n",
      "/Users/langchenfan/Documents/Radio Anomaly Detection/SimNoise/KEGL_93_whitenoise.wav\n",
      "/Users/langchenfan/Documents/Radio Anomaly Detection/SimNoise/KEGL_453_whitenoise.wav\n",
      "/Users/langchenfan/Documents/Radio Anomaly Detection/SimNoise/FOXS_475_whitenoise.wav\n",
      "/Users/langchenfan/Documents/Radio Anomaly Detection/SimNoise/KDMX_373_whitenoise.wav\n",
      "/Users/langchenfan/Documents/Radio Anomaly Detection/SimNoise/FOXS_113_whitenoise.wav\n",
      "/Users/langchenfan/Documents/Radio Anomaly Detection/SimNoise/KEGL_135_whitenoise.wav\n",
      "/Users/langchenfan/Documents/Radio Anomaly Detection/SimNoise/KDMX_265_whitenoise.wav\n",
      "/Users/langchenfan/Documents/Radio Anomaly Detection/SimNoise/KEGL_5_whitenoise.wav\n",
      "/Users/langchenfan/Documents/Radio Anomaly Detection/SimNoise/FOXS_55_whitenoise.wav\n",
      "/Users/langchenfan/Documents/Radio Anomaly Detection/SimNoise/FOXS_485_whitenoise.wav\n",
      "/Users/langchenfan/Documents/Radio Anomaly Detection/SimNoise/KDMX_535_whitenoise.wav\n",
      "/Users/langchenfan/Documents/Radio Anomaly Detection/SimNoise/KEGL_63_whitenoise.wav\n",
      "/Users/langchenfan/Documents/Radio Anomaly Detection/SimNoise/KDMX_423_whitenoise.wav\n",
      "/Users/langchenfan/Documents/Radio Anomaly Detection/SimNoise/KDMX_295_whitenoise.wav\n",
      "/Users/langchenfan/Documents/Radio Anomaly Detection/SimNoise/KEGL_303_whitenoise.wav\n",
      "/Users/langchenfan/Documents/Radio Anomaly Detection/SimNoise/FOXS_325_whitenoise.wav\n",
      "/Users/langchenfan/Documents/Radio Anomaly Detection/SimNoise/KDMX_145_whitenoise.wav\n",
      "/Users/langchenfan/Documents/Radio Anomaly Detection/SimNoise/KDMX_383_whitenoise.wav\n",
      "/Users/langchenfan/Documents/Radio Anomaly Detection/SimNoise/KEGL_215_whitenoise.wav\n",
      "/Users/langchenfan/Documents/Radio Anomaly Detection/SimNoise/FOXS_233_whitenoise.wav\n",
      "/Users/langchenfan/Documents/Radio Anomaly Detection/SimNoise/KDMX_213_whitenoise.wav\n",
      "/Users/langchenfan/Documents/Radio Anomaly Detection/SimNoise/FOXS_23_whitenoise.wav\n",
      "/Users/langchenfan/Documents/Radio Anomaly Detection/SimNoise/KEGL_385_whitenoise.wav\n",
      "/Users/langchenfan/Documents/Radio Anomaly Detection/SimNoise/FOXS_165_whitenoise.wav\n",
      "/Users/langchenfan/Documents/Radio Anomaly Detection/SimNoise/KDMX_305_whitenoise.wav\n",
      "/Users/langchenfan/Documents/Radio Anomaly Detection/SimNoise/KEGL_143_whitenoise.wav\n",
      "/Users/langchenfan/Documents/Radio Anomaly Detection/SimNoise/KEGL_293_whitenoise.wav\n",
      "/Users/langchenfan/Documents/Radio Anomaly Detection/SimNoise/KEGL_425_whitenoise.wav\n",
      "/Users/langchenfan/Documents/Radio Anomaly Detection/SimNoise/FOXS_403_whitenoise.wav\n",
      "/Users/langchenfan/Documents/Radio Anomaly Detection/SimNoise/KEGL_533_whitenoise.wav\n",
      "/Users/langchenfan/Documents/Radio Anomaly Detection/SimNoise/KDMX_63_whitenoise.wav\n",
      "/Users/langchenfan/Documents/Radio Anomaly Detection/SimNoise/FOXS_515_whitenoise.wav\n",
      "/Users/langchenfan/Documents/Radio Anomaly Detection/SimNoise/KDMX_445_whitenoise.wav\n",
      "/Users/langchenfan/Documents/Radio Anomaly Detection/SimNoise/KDMX_83_whitenoise.wav\n",
      "/Users/langchenfan/Documents/Radio Anomaly Detection/SimNoise/KEGL_273_whitenoise.wav\n",
      "/Users/langchenfan/Documents/Radio Anomaly Detection/SimNoise/FOXS_255_whitenoise.wav\n",
      "/Users/langchenfan/Documents/Radio Anomaly Detection/SimNoise/FOXS_185_whitenoise.wav\n",
      "/Users/langchenfan/Documents/Radio Anomaly Detection/SimNoise/KEGL_365_whitenoise.wav\n",
      "/Users/langchenfan/Documents/Radio Anomaly Detection/SimNoise/KDMX_123_whitenoise.wav\n",
      "/Users/langchenfan/Documents/Radio Anomaly Detection/SimNoise/FOXS_343_whitenoise.wav\n",
      "/Users/langchenfan/Documents/Radio Anomaly Detection/SimNoise/KDMX_363_whitenoise.wav\n",
      "/Users/langchenfan/Documents/Radio Anomaly Detection/SimNoise/FOXS_103_whitenoise.wav\n",
      "/Users/langchenfan/Documents/Radio Anomaly Detection/SimNoise/KEGL_125_whitenoise.wav\n",
      "/Users/langchenfan/Documents/Radio Anomaly Detection/SimNoise/KDMX_275_whitenoise.wav\n",
      "/Users/langchenfan/Documents/Radio Anomaly Detection/SimNoise/FOXS_45_whitenoise.wav\n",
      "/Users/langchenfan/Documents/Radio Anomaly Detection/SimNoise/KEGL_83_whitenoise.wav\n",
      "/Users/langchenfan/Documents/Radio Anomaly Detection/SimNoise/KEGL_443_whitenoise.wav\n",
      "/Users/langchenfan/Documents/Radio Anomaly Detection/SimNoise/FOXS_465_whitenoise.wav\n",
      "/Users/langchenfan/Documents/Radio Anomaly Detection/SimNoise/KDMX_285_whitenoise.wav\n",
      "/Users/langchenfan/Documents/Radio Anomaly Detection/SimNoise/KEGL_313_whitenoise.wav\n",
      "/Users/langchenfan/Documents/Radio Anomaly Detection/SimNoise/FOXS_335_whitenoise.wav\n",
      "/Users/langchenfan/Documents/Radio Anomaly Detection/SimNoise/KDMX_155_whitenoise.wav\n",
      "/Users/langchenfan/Documents/Radio Anomaly Detection/SimNoise/KDMX_393_whitenoise.wav\n",
      "/Users/langchenfan/Documents/Radio Anomaly Detection/SimNoise/KEGL_205_whitenoise.wav\n",
      "/Users/langchenfan/Documents/Radio Anomaly Detection/SimNoise/FOXS_223_whitenoise.wav\n",
      "/Users/langchenfan/Documents/Radio Anomaly Detection/SimNoise/FOXS_495_whitenoise.wav\n",
      "/Users/langchenfan/Documents/Radio Anomaly Detection/SimNoise/KDMX_525_whitenoise.wav\n",
      "/Users/langchenfan/Documents/Radio Anomaly Detection/SimNoise/KEGL_73_whitenoise.wav\n",
      "/Users/langchenfan/Documents/Radio Anomaly Detection/SimNoise/KDMX_433_whitenoise.wav\n",
      "/Users/langchenfan/Documents/Radio Anomaly Detection/SimNoise/KDMX_5_whitenoise.wav\n",
      "/Users/langchenfan/Documents/Radio Anomaly Detection/SimNoise/KEGL_435_whitenoise.wav\n",
      "/Users/langchenfan/Documents/Radio Anomaly Detection/SimNoise/FOXS_413_whitenoise.wav\n",
      "/Users/langchenfan/Documents/Radio Anomaly Detection/SimNoise/KEGL_523_whitenoise.wav\n",
      "/Users/langchenfan/Documents/Radio Anomaly Detection/SimNoise/KDMX_73_whitenoise.wav\n",
      "/Users/langchenfan/Documents/Radio Anomaly Detection/SimNoise/FOXS_505_whitenoise.wav\n",
      "/Users/langchenfan/Documents/Radio Anomaly Detection/SimNoise/KDMX_203_whitenoise.wav\n",
      "/Users/langchenfan/Documents/Radio Anomaly Detection/SimNoise/FOXS_33_whitenoise.wav\n",
      "/Users/langchenfan/Documents/Radio Anomaly Detection/SimNoise/KEGL_395_whitenoise.wav\n",
      "/Users/langchenfan/Documents/Radio Anomaly Detection/SimNoise/FOXS_175_whitenoise.wav\n",
      "/Users/langchenfan/Documents/Radio Anomaly Detection/SimNoise/KDMX_315_whitenoise.wav\n",
      "/Users/langchenfan/Documents/Radio Anomaly Detection/SimNoise/KEGL_153_whitenoise.wav\n",
      "/Users/langchenfan/Documents/Radio Anomaly Detection/SimNoise/KEGL_283_whitenoise.wav\n",
      "/Users/langchenfan/Documents/Radio Anomaly Detection/SimNoise/KEGL_123_whitenoise.wav\n",
      "/Users/langchenfan/Documents/Radio Anomaly Detection/SimNoise/KDMX_365_whitenoise.wav\n",
      "/Users/langchenfan/Documents/Radio Anomaly Detection/SimNoise/FOXS_105_whitenoise.wav\n",
      "/Users/langchenfan/Documents/Radio Anomaly Detection/SimNoise/FOXS_43_whitenoise.wav\n",
      "/Users/langchenfan/Documents/Radio Anomaly Detection/SimNoise/KDMX_273_whitenoise.wav\n",
      "/Users/langchenfan/Documents/Radio Anomaly Detection/SimNoise/KEGL_85_whitenoise.wav\n",
      "/Users/langchenfan/Documents/Radio Anomaly Detection/SimNoise/FOXS_463_whitenoise.wav\n",
      "/Users/langchenfan/Documents/Radio Anomaly Detection/SimNoise/KEGL_445_whitenoise.wav\n",
      "/Users/langchenfan/Documents/Radio Anomaly Detection/SimNoise/KDMX_443_whitenoise.wav\n",
      "/Users/langchenfan/Documents/Radio Anomaly Detection/SimNoise/KDMX_85_whitenoise.wav\n",
      "/Users/langchenfan/Documents/Radio Anomaly Detection/SimNoise/FOXS_253_whitenoise.wav\n",
      "/Users/langchenfan/Documents/Radio Anomaly Detection/SimNoise/KEGL_275_whitenoise.wav\n",
      "/Users/langchenfan/Documents/Radio Anomaly Detection/SimNoise/FOXS_183_whitenoise.wav\n",
      "/Users/langchenfan/Documents/Radio Anomaly Detection/SimNoise/KDMX_125_whitenoise.wav\n",
      "/Users/langchenfan/Documents/Radio Anomaly Detection/SimNoise/FOXS_345_whitenoise.wav\n",
      "/Users/langchenfan/Documents/Radio Anomaly Detection/SimNoise/KEGL_363_whitenoise.wav\n",
      "/Users/langchenfan/Documents/Radio Anomaly Detection/SimNoise/FOXS_415_whitenoise.wav\n",
      "/Users/langchenfan/Documents/Radio Anomaly Detection/SimNoise/KEGL_433_whitenoise.wav\n",
      "/Users/langchenfan/Documents/Radio Anomaly Detection/SimNoise/FOXS_503_whitenoise.wav\n",
      "/Users/langchenfan/Documents/Radio Anomaly Detection/SimNoise/KEGL_525_whitenoise.wav\n",
      "/Users/langchenfan/Documents/Radio Anomaly Detection/SimNoise/KDMX_75_whitenoise.wav\n",
      "/Users/langchenfan/Documents/Radio Anomaly Detection/SimNoise/FOXS_35_whitenoise.wav\n",
      "/Users/langchenfan/Documents/Radio Anomaly Detection/SimNoise/KDMX_205_whitenoise.wav\n",
      "/Users/langchenfan/Documents/Radio Anomaly Detection/SimNoise/KEGL_393_whitenoise.wav\n",
      "/Users/langchenfan/Documents/Radio Anomaly Detection/SimNoise/KEGL_155_whitenoise.wav\n",
      "/Users/langchenfan/Documents/Radio Anomaly Detection/SimNoise/FOXS_173_whitenoise.wav\n",
      "/Users/langchenfan/Documents/Radio Anomaly Detection/SimNoise/KDMX_313_whitenoise.wav\n",
      "/Users/langchenfan/Documents/Radio Anomaly Detection/SimNoise/KEGL_285_whitenoise.wav\n",
      "/Users/langchenfan/Documents/Radio Anomaly Detection/SimNoise/KDMX_283_whitenoise.wav\n",
      "/Users/langchenfan/Documents/Radio Anomaly Detection/SimNoise/FOXS_333_whitenoise.wav\n",
      "/Users/langchenfan/Documents/Radio Anomaly Detection/SimNoise/KDMX_153_whitenoise.wav\n",
      "/Users/langchenfan/Documents/Radio Anomaly Detection/SimNoise/KEGL_315_whitenoise.wav\n",
      "/Users/langchenfan/Documents/Radio Anomaly Detection/SimNoise/KDMX_395_whitenoise.wav\n",
      "/Users/langchenfan/Documents/Radio Anomaly Detection/SimNoise/FOXS_225_whitenoise.wav\n",
      "/Users/langchenfan/Documents/Radio Anomaly Detection/SimNoise/KEGL_203_whitenoise.wav\n",
      "/Users/langchenfan/Documents/Radio Anomaly Detection/SimNoise/FOXS_493_whitenoise.wav\n",
      "/Users/langchenfan/Documents/Radio Anomaly Detection/SimNoise/KDMX_523_whitenoise.wav\n",
      "/Users/langchenfan/Documents/Radio Anomaly Detection/SimNoise/KEGL_75_whitenoise.wav\n",
      "/Users/langchenfan/Documents/Radio Anomaly Detection/SimNoise/KDMX_3_whitenoise.wav\n",
      "/Users/langchenfan/Documents/Radio Anomaly Detection/SimNoise/KDMX_435_whitenoise.wav\n"
     ]
    }
   ],
   "source": [
    "# load test data\n",
    "test_dir = base_dir+aafolder\n",
    "noisywav = glob.glob(os.path.join(test_dir,'*_'+aapp+'.wav'))\n",
    "\n",
    "# create features and append to a DataFrame\n",
    "df_test = pd.DataFrame()\n",
    "for audio_file in noisywav:\n",
    "    print(audio_file)\n",
    "    sr_ = 44100\n",
    "    audio_ts, sr= lr.load(audio_file, sr=sr_)\n",
    "    df_temp = train_model.extract_features_autoencoder(audio_ts=audio_ts, sr=sr)\n",
    "    df_temp['audio_file'] = audio_file\n",
    "    df_temp['audio_idx'] = df_temp.index.values\n",
    "    df_test = pd.concat([df_test, df_temp ], axis=0)"
   ],
   "metadata": {
    "collapsed": false,
    "pycharm": {
     "name": "#%%\n"
    }
   }
  },
  {
   "cell_type": "code",
   "execution_count": 16,
   "outputs": [],
   "source": [
    "df_test.to_pickle(aapp+'_test_data.pkl')"
   ],
   "metadata": {
    "collapsed": false,
    "pycharm": {
     "name": "#%%\n"
    }
   }
  },
  {
   "cell_type": "code",
   "execution_count": 17,
   "outputs": [],
   "source": [
    "#df_test = pd.read_pickle('test_data.pkl')"
   ],
   "metadata": {
    "collapsed": false,
    "pycharm": {
     "name": "#%%\n"
    }
   }
  },
  {
   "cell_type": "code",
   "execution_count": 18,
   "outputs": [],
   "source": [
    "X_test = df_test[feature_cols]\n",
    "X_test_transformed = pd.DataFrame(pipeline.transform(X_test), columns=X_test.columns, index=X_test.index)"
   ],
   "metadata": {
    "collapsed": false,
    "pycharm": {
     "name": "#%%\n"
    }
   }
  },
  {
   "cell_type": "code",
   "execution_count": 19,
   "outputs": [
    {
     "name": "stdout",
     "output_type": "stream",
     "text": [
      "  10/6950 [..............................] - ETA: 1:22"
     ]
    },
    {
     "name": "stderr",
     "output_type": "stream",
     "text": [
      "2022-11-30 15:37:24.537461: I tensorflow/core/grappler/optimizers/custom_graph_optimizer_registry.cc:114] Plugin optimizer for device_type GPU is enabled.\n"
     ]
    },
    {
     "name": "stdout",
     "output_type": "stream",
     "text": [
      "6950/6950 [==============================] - 67s 10ms/step\n",
      "8688/8688 [==============================] - 81s 9ms/step\n"
     ]
    }
   ],
   "source": [
    "reconstruct_train = autoencoder.predict(X_train_transformed)\n",
    "reconstruct_test = autoencoder.predict(X_test_transformed)"
   ],
   "metadata": {
    "collapsed": false,
    "pycharm": {
     "name": "#%%\n"
    }
   }
  },
  {
   "cell_type": "code",
   "execution_count": 20,
   "outputs": [],
   "source": [
    "import numpy as np\n",
    "mse_train = np.mean(np.power(X_train_transformed - reconstruct_train, 2), axis=1)\n",
    "mse_test = np.mean(np.power(X_test_transformed - reconstruct_test, 2), axis=1)"
   ],
   "metadata": {
    "collapsed": false,
    "pycharm": {
     "name": "#%%\n"
    }
   }
  },
  {
   "cell_type": "code",
   "execution_count": 21,
   "outputs": [],
   "source": [
    "mse_scaler = MinMaxScaler()\n",
    "mse_train_transformed = pd.DataFrame(mse_scaler.fit_transform(pd.DataFrame(mse_train)), index=mse_train.index, columns=['MSE'])\n",
    "mse_train_transformed['flag'] =0\n",
    "mse_test_transformed = pd.DataFrame(mse_scaler.transform(pd.DataFrame(mse_test)), index = mse_test.index, columns=['MSE'])\n",
    "mse_test_transformed['flag'] = 1"
   ],
   "metadata": {
    "collapsed": false,
    "pycharm": {
     "name": "#%%\n"
    }
   }
  },
  {
   "cell_type": "code",
   "execution_count": 24,
   "outputs": [],
   "source": [
    "mse_merged = pd.concat([mse_train_transformed, mse_test_transformed])\n",
    "mse_merged.sort_values(by=['MSE'], inplace=True)\n",
    "mse_merged.reset_index(inplace=True)"
   ],
   "metadata": {
    "collapsed": false,
    "pycharm": {
     "name": "#%%\n"
    }
   }
  },
  {
   "cell_type": "code",
   "execution_count": 31,
   "outputs": [
    {
     "name": "stdout",
     "output_type": "stream",
     "text": [
      "1.0\n",
      "4.469424724578857\n"
     ]
    },
    {
     "data": {
      "text/plain": "<Figure size 640x480 with 1 Axes>",
      "image/png": "[encoded data removed]"
     },
     "metadata": {},
     "output_type": "display_data"
    }
   ],
   "source": [
    "import matplotlib.pyplot as plt\n",
    "plt.scatter(mse_merged.index, mse_merged['MSE'], c=mse_merged['flag'].apply(lambda x: 'green' if x==0 else 'red'))\n",
    "ax=plt.gca()\n",
    "ax.set(ylim=(0,1000))\n",
    "print(max(mse_train_transformed['MSE']))\n",
    "print(min(mse_test_transformed['MSE']))"
   ],
   "metadata": {
    "collapsed": false,
    "pycharm": {
     "name": "#%%\n"
    }
   }
  },
  {
   "cell_type": "code",
   "execution_count": 35,
   "outputs": [],
   "source": [
    "import pickle\n",
    "pickle.dump([pipeline,mse_scaler],open(aapp+'_dataprep.pkl','wb'))"
   ],
   "metadata": {
    "collapsed": false,
    "pycharm": {
     "name": "#%%\n"
    }
   }
  },
  {
   "cell_type": "code",
   "execution_count": null,
   "outputs": [],
   "source": [
    "# import matplotlib.pyplot as plt\n",
    "# ax = plt.gca()\n",
    "# mse_train_transformed.plot(kind='hist',ax=ax, bins=10, alpha=0.01)\n",
    "# # mse_test_transformed.plot(kind='hist', ax=ax,bins=10, alpha=0.01)"
   ],
   "metadata": {
    "collapsed": false,
    "pycharm": {
     "name": "#%%\n"
    }
   }
  },
  {
   "cell_type": "code",
   "execution_count": null,
   "outputs": [],
   "source": [
    "\n",
    "# fig, ax = plt.subplots(figsize=(6,6))\n",
    "# ax.hist(mse_train, bins=50, density=True, label=\"train\", alpha=.6, color=\"green\")\n",
    "# ax.hist(mse_test, bins=50, density=True, label=\"test\", alpha=.6, color=\"red\")\n",
    "# plt.show()"
   ],
   "metadata": {
    "collapsed": false,
    "pycharm": {
     "name": "#%%\n"
    }
   }
  },
  {
   "cell_type": "markdown",
   "source": [
    "## Test with real data"
   ],
   "metadata": {
    "collapsed": false,
    "pycharm": {
     "name": "#%% md\n"
    }
   }
  },
  {
   "cell_type": "code",
   "execution_count": 4,
   "outputs": [
    {
     "name": "stderr",
     "output_type": "stream",
     "text": [
      "2022-12-01 09:07:34.636527: I tensorflow/core/common_runtime/pluggable_device/pluggable_device_factory.cc:306] Could not identify NUMA node of platform GPU ID 0, defaulting to 0. Your kernel may not have been built with NUMA support.\n",
      "2022-12-01 09:07:34.636673: I tensorflow/core/common_runtime/pluggable_device/pluggable_device_factory.cc:272] Created TensorFlow device (/job:localhost/replica:0/task:0/device:GPU:0 with 0 MB memory) -> physical PluggableDevice (device: 0, name: METAL, pci bus id: <undefined>)\n"
     ]
    },
    {
     "name": "stdout",
     "output_type": "stream",
     "text": [
      "Metal device set to: Apple M1 Pro\n",
      "Model: \"sequential\"\n",
      "_________________________________________________________________\n",
      " Layer (type)                Output Shape              Param #   \n",
      "=================================================================\n",
      " dense (Dense)               (None, 640)               410240    \n",
      "                                                                 \n",
      " dense_1 (Dense)             (None, 128)               82048     \n",
      "                                                                 \n",
      " dense_2 (Dense)             (None, 128)               16512     \n",
      "                                                                 \n",
      " dense_3 (Dense)             (None, 128)               16512     \n",
      "                                                                 \n",
      " dense_4 (Dense)             (None, 128)               16512     \n",
      "                                                                 \n",
      " dense_5 (Dense)             (None, 32)                4128      \n",
      "                                                                 \n",
      " dense_6 (Dense)             (None, 128)               4224      \n",
      "                                                                 \n",
      " dense_7 (Dense)             (None, 128)               16512     \n",
      "                                                                 \n",
      " dense_8 (Dense)             (None, 128)               16512     \n",
      "                                                                 \n",
      " dense_9 (Dense)             (None, 128)               16512     \n",
      "                                                                 \n",
      " dense_10 (Dense)            (None, 640)               82560     \n",
      "                                                                 \n",
      "=================================================================\n",
      "Total params: 682,272\n",
      "Trainable params: 682,272\n",
      "Non-trainable params: 0\n",
      "_________________________________________________________________\n"
     ]
    }
   ],
   "source": [
    "from keras.models import load_model\n",
    "import pickle\n",
    "model = load_model(aapp+'_autoencoder_best_weights.hdf5')\n",
    "model.summary()\n",
    "[dataprep,msescaler]=pickle.load(open(aapp+'_dataprep.pkl','rb'))"
   ],
   "metadata": {
    "collapsed": false,
    "pycharm": {
     "name": "#%%\n"
    }
   }
  },
  {
   "cell_type": "code",
   "execution_count": null,
   "outputs": [
    {
     "name": "stdout",
     "output_type": "stream",
     "text": [
      "Predicting WIOQ-FM_10-05-2022_03-00-00_PM_65776.mp3 ......\n"
     ]
    },
    {
     "name": "stderr",
     "output_type": "stream",
     "text": [
      "/Users/langchenfan/audio_anomaly_detection2/lib/python3.10/site-packages/sklearn/base.py:493: FutureWarning: The feature names should match those that were passed during fit. Starting version 1.2, an error will be raised.\n",
      "Feature names must be in the same order as they were in fit.\n",
      "\n",
      "  warnings.warn(message, FutureWarning)\n"
     ]
    },
    {
     "name": "stdout",
     "output_type": "stream",
     "text": [
      "14535/14535 [==============================] - 135s 9ms/step\n"
     ]
    },
    {
     "name": "stderr",
     "output_type": "stream",
     "text": [
      "/var/folders/_l/yljdbk6x7g17h77d_0hz8lw40000gp/T/ipykernel_45205/839893334.py:50: SettingWithCopyWarning: \n",
      "A value is trying to be set on a copy of a slice from a DataFrame.\n",
      "Try using .loc[row_indexer,col_indexer] = value instead\n",
      "\n",
      "See the caveats in the documentation: https://pandas.pydata.org/pandas-docs/stable/user_guide/indexing.html#returning-a-view-versus-a-copy\n",
      "  dftemp_clean['post_start']=dftemp_clean['TimeFrame'].shift(-1)\n"
     ]
    },
    {
     "name": "stdout",
     "output_type": "stream",
     "text": [
      "Predicting WIOQ-FM_10-05-2022_10-30-00_PM_65786.mp3 ......\n"
     ]
    },
    {
     "name": "stderr",
     "output_type": "stream",
     "text": [
      "/Users/langchenfan/audio_anomaly_detection2/lib/python3.10/site-packages/sklearn/base.py:493: FutureWarning: The feature names should match those that were passed during fit. Starting version 1.2, an error will be raised.\n",
      "Feature names must be in the same order as they were in fit.\n",
      "\n",
      "  warnings.warn(message, FutureWarning)\n"
     ]
    },
    {
     "name": "stdout",
     "output_type": "stream",
     "text": [
      "14535/14535 [==============================] - 136s 9ms/step\n"
     ]
    },
    {
     "name": "stderr",
     "output_type": "stream",
     "text": [
      "/var/folders/_l/yljdbk6x7g17h77d_0hz8lw40000gp/T/ipykernel_45205/839893334.py:50: SettingWithCopyWarning: \n",
      "A value is trying to be set on a copy of a slice from a DataFrame.\n",
      "Try using .loc[row_indexer,col_indexer] = value instead\n",
      "\n",
      "See the caveats in the documentation: https://pandas.pydata.org/pandas-docs/stable/user_guide/indexing.html#returning-a-view-versus-a-copy\n",
      "  dftemp_clean['post_start']=dftemp_clean['TimeFrame'].shift(-1)\n"
     ]
    },
    {
     "name": "stdout",
     "output_type": "stream",
     "text": [
      "Predicting WIOQ-FM_10-05-2022_01-30-00_PM_65775.mp3 ......\n"
     ]
    },
    {
     "name": "stderr",
     "output_type": "stream",
     "text": [
      "/Users/langchenfan/audio_anomaly_detection2/lib/python3.10/site-packages/sklearn/base.py:493: FutureWarning: The feature names should match those that were passed during fit. Starting version 1.2, an error will be raised.\n",
      "Feature names must be in the same order as they were in fit.\n",
      "\n",
      "  warnings.warn(message, FutureWarning)\n"
     ]
    },
    {
     "name": "stdout",
     "output_type": "stream",
     "text": [
      "14535/14535 [==============================] - 120s 8ms/step\n"
     ]
    },
    {
     "name": "stderr",
     "output_type": "stream",
     "text": [
      "/var/folders/_l/yljdbk6x7g17h77d_0hz8lw40000gp/T/ipykernel_45205/839893334.py:50: SettingWithCopyWarning: \n",
      "A value is trying to be set on a copy of a slice from a DataFrame.\n",
      "Try using .loc[row_indexer,col_indexer] = value instead\n",
      "\n",
      "See the caveats in the documentation: https://pandas.pydata.org/pandas-docs/stable/user_guide/indexing.html#returning-a-view-versus-a-copy\n",
      "  dftemp_clean['post_start']=dftemp_clean['TimeFrame'].shift(-1)\n"
     ]
    },
    {
     "name": "stdout",
     "output_type": "stream",
     "text": [
      "Predicting WIOQ-FM_10-05-2022_09-00-00_PM_65783.mp3 ......\n"
     ]
    },
    {
     "name": "stderr",
     "output_type": "stream",
     "text": [
      "/Users/langchenfan/audio_anomaly_detection2/lib/python3.10/site-packages/sklearn/base.py:493: FutureWarning: The feature names should match those that were passed during fit. Starting version 1.2, an error will be raised.\n",
      "Feature names must be in the same order as they were in fit.\n",
      "\n",
      "  warnings.warn(message, FutureWarning)\n"
     ]
    },
    {
     "name": "stdout",
     "output_type": "stream",
     "text": [
      "14535/14535 [==============================] - 137s 9ms/step\n"
     ]
    },
    {
     "name": "stderr",
     "output_type": "stream",
     "text": [
      "/var/folders/_l/yljdbk6x7g17h77d_0hz8lw40000gp/T/ipykernel_45205/839893334.py:50: SettingWithCopyWarning: \n",
      "A value is trying to be set on a copy of a slice from a DataFrame.\n",
      "Try using .loc[row_indexer,col_indexer] = value instead\n",
      "\n",
      "See the caveats in the documentation: https://pandas.pydata.org/pandas-docs/stable/user_guide/indexing.html#returning-a-view-versus-a-copy\n",
      "  dftemp_clean['post_start']=dftemp_clean['TimeFrame'].shift(-1)\n"
     ]
    }
   ],
   "source": [
    "import pydub\n",
    "import scipy.signal as signal\n",
    "import numpy as np\n",
    "import glob\n",
    "import librosa as lr\n",
    "import datetime\n",
    "import re\n",
    "import pydub\n",
    "\n",
    "fpath = '/Users/langchenfan/Documents/Radio Anomaly Detection/WIOQ/'\n",
    "\n",
    "time_format='%m-%d-%Y_%I-%M-%S_%p'\n",
    "fs = 44100\n",
    "dates = ['10-05-2022','10-06-2022','10-07-2022','10-08-2022','10-09-2022','10-10-2022','10-11-2022','10-12-2022','10-13-2022','10-14-2022','10-15-2022','10-16-2022','10-17-2022','10-18-2022']\n",
    "prepost=2\n",
    "\n",
    "for date in dates:\n",
    "    fpath2=fpath+date+'/'\n",
    "    wavlist = glob.glob(os.path.join(fpath2, '*.mp3'))\n",
    "    df_all=pd.DataFrame()\n",
    "    df_clean=pd.DataFrame()\n",
    "    for audiofile in wavlist:\n",
    "        print('Predicting ' + audiofile[len(fpath2):] + ' ......')\n",
    "        wav, fs = lr.load(audiofile, sr=fs)\n",
    "\n",
    "        df = train_model.extract_features_autoencoder(audio_ts=wav, sr=fs)\n",
    "        df['audio_file'] = audiofile[len(fpath2):]\n",
    "        id_cols = ['audio_file']\n",
    "        feature_cols = list(set(df.columns) - set(id_cols))\n",
    "\n",
    "        XX_test = df[feature_cols]\n",
    "        XX_test_transformed = pd.DataFrame(dataprep.transform(XX_test), columns=XX_test.columns, index=XX_test.index)\n",
    "        reconstruct_test = model.predict(XX_test_transformed)\n",
    "        msetest = np.mean(np.power(XX_test_transformed - reconstruct_test, 2), axis=1)\n",
    "        msetest_transformed = msescaler.transform(pd.DataFrame(msetest))\n",
    "        timeframe=XX_test.index.map(float)*2048*5/fs\n",
    "\n",
    "        dftemp=pd.DataFrame({'TimeFrame':timeframe,'mse_transformed':msetest_transformed[:,0]})\n",
    "        dftemp['File']=audiofile[len(fpath2):]\n",
    "        dftemp['pred']=dftemp['mse_transformed'].apply(lambda x: 1 if x>=5 else 0)\n",
    "        df_all=pd.concat([df_all,dftemp])\n",
    "\n",
    "        # save anomaly clip\n",
    "        timestr=re.findall(r'[0-9]{2}-[0-9]{2}-[0-9]{4}_[0-9]{2}-[0-9]{2}-[0-9]{2}_[AP]{1}M', audiofile)[0]\n",
    "        filets=datetime.datetime.strptime(timestr,time_format)\n",
    "\n",
    "        dftemp_clean=dftemp[dftemp['pred']==1]\n",
    "\n",
    "        if len(dftemp_clean)!=0:\n",
    "            dftemp_clean['post_start']=dftemp_clean['TimeFrame'].shift(-1)\n",
    "            dftemp_clean.reset_index(inplace=True,drop=True)\n",
    "\n",
    "            lst = dftemp_clean.loc[0,'TimeFrame']\n",
    "            let = 0\n",
    "            startflag=1\n",
    "            count=0\n",
    "            for idx,row in dftemp_clean.iterrows():\n",
    "                count+=1\n",
    "                if startflag==1:\n",
    "                    lst = row.TimeFrame\n",
    "                    startflag=0\n",
    "\n",
    "                if (row['post_start']>=row['TimeFrame']+2) or np.isnan(row['post_start']):\n",
    "                                                        # if next start time is within 2 sec of current ending time, consider current and next as one event and continue counting\n",
    "                    let = row.TimeFrame+0.5\n",
    "                    if count>=3: # only save audio clips with at least 5 identified interruptions (i.e. consider as substantial anomaly events)\n",
    "                        # save the audio clip and info\n",
    "                        lst_fn=filets+datetime.timedelta(seconds=round(lst,2))\n",
    "                        fn = os.path.join(fpath,'pred_noise_autoencoder',row.File[:8]+lst_fn.strftime(time_format)+'.mp3')\n",
    "                        savewav = wav[np.max([0,round((lst-prepost)*fs)]):np.min([len(wav),round((let+prepost)*fs)])]\n",
    "                        savewav = np.multiply(savewav,(2 ** 31 - 1)).astype(np.int32)\n",
    "                        pydub.AudioSegment(savewav.tobytes(), frame_rate=fs, sample_width=4, channels=1).export(fn, format=\"mp3\")\n",
    "\n",
    "                        newdfrow=pd.DataFrame({'File':row.File,'TimeStart':lst,'TimeStamp':let,'Prediction':1,'count':count},index=[0])\n",
    "                        df_clean=pd.concat([df_clean,newdfrow],ignore_index=True)\n",
    "\n",
    "                        startflag=1\n",
    "                        count=0\n",
    "\n",
    "\n",
    "        df_all.to_csv(fpath + 'pred_noise_autoencoder/iden_noise_autoencoder_' + audiofile[len(fpath2) + 8:len(fpath2) + 13] + '_raw.csv', index=False)\n",
    "        df_clean.to_csv(fpath + 'pred_noise_autoencoder/iden_noise_autoencoder_' + audiofile[len(fpath2) + 8:len(fpath2) + 13] + '_clean.csv', index=False)"
   ],
   "metadata": {
    "collapsed": false,
    "pycharm": {
     "name": "#%%\n",
     "is_executing": true
    }
   }
  }
 ],
 "metadata": {
  "kernelspec": {
   "display_name": "Python 3",
   "language": "python",
   "name": "python3"
  },
  "language_info": {
   "codemirror_mode": {
    "name": "ipython",
    "version": 2
   },
   "file_extension": ".py",
   "mimetype": "text/x-python",
   "name": "python",
   "nbconvert_exporter": "python",
   "pygments_lexer": "ipython2",
   "version": "2.7.6"
  }
 },
 "nbformat": 4,
 "nbformat_minor": 0
}