{
 "cells": [
  {
   "cell_type": "code",
   "execution_count": 1,
   "metadata": {
    "collapsed": true
   },
   "outputs": [
    {
     "name": "stderr",
     "output_type": "stream",
     "text": [
      "2022-11-30 14:27:49.991117: I tensorflow/core/platform/cpu_feature_guard.cc:193] This TensorFlow binary is optimized with oneAPI Deep Neural Network Library (oneDNN) to use the following CPU instructions in performance-critical operations:  AVX2 FMA\n",
      "To enable them in other operations, rebuild TensorFlow with the appropriate compiler flags.\n"
     ]
    }
   ],
   "source": [
    "# import packages\n",
    "from src.models import train_model\n",
    "import os\n",
    "import librosa as lr\n",
    "import pandas as pd"
   ]
  },
  {
   "cell_type": "code",
   "execution_count": 2,
   "outputs": [],
   "source": [
    "train_dir = '/Users/girishhanumantha/Documents/GitHub/audio_anomaly_detection/data/external/CleanSim'"
   ],
   "metadata": {
    "collapsed": false,
    "pycharm": {
     "name": "#%%\n"
    }
   }
  },
  {
   "cell_type": "code",
   "execution_count": 3,
   "outputs": [
    {
     "name": "stdout",
     "output_type": "stream",
     "text": [
      "FOXSPORTS99_inf.wav\n",
      "FOXSPORTS89_inf.wav\n",
      "FOXSPORTS517_inf.wav\n",
      "FOXSPORTS507_inf.wav\n",
      "KEGL-FM507_inf.wav\n",
      "KEGL-FM517_inf.wav\n",
      "KEGL-FM197_inf.wav\n",
      "FOXSPORTS399_inf.wav\n",
      "KEGL-FM187_inf.wav\n",
      "FOXSPORTS389_inf.wav\n",
      "FOXSPORTS187_inf.wav\n",
      "KEGL-FM389_inf.wav\n",
      "FOXSPORTS197_inf.wav\n",
      "KEGL-FM399_inf.wav\n",
      "KDMX-FM487_inf.wav\n",
      "KDMX-FM497_inf.wav\n",
      "KDMX-FM209_inf.wav\n",
      "KDMX-FM219_inf.wav\n",
      "FOXSPORTS267_inf.wav\n",
      "FOXSPORTS277_inf.wav\n",
      "KEGL-FM277_inf.wav\n",
      "KEGL-FM267_inf.wav\n",
      "FOXSPORTS127_inf.wav\n",
      "KEGL-FM329_inf.wav\n",
      "FOXSPORTS137_inf.wav\n",
      "KEGL-FM339_inf.wav\n",
      "KDMX-FM69_inf.wav\n",
      "KDMX-FM149_inf.wav\n",
      "KDMX-FM79_inf.wav\n",
      "KDMX-FM159_inf.wav\n",
      "KDMX-FM357_inf.wav\n",
      "KDMX-FM347_inf.wav\n",
      "KEGL-FM137_inf.wav\n",
      "FOXSPORTS339_inf.wav\n",
      "KEGL-FM127_inf.wav\n",
      "FOXSPORTS329_inf.wav\n",
      "KEGL-FM79_inf.wav\n",
      "KEGL-FM69_inf.wav\n",
      "FOXSPORTS39_inf.wav\n",
      "FOXSPORTS29_inf.wav\n",
      "KEGL-FM459_inf.wav\n",
      "KEGL-FM449_inf.wav\n",
      "KDMX-FM427_inf.wav\n",
      "KDMX-FM437_inf.wav\n",
      "FOXSPORTS449_inf.wav\n",
      "FOXSPORTS459_inf.wav\n",
      "KDMX-FM287_inf.wav\n",
      "KDMX-FM297_inf.wav\n",
      "FOXSPORTS467_inf.wav\n",
      "FOXSPORTS477_inf.wav\n",
      "KDMX-FM409_inf.wav\n",
      "KDMX-FM419_inf.wav\n",
      "KEGL-FM477_inf.wav\n",
      "KEGL-FM467_inf.wav\n",
      "FOXSPORTS317_inf.wav\n",
      "KEGL-FM119_inf.wav\n",
      "FOXSPORTS307_inf.wav\n",
      "KEGL-FM109_inf.wav\n",
      "KDMX-FM379_inf.wav\n",
      "KDMX-FM369_inf.wav\n",
      "KDMX-FM167_inf.wav\n",
      "KDMX-FM47_inf.wav\n",
      "KDMX-FM177_inf.wav\n",
      "KDMX-FM57_inf.wav\n",
      "KEGL-FM307_inf.wav\n",
      "KEGL-FM9_inf.wav\n",
      "FOXSPORTS109_inf.wav\n",
      "KEGL-FM317_inf.wav\n",
      "FOXSPORTS119_inf.wav\n",
      "FOXSPORTS17_inf.wav\n",
      "KEGL-FM57_inf.wav\n",
      "KEGL-FM47_inf.wav\n",
      "KEGL-FM259_inf.wav\n",
      "KEGL-FM249_inf.wav\n",
      "FOXSPORTS249_inf.wav\n",
      "FOXSPORTS259_inf.wav\n",
      "KDMX-FM227_inf.wav\n",
      "KDMX-FM237_inf.wav\n",
      "KEGL-FM529_inf.wav\n",
      "KEGL-FM539_inf.wav\n",
      "FOXSPORTS539_inf.wav\n",
      "FOXSPORTS529_inf.wav\n",
      "FOXSPORTS299_inf.wav\n",
      "FOXSPORTS289_inf.wav\n",
      "KEGL-FM289_inf.wav\n",
      "KEGL-FM299_inf.wav\n",
      "FOXSPORTS417_inf.wav\n",
      "FOXSPORTS407_inf.wav\n",
      "KDMX-FM479_inf.wav\n",
      "KDMX-FM469_inf.wav\n",
      "KEGL-FM407_inf.wav\n",
      "KEGL-FM417_inf.wav\n",
      "FOXSPORTS367_inf.wav\n",
      "KEGL-FM169_inf.wav\n",
      "FOXSPORTS377_inf.wav\n",
      "KEGL-FM179_inf.wav\n",
      "KDMX-FM309_inf.wav\n",
      "KDMX-FM319_inf.wav\n",
      "KDMX-FM117_inf.wav\n",
      "KDMX-FM37_inf.wav\n",
      "KDMX-FM107_inf.wav\n",
      "KDMX-FM27_inf.wav\n",
      "KEGL-FM377_inf.wav\n",
      "FOXSPORTS179_inf.wav\n",
      "KEGL-FM367_inf.wav\n",
      "FOXSPORTS169_inf.wav\n",
      "FOXSPORTS67_inf.wav\n",
      "FOXSPORTS77_inf.wav\n",
      "KEGL-FM27_inf.wav\n",
      "KEGL-FM37_inf.wav\n",
      "FOXSPORTS7_inf.wav\n",
      "KEGL-FM229_inf.wav\n",
      "KEGL-FM239_inf.wav\n",
      "FOXSPORTS239_inf.wav\n",
      "FOXSPORTS229_inf.wav\n",
      "KDMX-FM257_inf.wav\n",
      "KDMX-FM247_inf.wav\n",
      "KDMX-FM527_inf.wav\n",
      "KDMX-FM537_inf.wav\n",
      "KEGL-FM87_inf.wav\n",
      "KEGL-FM97_inf.wav\n",
      "KDMX-FM97_inf.wav\n",
      "KDMX-FM87_inf.wav\n",
      "KDMX-FM509_inf.wav\n",
      "KDMX-FM519_inf.wav\n",
      "KDMX-FM9_inf.wav\n",
      "KDMX-FM387_inf.wav\n",
      "KDMX-FM397_inf.wav\n",
      "KDMX-FM199_inf.wav\n",
      "KDMX-FM189_inf.wav\n",
      "FOXSPORTS499_inf.wav\n",
      "FOXSPORTS489_inf.wav\n",
      "KEGL-FM489_inf.wav\n",
      "KEGL-FM499_inf.wav\n",
      "KDMX-FM279_inf.wav\n",
      "KDMX-FM269_inf.wav\n",
      "FOXSPORTS217_inf.wav\n",
      "FOXSPORTS207_inf.wav\n",
      "KEGL-FM207_inf.wav\n",
      "KEGL-FM217_inf.wav\n",
      "FOXSPORTS157_inf.wav\n",
      "KEGL-FM359_inf.wav\n",
      "FOXSPORTS147_inf.wav\n",
      "KEGL-FM349_inf.wav\n",
      "KDMX-FM19_inf.wav\n",
      "KDMX-FM139_inf.wav\n",
      "KDMX-FM129_inf.wav\n",
      "KDMX-FM327_inf.wav\n",
      "KDMX-FM337_inf.wav\n",
      "KEGL-FM147_inf.wav\n",
      "FOXSPORTS349_inf.wav\n",
      "KEGL-FM157_inf.wav\n",
      "FOXSPORTS359_inf.wav\n",
      "KEGL-FM19_inf.wav\n",
      "FOXSPORTS49_inf.wav\n",
      "FOXSPORTS59_inf.wav\n",
      "KEGL-FM429_inf.wav\n",
      "KEGL-FM439_inf.wav\n",
      "KDMX-FM457_inf.wav\n",
      "KDMX-FM447_inf.wav\n",
      "FOXSPORTS439_inf.wav\n",
      "FOXSPORTS429_inf.wav\n",
      "KDMX-FM499_inf.wav\n",
      "KDMX-FM489_inf.wav\n",
      "FOXSPORTS279_inf.wav\n",
      "FOXSPORTS269_inf.wav\n",
      "KDMX-FM217_inf.wav\n",
      "KDMX-FM207_inf.wav\n",
      "KEGL-FM269_inf.wav\n",
      "KEGL-FM279_inf.wav\n",
      "FOXSPORTS87_inf.wav\n",
      "FOXSPORTS97_inf.wav\n",
      "FOXSPORTS509_inf.wav\n",
      "FOXSPORTS519_inf.wav\n",
      "KEGL-FM519_inf.wav\n",
      "KEGL-FM509_inf.wav\n",
      "KEGL-FM189_inf.wav\n",
      "FOXSPORTS387_inf.wav\n",
      "KEGL-FM199_inf.wav\n",
      "FOXSPORTS397_inf.wav\n",
      "FOXSPORTS199_inf.wav\n",
      "KEGL-FM397_inf.wav\n",
      "FOXSPORTS189_inf.wav\n",
      "KEGL-FM387_inf.wav\n",
      "KEGL-FM447_inf.wav\n",
      "KEGL-FM457_inf.wav\n",
      "FOXSPORTS457_inf.wav\n",
      "FOXSPORTS447_inf.wav\n",
      "KDMX-FM439_inf.wav\n",
      "KDMX-FM429_inf.wav\n",
      "KDMX-FM77_inf.wav\n",
      "KDMX-FM157_inf.wav\n",
      "KDMX-FM67_inf.wav\n",
      "KDMX-FM147_inf.wav\n",
      "FOXSPORTS139_inf.wav\n",
      "KEGL-FM337_inf.wav\n",
      "FOXSPORTS129_inf.wav\n",
      "KEGL-FM327_inf.wav\n",
      "KEGL-FM129_inf.wav\n",
      "FOXSPORTS327_inf.wav\n",
      "KEGL-FM139_inf.wav\n",
      "FOXSPORTS337_inf.wav\n",
      "KDMX-FM349_inf.wav\n",
      "KDMX-FM359_inf.wav\n",
      "KEGL-FM67_inf.wav\n",
      "KEGL-FM77_inf.wav\n",
      "FOXSPORTS27_inf.wav\n",
      "FOXSPORTS37_inf.wav\n",
      "KDMX-FM367_inf.wav\n",
      "KDMX-FM377_inf.wav\n",
      "FOXSPORTS309_inf.wav\n",
      "KEGL-FM107_inf.wav\n",
      "FOXSPORTS319_inf.wav\n",
      "KEGL-FM117_inf.wav\n",
      "KEGL-FM319_inf.wav\n",
      "FOXSPORTS117_inf.wav\n",
      "KEGL-FM309_inf.wav\n",
      "KEGL-FM7_inf.wav\n",
      "FOXSPORTS107_inf.wav\n",
      "KDMX-FM179_inf.wav\n",
      "KDMX-FM59_inf.wav\n",
      "KDMX-FM169_inf.wav\n",
      "KDMX-FM49_inf.wav\n",
      "FOXSPORTS19_inf.wav\n",
      "KEGL-FM49_inf.wav\n",
      "KEGL-FM59_inf.wav\n",
      "KDMX-FM299_inf.wav\n",
      "KDMX-FM289_inf.wav\n",
      "KDMX-FM417_inf.wav\n",
      "KDMX-FM407_inf.wav\n",
      "FOXSPORTS479_inf.wav\n",
      "FOXSPORTS469_inf.wav\n",
      "KEGL-FM469_inf.wav\n",
      "KEGL-FM479_inf.wav\n",
      "KEGL-FM537_inf.wav\n",
      "KEGL-FM527_inf.wav\n",
      "FOXSPORTS527_inf.wav\n",
      "FOXSPORTS537_inf.wav\n",
      "KEGL-FM247_inf.wav\n",
      "KEGL-FM257_inf.wav\n",
      "KDMX-FM239_inf.wav\n",
      "KDMX-FM229_inf.wav\n",
      "FOXSPORTS257_inf.wav\n",
      "FOXSPORTS247_inf.wav\n",
      "KDMX-FM317_inf.wav\n",
      "KDMX-FM307_inf.wav\n",
      "FOXSPORTS379_inf.wav\n",
      "KEGL-FM177_inf.wav\n",
      "FOXSPORTS369_inf.wav\n",
      "KEGL-FM167_inf.wav\n",
      "KEGL-FM369_inf.wav\n",
      "FOXSPORTS167_inf.wav\n",
      "KEGL-FM379_inf.wav\n",
      "FOXSPORTS177_inf.wav\n",
      "KDMX-FM109_inf.wav\n",
      "KDMX-FM29_inf.wav\n",
      "KDMX-FM119_inf.wav\n",
      "KDMX-FM39_inf.wav\n",
      "FOXSPORTS79_inf.wav\n",
      "FOXSPORTS69_inf.wav\n",
      "KEGL-FM39_inf.wav\n",
      "KEGL-FM29_inf.wav\n",
      "FOXSPORTS287_inf.wav\n",
      "FOXSPORTS297_inf.wav\n",
      "KEGL-FM297_inf.wav\n",
      "KEGL-FM287_inf.wav\n",
      "KDMX-FM467_inf.wav\n",
      "KDMX-FM477_inf.wav\n",
      "FOXSPORTS409_inf.wav\n",
      "FOXSPORTS419_inf.wav\n",
      "KEGL-FM419_inf.wav\n",
      "KEGL-FM409_inf.wav\n",
      "KDMX-FM539_inf.wav\n",
      "KDMX-FM529_inf.wav\n",
      "KEGL-FM99_inf.wav\n",
      "KEGL-FM89_inf.wav\n",
      "KDMX-FM89_inf.wav\n",
      "KDMX-FM99_inf.wav\n",
      "FOXSPORTS9_inf.wav\n",
      "KEGL-FM237_inf.wav\n",
      "KEGL-FM227_inf.wav\n",
      "KDMX-FM249_inf.wav\n",
      "KDMX-FM259_inf.wav\n",
      "FOXSPORTS227_inf.wav\n",
      "FOXSPORTS237_inf.wav\n",
      "FOXSPORTS487_inf.wav\n",
      "FOXSPORTS497_inf.wav\n",
      "KEGL-FM497_inf.wav\n",
      "KEGL-FM487_inf.wav\n",
      "FOXSPORTS209_inf.wav\n",
      "FOXSPORTS219_inf.wav\n",
      "KDMX-FM267_inf.wav\n",
      "KDMX-FM277_inf.wav\n",
      "KEGL-FM219_inf.wav\n",
      "KEGL-FM209_inf.wav\n",
      "KDMX-FM517_inf.wav\n",
      "KDMX-FM7_inf.wav\n",
      "KDMX-FM507_inf.wav\n",
      "KDMX-FM399_inf.wav\n",
      "KDMX-FM389_inf.wav\n",
      "KDMX-FM187_inf.wav\n",
      "KDMX-FM197_inf.wav\n",
      "KEGL-FM437_inf.wav\n",
      "KEGL-FM427_inf.wav\n",
      "FOXSPORTS427_inf.wav\n",
      "FOXSPORTS437_inf.wav\n",
      "KDMX-FM449_inf.wav\n",
      "KDMX-FM459_inf.wav\n",
      "KDMX-FM127_inf.wav\n",
      "KDMX-FM17_inf.wav\n",
      "KDMX-FM137_inf.wav\n",
      "FOXSPORTS149_inf.wav\n",
      "KEGL-FM347_inf.wav\n",
      "FOXSPORTS159_inf.wav\n",
      "KEGL-FM357_inf.wav\n",
      "KEGL-FM159_inf.wav\n",
      "FOXSPORTS357_inf.wav\n",
      "KEGL-FM149_inf.wav\n",
      "FOXSPORTS347_inf.wav\n",
      "KDMX-FM339_inf.wav\n",
      "KDMX-FM329_inf.wav\n",
      "KEGL-FM17_inf.wav\n",
      "FOXSPORTS57_inf.wav\n",
      "FOXSPORTS47_inf.wav\n"
     ]
    }
   ],
   "source": [
    "# create features and append to a DataFrame\n",
    "df_train = pd.DataFrame()\n",
    "for audio_file in os.listdir(train_dir):\n",
    "    print(audio_file)\n",
    "    sr_ = 44100\n",
    "    audio_ts, sr= lr.load(train_dir + '/' + audio_file, sr=sr_)\n",
    "    df_temp = train_model.extract_features_autoencoder(audio_ts=audio_ts, sr=sr)\n",
    "    df_temp['audio_file'] = audio_file\n",
    "    df_temp['audio_idx'] = df_temp.index.values\n",
    "    df_train = pd.concat([df_train, df_temp ], axis=0)"
   ],
   "metadata": {
    "collapsed": false,
    "pycharm": {
     "name": "#%%\n"
    }
   }
  },
  {
   "cell_type": "code",
   "execution_count": 4,
   "outputs": [],
   "source": [
    "#df_train.to_pickle('train_data.pkl')"
   ],
   "metadata": {
    "collapsed": false,
    "pycharm": {
     "name": "#%%\n"
    }
   }
  },
  {
   "cell_type": "code",
   "execution_count": 5,
   "outputs": [],
   "source": [
    "df_train = pd.read_pickle('train_data.pkl')"
   ],
   "metadata": {
    "collapsed": false,
    "pycharm": {
     "name": "#%%\n"
    }
   }
  },
  {
   "cell_type": "code",
   "execution_count": 6,
   "outputs": [],
   "source": [
    "id_cols = ['audio_file', 'audio_idx']\n",
    "feature_cols = list(set(df_train.columns) - set(id_cols))"
   ],
   "metadata": {
    "collapsed": false,
    "pycharm": {
     "name": "#%%\n"
    }
   }
  },
  {
   "cell_type": "code",
   "execution_count": 7,
   "outputs": [
    {
     "data": {
      "text/plain": "     feature_1  feature_2  feature_3  feature_4  feature_5   feature_6  \\\n4     0.327078   0.384335   0.339443   0.842795   4.645612   22.110916   \n5     0.122468   0.124863   0.057693   0.322851   5.444322   65.595810   \n6     0.001431   0.001828   0.001973   0.103889  11.191648   99.829224   \n7     0.000904   0.002580   0.001171   0.021285  12.051988  108.581192   \n8     0.003236   0.011110   0.021731   0.057542  10.346906  109.439224   \n..         ...        ...        ...        ...        ...         ...   \n857   0.001937   0.096866   0.607264   1.302632   2.595107   20.091198   \n858   0.012181   0.601900   5.020729   6.949769   2.979489   20.034277   \n859   0.010600   0.847415   7.460706  12.265512   6.384730   39.735664   \n860   0.007163   0.897832   3.646344   3.157603   4.367939   21.475815   \n861   0.002151   1.436809   7.864433   4.500092   1.940717    6.094805   \n\n      feature_7  feature_8  feature_9  feature_10  ...   feature_633  \\\n4     29.827007   6.260684   1.018023    2.007192  ...  2.020920e-09   \n5     69.857185   2.998576   0.181803    0.590291  ...  2.476521e-09   \n6     62.123962   0.151063   0.068014    0.077047  ...  2.832289e-09   \n7     64.330063   0.184444   0.194675    0.238484  ...  1.368641e-08   \n8     71.662994   0.242901   0.116133    0.168213  ...  4.254539e-08   \n..          ...        ...        ...         ...  ...           ...   \n857   35.728054  20.225445   3.858782    2.203769  ...  2.340837e-09   \n858   40.274826  13.546665   4.455758    4.199776  ...  2.338514e-09   \n859  112.185890  24.082947   4.684467    3.919962  ...  2.715194e-09   \n860   67.448288  23.553400   5.375798    4.543712  ...  2.922356e-05   \n861   19.298063  10.366763   3.736054    3.158760  ...  3.959706e-04   \n\n      feature_634   feature_635   feature_636   feature_637   feature_638  \\\n4    1.666783e-09  1.644386e-09  2.049729e-09  1.533129e-09  1.074889e-09   \n5    2.332397e-09  1.554772e-09  1.833447e-09  1.106505e-09  9.879851e-10   \n6    2.654956e-09  1.554957e-09  1.503331e-09  9.125420e-10  6.616438e-10   \n7    1.708652e-09  1.453376e-09  1.693826e-09  1.183740e-09  7.114555e-10   \n8    1.963286e-09  1.450099e-09  1.611055e-09  1.241624e-09  6.402365e-10   \n..            ...           ...           ...           ...           ...   \n857  2.964650e-09  2.822403e-09  3.330585e-09  2.493766e-09  1.107566e-09   \n858  2.859966e-09  2.549299e-09  2.706321e-09  2.314980e-09  7.387141e-10   \n859  2.796980e-09  2.667513e-09  1.733745e-09  2.139334e-09  9.204558e-10   \n860  2.833357e-05  2.753982e-05  2.687784e-05  2.636836e-05  2.595281e-05   \n861  3.838533e-04  3.730734e-04  3.640943e-04  3.571750e-04  3.515414e-04   \n\n      feature_639   feature_640           audio_file  audio_idx  \n4    1.628949e-10  8.780408e-12  FOXSPORTS99_inf.wav          4  \n5    1.347133e-10  8.886353e-12  FOXSPORTS99_inf.wav          5  \n6    1.277419e-10  8.969373e-12  FOXSPORTS99_inf.wav          6  \n7    9.641018e-11  9.547394e-12  FOXSPORTS99_inf.wav          7  \n8    8.963253e-11  4.764719e-12  FOXSPORTS99_inf.wav          8  \n..            ...           ...                  ...        ...  \n857  2.146643e-10  1.293068e-11  FOXSPORTS47_inf.wav        857  \n858  1.782017e-10  8.483107e-12  FOXSPORTS47_inf.wav        858  \n859  1.841027e-10  6.887750e-12  FOXSPORTS47_inf.wav        859  \n860  2.563623e-05  2.544156e-05  FOXSPORTS47_inf.wav        860  \n861  3.472686e-04  3.446340e-04  FOXSPORTS47_inf.wav        861  \n\n[277992 rows x 642 columns]",
      "text/html": "<div>\n<style scoped>\n    .dataframe tbody tr th:only-of-type {\n        vertical-align: middle;\n    }\n\n    .dataframe tbody tr th {\n        vertical-align: top;\n    }\n\n    .dataframe thead th {\n        text-align: right;\n    }\n</style>\n<table border=\"1\" class=\"dataframe\">\n  <thead>\n    <tr style=\"text-align: right;\">\n      <th></th>\n      <th>feature_1</th>\n      <th>feature_2</th>\n      <th>feature_3</th>\n      <th>feature_4</th>\n      <th>feature_5</th>\n      <th>feature_6</th>\n      <th>feature_7</th>\n      <th>feature_8</th>\n      <th>feature_9</th>\n      <th>feature_10</th>\n      <th>...</th>\n      <th>feature_633</th>\n      <th>feature_634</th>\n      <th>feature_635</th>\n      <th>feature_636</th>\n      <th>feature_637</th>\n      <th>feature_638</th>\n      <th>feature_639</th>\n      <th>feature_640</th>\n      <th>audio_file</th>\n      <th>audio_idx</th>\n    </tr>\n  </thead>\n  <tbody>\n    <tr>\n      <th>4</th>\n      <td>0.327078</td>\n      <td>0.384335</td>\n      <td>0.339443</td>\n      <td>0.842795</td>\n      <td>4.645612</td>\n      <td>22.110916</td>\n      <td>29.827007</td>\n      <td>6.260684</td>\n      <td>1.018023</td>\n      <td>2.007192</td>\n      <td>...</td>\n      <td>2.020920e-09</td>\n      <td>1.666783e-09</td>\n      <td>1.644386e-09</td>\n      <td>2.049729e-09</td>\n      <td>1.533129e-09</td>\n      <td>1.074889e-09</td>\n      <td>1.628949e-10</td>\n      <td>8.780408e-12</td>\n      <td>FOXSPORTS99_inf.wav</td>\n      <td>4</td>\n    </tr>\n    <tr>\n      <th>5</th>\n      <td>0.122468</td>\n      <td>0.124863</td>\n      <td>0.057693</td>\n      <td>0.322851</td>\n      <td>5.444322</td>\n      <td>65.595810</td>\n      <td>69.857185</td>\n      <td>2.998576</td>\n      <td>0.181803</td>\n      <td>0.590291</td>\n      <td>...</td>\n      <td>2.476521e-09</td>\n      <td>2.332397e-09</td>\n      <td>1.554772e-09</td>\n      <td>1.833447e-09</td>\n      <td>1.106505e-09</td>\n      <td>9.879851e-10</td>\n      <td>1.347133e-10</td>\n      <td>8.886353e-12</td>\n      <td>FOXSPORTS99_inf.wav</td>\n      <td>5</td>\n    </tr>\n    <tr>\n      <th>6</th>\n      <td>0.001431</td>\n      <td>0.001828</td>\n      <td>0.001973</td>\n      <td>0.103889</td>\n      <td>11.191648</td>\n      <td>99.829224</td>\n      <td>62.123962</td>\n      <td>0.151063</td>\n      <td>0.068014</td>\n      <td>0.077047</td>\n      <td>...</td>\n      <td>2.832289e-09</td>\n      <td>2.654956e-09</td>\n      <td>1.554957e-09</td>\n      <td>1.503331e-09</td>\n      <td>9.125420e-10</td>\n      <td>6.616438e-10</td>\n      <td>1.277419e-10</td>\n      <td>8.969373e-12</td>\n      <td>FOXSPORTS99_inf.wav</td>\n      <td>6</td>\n    </tr>\n    <tr>\n      <th>7</th>\n      <td>0.000904</td>\n      <td>0.002580</td>\n      <td>0.001171</td>\n      <td>0.021285</td>\n      <td>12.051988</td>\n      <td>108.581192</td>\n      <td>64.330063</td>\n      <td>0.184444</td>\n      <td>0.194675</td>\n      <td>0.238484</td>\n      <td>...</td>\n      <td>1.368641e-08</td>\n      <td>1.708652e-09</td>\n      <td>1.453376e-09</td>\n      <td>1.693826e-09</td>\n      <td>1.183740e-09</td>\n      <td>7.114555e-10</td>\n      <td>9.641018e-11</td>\n      <td>9.547394e-12</td>\n      <td>FOXSPORTS99_inf.wav</td>\n      <td>7</td>\n    </tr>\n    <tr>\n      <th>8</th>\n      <td>0.003236</td>\n      <td>0.011110</td>\n      <td>0.021731</td>\n      <td>0.057542</td>\n      <td>10.346906</td>\n      <td>109.439224</td>\n      <td>71.662994</td>\n      <td>0.242901</td>\n      <td>0.116133</td>\n      <td>0.168213</td>\n      <td>...</td>\n      <td>4.254539e-08</td>\n      <td>1.963286e-09</td>\n      <td>1.450099e-09</td>\n      <td>1.611055e-09</td>\n      <td>1.241624e-09</td>\n      <td>6.402365e-10</td>\n      <td>8.963253e-11</td>\n      <td>4.764719e-12</td>\n      <td>FOXSPORTS99_inf.wav</td>\n      <td>8</td>\n    </tr>\n    <tr>\n      <th>...</th>\n      <td>...</td>\n      <td>...</td>\n      <td>...</td>\n      <td>...</td>\n      <td>...</td>\n      <td>...</td>\n      <td>...</td>\n      <td>...</td>\n      <td>...</td>\n      <td>...</td>\n      <td>...</td>\n      <td>...</td>\n      <td>...</td>\n      <td>...</td>\n      <td>...</td>\n      <td>...</td>\n      <td>...</td>\n      <td>...</td>\n      <td>...</td>\n      <td>...</td>\n      <td>...</td>\n    </tr>\n    <tr>\n      <th>857</th>\n      <td>0.001937</td>\n      <td>0.096866</td>\n      <td>0.607264</td>\n      <td>1.302632</td>\n      <td>2.595107</td>\n      <td>20.091198</td>\n      <td>35.728054</td>\n      <td>20.225445</td>\n      <td>3.858782</td>\n      <td>2.203769</td>\n      <td>...</td>\n      <td>2.340837e-09</td>\n      <td>2.964650e-09</td>\n      <td>2.822403e-09</td>\n      <td>3.330585e-09</td>\n      <td>2.493766e-09</td>\n      <td>1.107566e-09</td>\n      <td>2.146643e-10</td>\n      <td>1.293068e-11</td>\n      <td>FOXSPORTS47_inf.wav</td>\n      <td>857</td>\n    </tr>\n    <tr>\n      <th>858</th>\n      <td>0.012181</td>\n      <td>0.601900</td>\n      <td>5.020729</td>\n      <td>6.949769</td>\n      <td>2.979489</td>\n      <td>20.034277</td>\n      <td>40.274826</td>\n      <td>13.546665</td>\n      <td>4.455758</td>\n      <td>4.199776</td>\n      <td>...</td>\n      <td>2.338514e-09</td>\n      <td>2.859966e-09</td>\n      <td>2.549299e-09</td>\n      <td>2.706321e-09</td>\n      <td>2.314980e-09</td>\n      <td>7.387141e-10</td>\n      <td>1.782017e-10</td>\n      <td>8.483107e-12</td>\n      <td>FOXSPORTS47_inf.wav</td>\n      <td>858</td>\n    </tr>\n    <tr>\n      <th>859</th>\n      <td>0.010600</td>\n      <td>0.847415</td>\n      <td>7.460706</td>\n      <td>12.265512</td>\n      <td>6.384730</td>\n      <td>39.735664</td>\n      <td>112.185890</td>\n      <td>24.082947</td>\n      <td>4.684467</td>\n      <td>3.919962</td>\n      <td>...</td>\n      <td>2.715194e-09</td>\n      <td>2.796980e-09</td>\n      <td>2.667513e-09</td>\n      <td>1.733745e-09</td>\n      <td>2.139334e-09</td>\n      <td>9.204558e-10</td>\n      <td>1.841027e-10</td>\n      <td>6.887750e-12</td>\n      <td>FOXSPORTS47_inf.wav</td>\n      <td>859</td>\n    </tr>\n    <tr>\n      <th>860</th>\n      <td>0.007163</td>\n      <td>0.897832</td>\n      <td>3.646344</td>\n      <td>3.157603</td>\n      <td>4.367939</td>\n      <td>21.475815</td>\n      <td>67.448288</td>\n      <td>23.553400</td>\n      <td>5.375798</td>\n      <td>4.543712</td>\n      <td>...</td>\n      <td>2.922356e-05</td>\n      <td>2.833357e-05</td>\n      <td>2.753982e-05</td>\n      <td>2.687784e-05</td>\n      <td>2.636836e-05</td>\n      <td>2.595281e-05</td>\n      <td>2.563623e-05</td>\n      <td>2.544156e-05</td>\n      <td>FOXSPORTS47_inf.wav</td>\n      <td>860</td>\n    </tr>\n    <tr>\n      <th>861</th>\n      <td>0.002151</td>\n      <td>1.436809</td>\n      <td>7.864433</td>\n      <td>4.500092</td>\n      <td>1.940717</td>\n      <td>6.094805</td>\n      <td>19.298063</td>\n      <td>10.366763</td>\n      <td>3.736054</td>\n      <td>3.158760</td>\n      <td>...</td>\n      <td>3.959706e-04</td>\n      <td>3.838533e-04</td>\n      <td>3.730734e-04</td>\n      <td>3.640943e-04</td>\n      <td>3.571750e-04</td>\n      <td>3.515414e-04</td>\n      <td>3.472686e-04</td>\n      <td>3.446340e-04</td>\n      <td>FOXSPORTS47_inf.wav</td>\n      <td>861</td>\n    </tr>\n  </tbody>\n</table>\n<p>277992 rows × 642 columns</p>\n</div>"
     },
     "execution_count": 7,
     "metadata": {},
     "output_type": "execute_result"
    }
   ],
   "source": [
    "df_train"
   ],
   "metadata": {
    "collapsed": false,
    "pycharm": {
     "name": "#%%\n"
    }
   }
  },
  {
   "cell_type": "code",
   "execution_count": 8,
   "outputs": [],
   "source": [
    "from sklearn.model_selection import train_test_split\n",
    "VALIDATE_SIZE = 0.2\n",
    "RANDOM_SEED = 42\n",
    "# train // validate - no labels since they're all clean anyway\n",
    "X_train, X_validate = train_test_split(df_train[feature_cols], test_size=VALIDATE_SIZE, random_state=RANDOM_SEED )"
   ],
   "metadata": {
    "collapsed": false,
    "pycharm": {
     "name": "#%%\n"
    }
   }
  },
  {
   "cell_type": "code",
   "execution_count": 9,
   "outputs": [],
   "source": [
    "from sklearn.preprocessing import Normalizer, MinMaxScaler\n",
    "from sklearn.pipeline import Pipeline\n",
    "\n",
    "# configure our pipeline\n",
    "pipeline = Pipeline([('normalizer', Normalizer()),\n",
    "                     ('scaler', MinMaxScaler())])"
   ],
   "metadata": {
    "collapsed": false,
    "pycharm": {
     "name": "#%%\n"
    }
   }
  },
  {
   "cell_type": "code",
   "execution_count": 10,
   "outputs": [],
   "source": [
    "from sklearn.preprocessing import MinMaxScaler\n",
    "pipeline.fit(X_train)\n",
    "X_train_transformed = pd.DataFrame(pipeline.transform(X_train), columns=X_train.columns, index=X_train.index)\n",
    "X_validate_transformed = pd.DataFrame(pipeline.transform(X_validate), columns=X_validate.columns, index=X_validate.index)"
   ],
   "metadata": {
    "collapsed": false,
    "pycharm": {
     "name": "#%%\n"
    }
   }
  },
  {
   "cell_type": "code",
   "execution_count": 11,
   "outputs": [
    {
     "name": "stderr",
     "output_type": "stream",
     "text": [
      "2022-11-30 14:29:52.319577: I tensorflow/core/platform/cpu_feature_guard.cc:193] This TensorFlow binary is optimized with oneAPI Deep Neural Network Library (oneDNN) to use the following CPU instructions in performance-critical operations:  AVX2 FMA\n",
      "To enable them in other operations, rebuild TensorFlow with the appropriate compiler flags.\n"
     ]
    },
    {
     "name": "stdout",
     "output_type": "stream",
     "text": [
      "Model: \"sequential\"\n",
      "_________________________________________________________________\n",
      " Layer (type)                Output Shape              Param #   \n",
      "=================================================================\n",
      " dense (Dense)               (None, 640)               410240    \n",
      "                                                                 \n",
      " dense_1 (Dense)             (None, 128)               82048     \n",
      "                                                                 \n",
      " dense_2 (Dense)             (None, 128)               16512     \n",
      "                                                                 \n",
      " dense_3 (Dense)             (None, 128)               16512     \n",
      "                                                                 \n",
      " dense_4 (Dense)             (None, 128)               16512     \n",
      "                                                                 \n",
      " dense_5 (Dense)             (None, 32)                4128      \n",
      "                                                                 \n",
      " dense_6 (Dense)             (None, 128)               4224      \n",
      "                                                                 \n",
      " dense_7 (Dense)             (None, 128)               16512     \n",
      "                                                                 \n",
      " dense_8 (Dense)             (None, 128)               16512     \n",
      "                                                                 \n",
      " dense_9 (Dense)             (None, 128)               16512     \n",
      "                                                                 \n",
      " dense_10 (Dense)            (None, 640)               82560     \n",
      "                                                                 \n",
      "=================================================================\n",
      "Total params: 682,272\n",
      "Trainable params: 682,272\n",
      "Non-trainable params: 0\n",
      "_________________________________________________________________\n"
     ]
    }
   ],
   "source": [
    "import tensorflow as tf\n",
    "\n",
    "# setup nn architecture\n",
    "\n",
    "# data dimensions // hyperparameters\n",
    "input_dim = X_train_transformed.shape[1]\n",
    "BATCH_SIZE = 256\n",
    "EPOCHS = 100\n",
    "\n",
    "# https://keras.io/layers/core/\n",
    "autoencoder = tf.keras.models.Sequential([\n",
    "\n",
    "    # deconstruct / encode\n",
    "    tf.keras.layers.Dense(input_dim, activation='elu', input_shape=(input_dim,)),\n",
    "    tf.keras.layers.Dense(128, activation='elu'),\n",
    "    tf.keras.layers.Dense(128, activation='elu'),\n",
    "    tf.keras.layers.Dense(128, activation='elu'),\n",
    "    tf.keras.layers.Dense(128, activation='elu'),\n",
    "    tf.keras.layers.Dense(32, activation='elu'),\n",
    "\n",
    "    # reconstruction / decode\n",
    "    tf.keras.layers.Dense(128, activation='elu'),\n",
    "    tf.keras.layers.Dense(128, activation='elu'),\n",
    "    tf.keras.layers.Dense(128, activation='elu'),\n",
    "    tf.keras.layers.Dense(128, activation='elu'),\n",
    "    tf.keras.layers.Dense(input_dim, activation='elu')\n",
    "\n",
    "])\n",
    "\n",
    "# https://keras.io/api/models/model_training_apis/\n",
    "autoencoder.compile(optimizer=\"adam\",\n",
    "                    loss=\"mse\",\n",
    "                    metrics=[\"acc\"])\n",
    "\n",
    "# print an overview of our model\n",
    "autoencoder.summary();"
   ],
   "metadata": {
    "collapsed": false,
    "pycharm": {
     "name": "#%%\n"
    }
   }
  },
  {
   "cell_type": "code",
   "execution_count": 12,
   "outputs": [
    {
     "name": "stdout",
     "output_type": "stream",
     "text": [
      "WARNING:tensorflow:`batch_size` is no longer needed in the `TensorBoard` Callback and will be ignored in TensorFlow 2.0.\n"
     ]
    }
   ],
   "source": [
    "# Callbacks\n",
    "from datetime import datetime\n",
    "\n",
    "# current date and time\n",
    "yyyymmddHHMM = datetime.now().strftime('%Y%m%d%H%M')\n",
    "\n",
    "# new folder for a new run\n",
    "log_subdir = f'{yyyymmddHHMM}_batch{BATCH_SIZE}_layers{len(autoencoder.layers)}'\n",
    "\n",
    "# define our early stopping\n",
    "early_stop = tf.keras.callbacks.EarlyStopping(\n",
    "    monitor='val_loss',\n",
    "    min_delta=0.0001,\n",
    "    patience=10,\n",
    "    verbose=1,\n",
    "    mode='min',\n",
    "    restore_best_weights=True\n",
    ")\n",
    "\n",
    "save_model = tf.keras.callbacks.ModelCheckpoint(\n",
    "    filepath='autoencoder_best_weights.hdf5',\n",
    "    save_best_only=True,\n",
    "    monitor='val_loss',\n",
    "    verbose=0,\n",
    "    mode='min'\n",
    ")\n",
    "\n",
    "tensorboard = tf.keras.callbacks.TensorBoard(\n",
    "    f'logs/{log_subdir}',\n",
    "    batch_size=BATCH_SIZE,\n",
    "    update_freq='batch'\n",
    ")\n",
    "\n",
    "# callbacks argument only takes a list\n",
    "cb = [early_stop, save_model, tensorboard]"
   ],
   "metadata": {
    "collapsed": false,
    "pycharm": {
     "name": "#%%\n"
    }
   }
  },
  {
   "cell_type": "code",
   "execution_count": 13,
   "outputs": [
    {
     "name": "stdout",
     "output_type": "stream",
     "text": [
      "Epoch 1/100\n",
      "869/869 [==============================] - 9s 10ms/step - loss: 7.1591e-04 - acc: 0.4790 - val_loss: 5.5428e-04 - val_acc: 0.5378\n",
      "Epoch 2/100\n",
      "869/869 [==============================] - 9s 10ms/step - loss: 5.1052e-04 - acc: 0.5484 - val_loss: 4.5656e-04 - val_acc: 0.5751\n",
      "Epoch 3/100\n",
      "869/869 [==============================] - 10s 11ms/step - loss: 4.2833e-04 - acc: 0.5946 - val_loss: 3.9379e-04 - val_acc: 0.6167\n",
      "Epoch 4/100\n",
      "869/869 [==============================] - 10s 12ms/step - loss: 3.8289e-04 - acc: 0.6265 - val_loss: 3.6355e-04 - val_acc: 0.6389\n",
      "Epoch 5/100\n",
      "869/869 [==============================] - 11s 12ms/step - loss: 3.5812e-04 - acc: 0.6446 - val_loss: 3.4289e-04 - val_acc: 0.6553\n",
      "Epoch 6/100\n",
      "869/869 [==============================] - 11s 12ms/step - loss: 3.3988e-04 - acc: 0.6569 - val_loss: 3.2793e-04 - val_acc: 0.6649\n",
      "Epoch 7/100\n",
      "869/869 [==============================] - 10s 11ms/step - loss: 3.2572e-04 - acc: 0.6718 - val_loss: 3.1652e-04 - val_acc: 0.6795\n",
      "Epoch 8/100\n",
      "869/869 [==============================] - 10s 12ms/step - loss: 3.1433e-04 - acc: 0.6819 - val_loss: 3.0475e-04 - val_acc: 0.6863\n",
      "Epoch 9/100\n",
      "869/869 [==============================] - 12s 13ms/step - loss: 3.0502e-04 - acc: 0.6886 - val_loss: 2.9788e-04 - val_acc: 0.6933\n",
      "Epoch 10/100\n",
      "869/869 [==============================] - 13s 15ms/step - loss: 2.9708e-04 - acc: 0.6947 - val_loss: 2.8943e-04 - val_acc: 0.6993\n",
      "Epoch 11/100\n",
      "869/869 [==============================] - 12s 14ms/step - loss: 2.9059e-04 - acc: 0.6993 - val_loss: 2.8408e-04 - val_acc: 0.7043\n",
      "Epoch 12/100\n",
      "869/869 [==============================] - 11s 13ms/step - loss: 2.8466e-04 - acc: 0.7041 - val_loss: 2.7865e-04 - val_acc: 0.7064\n",
      "Epoch 13/100\n",
      "869/869 [==============================] - 11s 13ms/step - loss: 2.7929e-04 - acc: 0.7083 - val_loss: 2.7477e-04 - val_acc: 0.7144\n",
      "Epoch 14/100\n",
      "869/869 [==============================] - 12s 13ms/step - loss: 2.7505e-04 - acc: 0.7121 - val_loss: 2.6947e-04 - val_acc: 0.7168\n",
      "Epoch 15/100\n",
      "869/869 [==============================] - 12s 13ms/step - loss: 2.7104e-04 - acc: 0.7149 - val_loss: 2.6666e-04 - val_acc: 0.7207\n",
      "Epoch 16/100\n",
      "869/869 [==============================] - 11s 13ms/step - loss: 2.6756e-04 - acc: 0.7184 - val_loss: 2.6402e-04 - val_acc: 0.7210\n",
      "Epoch 17/100\n",
      "869/869 [==============================] - 12s 14ms/step - loss: 2.6472e-04 - acc: 0.7204 - val_loss: 2.6051e-04 - val_acc: 0.7240\n",
      "Epoch 18/100\n",
      "869/869 [==============================] - 13s 15ms/step - loss: 2.6199e-04 - acc: 0.7219 - val_loss: 2.5824e-04 - val_acc: 0.7287\n",
      "Epoch 19/100\n",
      "869/869 [==============================] - 11s 13ms/step - loss: 2.5962e-04 - acc: 0.7244 - val_loss: 2.5462e-04 - val_acc: 0.7317\n",
      "Epoch 20/100\n",
      "868/869 [============================>.] - ETA: 0s - loss: 2.5766e-04 - acc: 0.7258Restoring model weights from the end of the best epoch: 10.\n",
      "869/869 [==============================] - 11s 12ms/step - loss: 2.5766e-04 - acc: 0.7258 - val_loss: 2.5353e-04 - val_acc: 0.7328\n",
      "Epoch 20: early stopping\n"
     ]
    }
   ],
   "source": [
    "# train model\n",
    "history = autoencoder.fit(\n",
    "    X_train_transformed, X_train_transformed,\n",
    "    shuffle=True,\n",
    "    epochs=EPOCHS,\n",
    "    batch_size=BATCH_SIZE,\n",
    "    callbacks=cb,\n",
    "    validation_data=(X_validate_transformed, X_validate_transformed)\n",
    ");"
   ],
   "metadata": {
    "collapsed": false,
    "pycharm": {
     "name": "#%%\n"
    }
   }
  },
  {
   "cell_type": "code",
   "execution_count": 14,
   "outputs": [
    {
     "name": "stdout",
     "output_type": "stream",
     "text": [
      "KDMX-FM5_whitenoise.wav\n",
      "KEGL-FM373_whitenoise.wav\n",
      "FOXSPORTS383_whitenoise.wav\n",
      "KDMX-FM445_whitenoise.wav\n",
      "KEGL-FM265_whitenoise.wav\n",
      "FOXSPORTS295_whitenoise.wav\n",
      "FOXSPORTS23_whitenoise.wav\n",
      "FOXSPORTS145_whitenoise.wav\n",
      "KDMX-FM25_whitenoise.wav\n",
      "FOXSPORTS423_whitenoise.wav\n",
      "KDMX-FM123_whitenoise.wav\n",
      "KEGL-FM15_whitenoise.wav\n",
      "FOXSPORTS535_whitenoise.wav\n",
      "KDMX-FM363_whitenoise.wav\n",
      "KEGL-FM455_whitenoise.wav\n",
      "KDMX-FM275_whitenoise.wav\n",
      "FOXSPORTS5_whitenoise.wav\n",
      "KEGL-FM93_whitenoise.wav\n",
      "FOXSPORTS305_whitenoise.wav\n",
      "FOXSPORTS213_whitenoise.wav\n",
      "KEGL-FM133_whitenoise.wav\n",
      "KEGL-FM3_whitenoise.wav\n",
      "KEGL-FM63_whitenoise.wav\n",
      "KDMX-FM155_whitenoise.wav\n",
      "KDMX-FM285_whitenoise.wav\n",
      "FOXSPORTS455_whitenoise.wav\n",
      "KDMX-FM393_whitenoise.wav\n",
      "KDMX-FM53_whitenoise.wav\n",
      "FOXSPORTS133_whitenoise.wav\n",
      "KDMX-FM525_whitenoise.wav\n",
      "FOXSPORTS55_whitenoise.wav\n",
      "KEGL-FM213_whitenoise.wav\n",
      "KDMX-FM433_whitenoise.wav\n",
      "KEGL-FM305_whitenoise.wav\n",
      "KEGL-FM145_whitenoise.wav\n",
      "FOXSPORTS265_whitenoise.wav\n",
      "KEGL-FM295_whitenoise.wav\n",
      "FOXSPORTS373_whitenoise.wav\n",
      "KEGL-FM383_whitenoise.wav\n",
      "KEGL-FM535_whitenoise.wav\n",
      "KDMX-FM203_whitenoise.wav\n",
      "KEGL-FM423_whitenoise.wav\n",
      "KDMX-FM315_whitenoise.wav\n",
      "KDMX-FM365_whitenoise.wav\n",
      "KEGL-FM453_whitenoise.wav\n",
      "KDMX-FM273_whitenoise.wav\n",
      "FOXSPORTS3_whitenoise.wav\n",
      "KEGL-FM95_whitenoise.wav\n",
      "FOXSPORTS303_whitenoise.wav\n",
      "FOXSPORTS215_whitenoise.wav\n",
      "KEGL-FM5_whitenoise.wav\n",
      "KEGL-FM135_whitenoise.wav\n",
      "KDMX-FM3_whitenoise.wav\n",
      "KEGL-FM375_whitenoise.wav\n",
      "FOXSPORTS385_whitenoise.wav\n",
      "KDMX-FM443_whitenoise.wav\n",
      "KEGL-FM263_whitenoise.wav\n",
      "FOXSPORTS293_whitenoise.wav\n",
      "FOXSPORTS25_whitenoise.wav\n",
      "FOXSPORTS143_whitenoise.wav\n",
      "KDMX-FM23_whitenoise.wav\n",
      "FOXSPORTS425_whitenoise.wav\n",
      "KDMX-FM125_whitenoise.wav\n",
      "FOXSPORTS533_whitenoise.wav\n",
      "KEGL-FM13_whitenoise.wav\n",
      "KEGL-FM143_whitenoise.wav\n",
      "FOXSPORTS263_whitenoise.wav\n",
      "KEGL-FM293_whitenoise.wav\n",
      "FOXSPORTS375_whitenoise.wav\n",
      "KEGL-FM385_whitenoise.wav\n",
      "KEGL-FM533_whitenoise.wav\n",
      "KDMX-FM205_whitenoise.wav\n",
      "KEGL-FM425_whitenoise.wav\n",
      "KDMX-FM313_whitenoise.wav\n",
      "KEGL-FM65_whitenoise.wav\n",
      "KDMX-FM153_whitenoise.wav\n",
      "KDMX-FM283_whitenoise.wav\n",
      "FOXSPORTS453_whitenoise.wav\n",
      "KDMX-FM395_whitenoise.wav\n",
      "KDMX-FM55_whitenoise.wav\n",
      "FOXSPORTS135_whitenoise.wav\n",
      "KDMX-FM523_whitenoise.wav\n",
      "FOXSPORTS53_whitenoise.wav\n",
      "KEGL-FM215_whitenoise.wav\n",
      "KDMX-FM435_whitenoise.wav\n",
      "KEGL-FM303_whitenoise.wav\n",
      "FOXSPORTS313_whitenoise.wav\n",
      "FOXSPORTS205_whitenoise.wav\n",
      "KEGL-FM125_whitenoise.wav\n",
      "KDMX-FM375_whitenoise.wav\n",
      "KEGL-FM443_whitenoise.wav\n",
      "KDMX-FM263_whitenoise.wav\n",
      "KEGL-FM85_whitenoise.wav\n",
      "FOXSPORTS435_whitenoise.wav\n",
      "KDMX-FM135_whitenoise.wav\n",
      "FOXSPORTS523_whitenoise.wav\n",
      "KEGL-FM365_whitenoise.wav\n",
      "FOXSPORTS395_whitenoise.wav\n",
      "KDMX-FM453_whitenoise.wav\n",
      "FOXSPORTS35_whitenoise.wav\n",
      "KEGL-FM273_whitenoise.wav\n",
      "FOXSPORTS283_whitenoise.wav\n",
      "KDMX-FM33_whitenoise.wav\n",
      "FOXSPORTS153_whitenoise.wav\n",
      "KEGL-FM523_whitenoise.wav\n",
      "KDMX-FM215_whitenoise.wav\n",
      "KEGL-FM435_whitenoise.wav\n",
      "KDMX-FM303_whitenoise.wav\n",
      "KEGL-FM153_whitenoise.wav\n",
      "FOXSPORTS273_whitenoise.wav\n",
      "KEGL-FM283_whitenoise.wav\n",
      "FOXSPORTS365_whitenoise.wav\n",
      "KEGL-FM395_whitenoise.wav\n",
      "FOXSPORTS125_whitenoise.wav\n",
      "KDMX-FM533_whitenoise.wav\n",
      "KDMX-FM45_whitenoise.wav\n",
      "KEGL-FM205_whitenoise.wav\n",
      "FOXSPORTS43_whitenoise.wav\n",
      "KDMX-FM425_whitenoise.wav\n",
      "KEGL-FM313_whitenoise.wav\n",
      "KEGL-FM75_whitenoise.wav\n",
      "KDMX-FM143_whitenoise.wav\n",
      "KDMX-FM293_whitenoise.wav\n",
      "FOXSPORTS443_whitenoise.wav\n",
      "KDMX-FM385_whitenoise.wav\n",
      "FOXSPORTS433_whitenoise.wav\n",
      "KDMX-FM133_whitenoise.wav\n",
      "FOXSPORTS525_whitenoise.wav\n",
      "KEGL-FM363_whitenoise.wav\n",
      "FOXSPORTS393_whitenoise.wav\n",
      "KDMX-FM455_whitenoise.wav\n",
      "FOXSPORTS33_whitenoise.wav\n",
      "KEGL-FM275_whitenoise.wav\n",
      "FOXSPORTS285_whitenoise.wav\n",
      "KDMX-FM35_whitenoise.wav\n",
      "FOXSPORTS155_whitenoise.wav\n",
      "FOXSPORTS315_whitenoise.wav\n",
      "FOXSPORTS203_whitenoise.wav\n",
      "KEGL-FM123_whitenoise.wav\n",
      "KDMX-FM373_whitenoise.wav\n",
      "KEGL-FM445_whitenoise.wav\n",
      "KDMX-FM265_whitenoise.wav\n",
      "KEGL-FM83_whitenoise.wav\n",
      "FOXSPORTS123_whitenoise.wav\n",
      "KDMX-FM535_whitenoise.wav\n",
      "KDMX-FM43_whitenoise.wav\n",
      "KEGL-FM203_whitenoise.wav\n",
      "FOXSPORTS45_whitenoise.wav\n",
      "KDMX-FM423_whitenoise.wav\n",
      "KEGL-FM315_whitenoise.wav\n",
      "KEGL-FM73_whitenoise.wav\n",
      "KDMX-FM145_whitenoise.wav\n",
      "KDMX-FM295_whitenoise.wav\n",
      "FOXSPORTS445_whitenoise.wav\n",
      "KDMX-FM383_whitenoise.wav\n",
      "KEGL-FM525_whitenoise.wav\n",
      "KDMX-FM213_whitenoise.wav\n",
      "KEGL-FM433_whitenoise.wav\n",
      "KDMX-FM305_whitenoise.wav\n",
      "KEGL-FM155_whitenoise.wav\n",
      "FOXSPORTS275_whitenoise.wav\n",
      "KEGL-FM285_whitenoise.wav\n",
      "FOXSPORTS363_whitenoise.wav\n",
      "KEGL-FM393_whitenoise.wav\n",
      "FOXSPORTS415_whitenoise.wav\n",
      "KEGL-FM23_whitenoise.wav\n",
      "FOXSPORTS503_whitenoise.wav\n",
      "KDMX-FM115_whitenoise.wav\n",
      "KDMX-FM473_whitenoise.wav\n",
      "KEGL-FM345_whitenoise.wav\n",
      "KDMX-FM13_whitenoise.wav\n",
      "KEGL-FM183_whitenoise.wav\n",
      "FOXSPORTS173_whitenoise.wav\n",
      "FOXSPORTS15_whitenoise.wav\n",
      "KEGL-FM253_whitenoise.wav\n",
      "FOXSPORTS333_whitenoise.wav\n",
      "KEGL-FM105_whitenoise.wav\n",
      "KDMX-FM95_whitenoise.wav\n",
      "FOXSPORTS225_whitenoise.wav\n",
      "FOXSPORTS93_whitenoise.wav\n",
      "FOXSPORTS493_whitenoise.wav\n",
      "KEGL-FM463_whitenoise.wav\n",
      "KDMX-FM355_whitenoise.wav\n",
      "KDMX-FM193_whitenoise.wav\n",
      "KDMX-FM243_whitenoise.wav\n",
      "KEGL-FM225_whitenoise.wav\n",
      "FOXSPORTS63_whitenoise.wav\n",
      "KDMX-FM513_whitenoise.wav\n",
      "FOXSPORTS105_whitenoise.wav\n",
      "KDMX-FM65_whitenoise.wav\n",
      "KEGL-FM333_whitenoise.wav\n",
      "KDMX-FM405_whitenoise.wav\n",
      "KDMX-FM163_whitenoise.wav\n",
      "KEGL-FM55_whitenoise.wav\n",
      "KEGL-FM493_whitenoise.wav\n",
      "FOXSPORTS463_whitenoise.wav\n",
      "KDMX-FM235_whitenoise.wav\n",
      "KEGL-FM503_whitenoise.wav\n",
      "KDMX-FM323_whitenoise.wav\n",
      "KEGL-FM415_whitenoise.wav\n",
      "FOXSPORTS253_whitenoise.wav\n",
      "FOXSPORTS183_whitenoise.wav\n",
      "KEGL-FM173_whitenoise.wav\n",
      "FOXSPORTS345_whitenoise.wav\n",
      "KDMX-FM483_whitenoise.wav\n",
      "FOXSPORTS335_whitenoise.wav\n",
      "KEGL-FM103_whitenoise.wav\n",
      "KDMX-FM93_whitenoise.wav\n",
      "FOXSPORTS223_whitenoise.wav\n",
      "FOXSPORTS95_whitenoise.wav\n",
      "FOXSPORTS495_whitenoise.wav\n",
      "KEGL-FM465_whitenoise.wav\n",
      "KDMX-FM353_whitenoise.wav\n",
      "KDMX-FM195_whitenoise.wav\n",
      "KDMX-FM245_whitenoise.wav\n",
      "FOXSPORTS413_whitenoise.wav\n",
      "FOXSPORTS505_whitenoise.wav\n",
      "KEGL-FM25_whitenoise.wav\n",
      "KDMX-FM113_whitenoise.wav\n",
      "KDMX-FM475_whitenoise.wav\n",
      "KEGL-FM343_whitenoise.wav\n",
      "KDMX-FM15_whitenoise.wav\n",
      "KEGL-FM185_whitenoise.wav\n",
      "FOXSPORTS175_whitenoise.wav\n",
      "FOXSPORTS13_whitenoise.wav\n",
      "KEGL-FM255_whitenoise.wav\n",
      "KDMX-FM233_whitenoise.wav\n",
      "KEGL-FM505_whitenoise.wav\n",
      "KDMX-FM325_whitenoise.wav\n",
      "KEGL-FM413_whitenoise.wav\n",
      "FOXSPORTS255_whitenoise.wav\n",
      "FOXSPORTS185_whitenoise.wav\n",
      "KEGL-FM175_whitenoise.wav\n",
      "FOXSPORTS343_whitenoise.wav\n",
      "KDMX-FM485_whitenoise.wav\n",
      "KEGL-FM223_whitenoise.wav\n",
      "FOXSPORTS65_whitenoise.wav\n",
      "KDMX-FM515_whitenoise.wav\n",
      "FOXSPORTS103_whitenoise.wav\n",
      "KDMX-FM63_whitenoise.wav\n",
      "KEGL-FM335_whitenoise.wav\n",
      "KDMX-FM403_whitenoise.wav\n",
      "KDMX-FM165_whitenoise.wav\n",
      "KEGL-FM53_whitenoise.wav\n",
      "KEGL-FM495_whitenoise.wav\n",
      "FOXSPORTS465_whitenoise.wav\n",
      "FOXSPORTS485_whitenoise.wav\n",
      "KEGL-FM475_whitenoise.wav\n",
      "KDMX-FM343_whitenoise.wav\n",
      "KDMX-FM185_whitenoise.wav\n",
      "KDMX-FM255_whitenoise.wav\n",
      "FOXSPORTS325_whitenoise.wav\n",
      "KDMX-FM83_whitenoise.wav\n",
      "KEGL-FM113_whitenoise.wav\n",
      "FOXSPORTS85_whitenoise.wav\n",
      "FOXSPORTS233_whitenoise.wav\n",
      "KDMX-FM465_whitenoise.wav\n",
      "KEGL-FM353_whitenoise.wav\n",
      "KEGL-FM195_whitenoise.wav\n",
      "FOXSPORTS165_whitenoise.wav\n",
      "KEGL-FM245_whitenoise.wav\n",
      "FOXSPORTS403_whitenoise.wav\n",
      "KEGL-FM35_whitenoise.wav\n",
      "FOXSPORTS515_whitenoise.wav\n",
      "KDMX-FM103_whitenoise.wav\n",
      "FOXSPORTS245_whitenoise.wav\n",
      "FOXSPORTS195_whitenoise.wav\n",
      "KEGL-FM165_whitenoise.wav\n",
      "FOXSPORTS353_whitenoise.wav\n",
      "KDMX-FM495_whitenoise.wav\n",
      "KDMX-FM223_whitenoise.wav\n",
      "KEGL-FM515_whitenoise.wav\n",
      "KDMX-FM335_whitenoise.wav\n",
      "KEGL-FM403_whitenoise.wav\n",
      "KDMX-FM175_whitenoise.wav\n",
      "KEGL-FM43_whitenoise.wav\n",
      "KEGL-FM485_whitenoise.wav\n",
      "FOXSPORTS475_whitenoise.wav\n",
      "FOXSPORTS75_whitenoise.wav\n",
      "KEGL-FM233_whitenoise.wav\n",
      "KDMX-FM73_whitenoise.wav\n",
      "KDMX-FM505_whitenoise.wav\n",
      "FOXSPORTS113_whitenoise.wav\n",
      "KEGL-FM325_whitenoise.wav\n",
      "KDMX-FM413_whitenoise.wav\n",
      "KDMX-FM463_whitenoise.wav\n",
      "KEGL-FM355_whitenoise.wav\n",
      "KEGL-FM193_whitenoise.wav\n",
      "FOXSPORTS163_whitenoise.wav\n",
      "KEGL-FM243_whitenoise.wav\n",
      "FOXSPORTS405_whitenoise.wav\n",
      "FOXSPORTS513_whitenoise.wav\n",
      "KEGL-FM33_whitenoise.wav\n",
      "KDMX-FM105_whitenoise.wav\n",
      "FOXSPORTS483_whitenoise.wav\n",
      "KEGL-FM473_whitenoise.wav\n",
      "KDMX-FM345_whitenoise.wav\n",
      "KDMX-FM183_whitenoise.wav\n",
      "KDMX-FM253_whitenoise.wav\n",
      "FOXSPORTS323_whitenoise.wav\n",
      "KDMX-FM85_whitenoise.wav\n",
      "KEGL-FM115_whitenoise.wav\n",
      "FOXSPORTS83_whitenoise.wav\n",
      "FOXSPORTS235_whitenoise.wav\n",
      "KDMX-FM173_whitenoise.wav\n",
      "KEGL-FM45_whitenoise.wav\n",
      "KEGL-FM483_whitenoise.wav\n",
      "FOXSPORTS473_whitenoise.wav\n",
      "FOXSPORTS73_whitenoise.wav\n",
      "KEGL-FM235_whitenoise.wav\n",
      "KDMX-FM75_whitenoise.wav\n",
      "KDMX-FM503_whitenoise.wav\n",
      "FOXSPORTS115_whitenoise.wav\n",
      "KEGL-FM323_whitenoise.wav\n",
      "KDMX-FM415_whitenoise.wav\n",
      "FOXSPORTS243_whitenoise.wav\n",
      "FOXSPORTS193_whitenoise.wav\n",
      "KEGL-FM163_whitenoise.wav\n",
      "FOXSPORTS355_whitenoise.wav\n",
      "KDMX-FM493_whitenoise.wav\n",
      "KDMX-FM225_whitenoise.wav\n",
      "KEGL-FM513_whitenoise.wav\n",
      "KDMX-FM333_whitenoise.wav\n",
      "KEGL-FM405_whitenoise.wav\n"
     ]
    }
   ],
   "source": [
    "# load test data\n",
    "test_dir = '/Users/girishhanumantha/Documents/GitHub/audio_anomaly_detection/data/external/SimNoise'\n",
    "\n",
    "# create features and append to a DataFrame\n",
    "df_test = pd.DataFrame()\n",
    "for audio_file in os.listdir(test_dir):\n",
    "    print(audio_file)\n",
    "    sr_ = 44100\n",
    "    audio_ts, sr= lr.load(test_dir + '/' + audio_file, sr=sr_)\n",
    "    df_temp = train_model.extract_features_autoencoder(audio_ts=audio_ts, sr=sr)\n",
    "    df_temp['audio_file'] = audio_file\n",
    "    df_temp['audio_idx'] = df_temp.index.values\n",
    "    df_test = pd.concat([df_test, df_temp ], axis=0)"
   ],
   "metadata": {
    "collapsed": false,
    "pycharm": {
     "name": "#%%\n"
    }
   }
  },
  {
   "cell_type": "code",
   "execution_count": 15,
   "outputs": [],
   "source": [
    "df_test.to_pickle('test_data.pkl')"
   ],
   "metadata": {
    "collapsed": false,
    "pycharm": {
     "name": "#%%\n"
    }
   }
  },
  {
   "cell_type": "code",
   "execution_count": 16,
   "outputs": [],
   "source": [
    "#df_test = pd.read_pickle('test_data.pkl')"
   ],
   "metadata": {
    "collapsed": false,
    "pycharm": {
     "name": "#%%\n"
    }
   }
  },
  {
   "cell_type": "code",
   "execution_count": 17,
   "outputs": [],
   "source": [
    "X_test = df_test[feature_cols]\n",
    "X_test_transformed = pd.DataFrame(pipeline.transform(X_test), columns=X_test.columns, index=X_test.index)"
   ],
   "metadata": {
    "collapsed": false,
    "pycharm": {
     "name": "#%%\n"
    }
   }
  },
  {
   "cell_type": "code",
   "execution_count": 18,
   "outputs": [
    {
     "name": "stdout",
     "output_type": "stream",
     "text": [
      "6950/6950 [==============================] - 12s 2ms/step\n",
      "8688/8688 [==============================] - 20s 2ms/step\n"
     ]
    }
   ],
   "source": [
    "reconstruct_train = autoencoder.predict(X_train_transformed)\n",
    "reconstruct_test = autoencoder.predict(X_test_transformed)"
   ],
   "metadata": {
    "collapsed": false,
    "pycharm": {
     "name": "#%%\n"
    }
   }
  },
  {
   "cell_type": "code",
   "execution_count": 19,
   "outputs": [],
   "source": [
    "import numpy as np\n",
    "mse_train = np.mean(np.power(X_train_transformed - reconstruct_train, 2), axis=1)\n",
    "mse_test = np.mean(np.power(X_test_transformed - reconstruct_test, 2), axis=1)"
   ],
   "metadata": {
    "collapsed": false,
    "pycharm": {
     "name": "#%%\n"
    }
   }
  },
  {
   "cell_type": "code",
   "execution_count": 20,
   "outputs": [],
   "source": [
    "mse_scaler = MinMaxScaler()\n",
    "mse_train_transformed = pd.DataFrame(mse_scaler.fit_transform(pd.DataFrame(mse_train)), index=mse_train.index, columns=['MSE'])\n",
    "mse_train_transformed['flag'] =0\n",
    "mse_test_transformed = pd.DataFrame(mse_scaler.transform(pd.DataFrame(mse_test)), index = mse_test.index, columns=['MSE'])\n",
    "mse_test_transformed['flag'] = 1"
   ],
   "metadata": {
    "collapsed": false,
    "pycharm": {
     "name": "#%%\n"
    }
   }
  },
  {
   "cell_type": "code",
   "execution_count": 21,
   "outputs": [],
   "source": [
    "mse_merged = pd.concat([mse_train_transformed, mse_test_transformed])\n",
    "mse_merged.sort_values(by=['MSE'], inplace=True)\n",
    "mse_merged.reset_index(inplace=True)"
   ],
   "metadata": {
    "collapsed": false,
    "pycharm": {
     "name": "#%%\n"
    }
   }
  },
  {
   "cell_type": "code",
   "execution_count": 25,
   "outputs": [
    {
     "data": {
      "text/plain": "<matplotlib.collections.PathCollection at 0x7feffd5e7950>"
     },
     "execution_count": 25,
     "metadata": {},
     "output_type": "execute_result"
    },
    {
     "data": {
      "text/plain": "<Figure size 640x480 with 1 Axes>",
      "image/png": "[encoded data removed]"
     },
     "metadata": {},
     "output_type": "display_data"
    }
   ],
   "source": [
    "import matplotlib.pyplot as plt\n",
    "plt.scatter(mse_merged.index, mse_merged['MSE'], c=mse_merged['flag'].apply(lambda x: 'green' if x==0 else 'red'))"
   ],
   "metadata": {
    "collapsed": false,
    "pycharm": {
     "name": "#%%\n"
    }
   }
  },
  {
   "cell_type": "code",
   "execution_count": 23,
   "outputs": [
    {
     "data": {
      "text/plain": "<AxesSubplot:ylabel='Frequency'>"
     },
     "execution_count": 23,
     "metadata": {},
     "output_type": "execute_result"
    },
    {
     "data": {
      "text/plain": "<Figure size 640x480 with 1 Axes>",
      "image/png": "[encoded data removed]"
     },
     "metadata": {},
     "output_type": "display_data"
    }
   ],
   "source": [
    "import matplotlib.pyplot as plt\n",
    "ax = plt.gca()\n",
    "mse_train_transformed.plot(kind='hist',ax=ax, bins=10, alpha=0.01)\n",
    "mse_test_transformed.plot(kind='hist', ax=ax,bins=10, alpha=0.01)"
   ],
   "metadata": {
    "collapsed": false,
    "pycharm": {
     "name": "#%%\n"
    }
   }
  },
  {
   "cell_type": "code",
   "execution_count": 24,
   "outputs": [
    {
     "data": {
      "text/plain": "<Figure size 600x600 with 1 Axes>",
      "image/png": "[encoded data removed]"
     },
     "metadata": {},
     "output_type": "display_data"
    }
   ],
   "source": [
    "\n",
    "fig, ax = plt.subplots(figsize=(6,6))\n",
    "ax.hist(mse_train, bins=50, density=True, label=\"train\", alpha=.6, color=\"green\")\n",
    "ax.hist(mse_test, bins=50, density=True, label=\"test\", alpha=.6, color=\"red\")\n",
    "plt.show()"
   ],
   "metadata": {
    "collapsed": false,
    "pycharm": {
     "name": "#%%\n"
    }
   }
  }
 ],
 "metadata": {
  "kernelspec": {
   "display_name": "Python 3",
   "language": "python",
   "name": "python3"
  },
  "language_info": {
   "codemirror_mode": {
    "name": "ipython",
    "version": 2
   },
   "file_extension": ".py",
   "mimetype": "text/x-python",
   "name": "python",
   "nbconvert_exporter": "python",
   "pygments_lexer": "ipython2",
   "version": "2.7.6"
  }
 },
 "nbformat": 4,
 "nbformat_minor": 0
}